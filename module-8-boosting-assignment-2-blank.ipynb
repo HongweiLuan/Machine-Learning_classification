{
 "cells": [
  {
   "cell_type": "markdown",
   "metadata": {},
   "source": [
    "# Boosting a decision stump\n",
    "\n",
    "The goal of this notebook is to implement your own boosting module.\n",
    "\n",
    "**Brace yourselves**! This is going to be a fun and challenging assignment.\n",
    "\n",
    "\n",
    "* Use SFrames to do some feature engineering.\n",
    "* Modify the decision trees to incorporate weights.\n",
    "* Implement Adaboost ensembling.\n",
    "* Use your implementation of Adaboost to train a boosted decision stump ensemble.\n",
    "* Evaluate the effect of boosting (adding more decision stumps) on performance of the model.\n",
    "* Explore the robustness of Adaboost to overfitting.\n",
    "\n",
    "Let's get started!"
   ]
  },
  {
   "cell_type": "markdown",
   "metadata": {},
   "source": [
    "## Fire up GraphLab Create"
   ]
  },
  {
   "cell_type": "markdown",
   "metadata": {},
   "source": [
    "Make sure you have the latest version of GraphLab Create **(1.8.3 or newer)**. Upgrade by\n",
    "```\n",
    "   pip install graphlab-create --upgrade\n",
    "```\n",
    "See [this page](https://dato.com/download/) for detailed instructions on upgrading."
   ]
  },
  {
   "cell_type": "code",
   "execution_count": 1,
   "metadata": {
    "collapsed": false
   },
   "outputs": [],
   "source": [
    "import graphlab\n",
    "import matplotlib.pyplot as plt\n",
    "%matplotlib inline"
   ]
  },
  {
   "cell_type": "markdown",
   "metadata": {},
   "source": [
    "# Getting the data ready"
   ]
  },
  {
   "cell_type": "markdown",
   "metadata": {},
   "source": [
    "We will be using the same [LendingClub](https://www.lendingclub.com/) dataset as in the previous assignment."
   ]
  },
  {
   "cell_type": "code",
   "execution_count": 2,
   "metadata": {
    "collapsed": false
   },
   "outputs": [
    {
     "name": "stderr",
     "output_type": "stream",
     "text": [
      "[INFO] graphlab.cython.cy_server: GraphLab Create v2.1 started. Logging: C:\\Users\\HONGWEI\\AppData\\Local\\Temp\\graphlab_server_1487793390.log.0\n"
     ]
    },
    {
     "name": "stdout",
     "output_type": "stream",
     "text": [
      "This non-commercial license of GraphLab Create for academic use is assigned to hongwei.luan@uconn.edu and will expire on January 14, 2018.\n"
     ]
    }
   ],
   "source": [
    "loans = graphlab.SFrame('lending-club-data.gl/')"
   ]
  },
  {
   "cell_type": "markdown",
   "metadata": {},
   "source": [
    "### Extracting the target and the feature columns\n",
    "\n",
    "We will now repeat some of the feature processing steps that we saw in the previous assignment:\n",
    "\n",
    "First, we re-assign the target to have +1 as a safe (good) loan, and -1 as a risky (bad) loan.\n",
    "\n",
    "Next, we select four categorical features: \n",
    "1. grade of the loan \n",
    "2. the length of the loan term\n",
    "3. the home ownership status: own, mortgage, rent\n",
    "4. number of years of employment."
   ]
  },
  {
   "cell_type": "code",
   "execution_count": 3,
   "metadata": {
    "collapsed": false
   },
   "outputs": [
    {
     "data": {
      "text/html": [
       "<pre>Less than 8 successfully started. Using only 7 workers.</pre>"
      ],
      "text/plain": [
       "Less than 8 successfully started. Using only 7 workers."
      ]
     },
     "metadata": {},
     "output_type": "display_data"
    },
    {
     "data": {
      "text/html": [
       "<pre>All operations will proceed as normal, but lambda operations will not be able to use all available cores.</pre>"
      ],
      "text/plain": [
       "All operations will proceed as normal, but lambda operations will not be able to use all available cores."
      ]
     },
     "metadata": {},
     "output_type": "display_data"
    },
    {
     "data": {
      "text/html": [
       "<pre>(The location of the log file is printed at the start of the GraphLab server).</pre>"
      ],
      "text/plain": [
       "(The location of the log file is printed at the start of the GraphLab server)."
      ]
     },
     "metadata": {},
     "output_type": "display_data"
    }
   ],
   "source": [
    "features = ['grade',              # grade of the loan\n",
    "            'term',               # the term of the loan\n",
    "            'home_ownership',     # home ownership status: own, mortgage or rent\n",
    "            'emp_length',         # number of years of employment\n",
    "           ]\n",
    "loans['safe_loans'] = loans['bad_loans'].apply(lambda x : +1 if x==0 else -1)\n",
    "loans.remove_column('bad_loans')\n",
    "target = 'safe_loans'\n",
    "loans = loans[features + [target]]"
   ]
  },
  {
   "cell_type": "markdown",
   "metadata": {},
   "source": [
    "### Subsample dataset to make sure classes are balanced"
   ]
  },
  {
   "cell_type": "markdown",
   "metadata": {},
   "source": [
    "Just as we did in the previous assignment, we will undersample the larger class (safe loans) in order to balance out our dataset. This means we are throwing away many data points. We use `seed=1` so everyone gets the same results."
   ]
  },
  {
   "cell_type": "code",
   "execution_count": 4,
   "metadata": {
    "collapsed": false
   },
   "outputs": [
    {
     "name": "stdout",
     "output_type": "stream",
     "text": [
      "Percentage of safe loans                 : 0.502236174422\n",
      "Percentage of risky loans                : 0.497763825578\n",
      "Total number of loans in our new dataset : 46508\n"
     ]
    }
   ],
   "source": [
    "safe_loans_raw = loans[loans[target] == 1]\n",
    "risky_loans_raw = loans[loans[target] == -1]\n",
    "\n",
    "# Undersample the safe loans.\n",
    "percentage = len(risky_loans_raw)/float(len(safe_loans_raw))\n",
    "risky_loans = risky_loans_raw\n",
    "safe_loans = safe_loans_raw.sample(percentage, seed=1)\n",
    "loans_data = risky_loans_raw.append(safe_loans)\n",
    "\n",
    "print \"Percentage of safe loans                 :\", len(safe_loans) / float(len(loans_data))\n",
    "print \"Percentage of risky loans                :\", len(risky_loans) / float(len(loans_data))\n",
    "print \"Total number of loans in our new dataset :\", len(loans_data)"
   ]
  },
  {
   "cell_type": "markdown",
   "metadata": {},
   "source": [
    "**Note:** There are many approaches for dealing with imbalanced data, including some where we modify the learning algorithm. These approaches are beyond the scope of this course, but some of them are reviewed in this [paper](http://ieeexplore.ieee.org/xpl/login.jsp?tp=&arnumber=5128907&url=http%3A%2F%2Fieeexplore.ieee.org%2Fiel5%2F69%2F5173046%2F05128907.pdf%3Farnumber%3D5128907 ). For this assignment, we use the simplest possible approach, where we subsample the overly represented class to get a more balanced dataset. In general, and especially when the data is highly imbalanced, we recommend using more advanced methods."
   ]
  },
  {
   "cell_type": "markdown",
   "metadata": {},
   "source": [
    "### Transform categorical data into binary features"
   ]
  },
  {
   "cell_type": "markdown",
   "metadata": {},
   "source": [
    "In this assignment, we will work with **binary decision trees**. Since all of our features are currently categorical features, we want to turn them into binary features using 1-hot encoding. \n",
    "\n",
    "We can do so with the following code block (see the first assignments for more details):"
   ]
  },
  {
   "cell_type": "code",
   "execution_count": 5,
   "metadata": {
    "collapsed": true
   },
   "outputs": [],
   "source": [
    "loans_data = risky_loans.append(safe_loans)\n",
    "for feature in features:\n",
    "    loans_data_one_hot_encoded = loans_data[feature].apply(lambda x: {x: 1})    \n",
    "    loans_data_unpacked = loans_data_one_hot_encoded.unpack(column_name_prefix=feature)\n",
    "    \n",
    "    # Change None's to 0's\n",
    "    for column in loans_data_unpacked.column_names():\n",
    "        loans_data_unpacked[column] = loans_data_unpacked[column].fillna(0)\n",
    "\n",
    "    loans_data.remove_column(feature)\n",
    "    loans_data.add_columns(loans_data_unpacked)"
   ]
  },
  {
   "cell_type": "markdown",
   "metadata": {},
   "source": [
    "Let's see what the feature columns look like now:"
   ]
  },
  {
   "cell_type": "code",
   "execution_count": 6,
   "metadata": {
    "collapsed": false
   },
   "outputs": [
    {
     "data": {
      "text/plain": [
       "['grade.A',\n",
       " 'grade.B',\n",
       " 'grade.C',\n",
       " 'grade.D',\n",
       " 'grade.E',\n",
       " 'grade.F',\n",
       " 'grade.G',\n",
       " 'term. 36 months',\n",
       " 'term. 60 months',\n",
       " 'home_ownership.MORTGAGE',\n",
       " 'home_ownership.OTHER',\n",
       " 'home_ownership.OWN',\n",
       " 'home_ownership.RENT',\n",
       " 'emp_length.1 year',\n",
       " 'emp_length.10+ years',\n",
       " 'emp_length.2 years',\n",
       " 'emp_length.3 years',\n",
       " 'emp_length.4 years',\n",
       " 'emp_length.5 years',\n",
       " 'emp_length.6 years',\n",
       " 'emp_length.7 years',\n",
       " 'emp_length.8 years',\n",
       " 'emp_length.9 years',\n",
       " 'emp_length.< 1 year',\n",
       " 'emp_length.n/a']"
      ]
     },
     "execution_count": 6,
     "metadata": {},
     "output_type": "execute_result"
    }
   ],
   "source": [
    "features = loans_data.column_names()\n",
    "features.remove('safe_loans')  # Remove the response variable\n",
    "features"
   ]
  },
  {
   "cell_type": "markdown",
   "metadata": {},
   "source": [
    "### Train-test split\n",
    "\n",
    "We split the data into training and test sets with 80% of the data in the training set and 20% of the data in the test set. We use `seed=1` so that everyone gets the same result."
   ]
  },
  {
   "cell_type": "code",
   "execution_count": 7,
   "metadata": {
    "collapsed": true
   },
   "outputs": [],
   "source": [
    "train_data, test_data = loans_data.random_split(0.8, seed=1)"
   ]
  },
  {
   "cell_type": "markdown",
   "metadata": {},
   "source": [
    "# Weighted decision trees"
   ]
  },
  {
   "cell_type": "markdown",
   "metadata": {},
   "source": [
    "Let's modify our decision tree code from Module 5 to support weighting of individual data points."
   ]
  },
  {
   "cell_type": "markdown",
   "metadata": {},
   "source": [
    "### Weighted error definition\n",
    "\n",
    "Consider a model with $N$ data points with:\n",
    "* Predictions $\\hat{y}_1 ... \\hat{y}_n$ \n",
    "* Target $y_1 ... y_n$ \n",
    "* Data point weights $\\alpha_1 ... \\alpha_n$.\n",
    "\n",
    "Then the **weighted error** is defined by:\n",
    "$$\n",
    "\\mathrm{E}(\\mathbf{\\alpha}, \\mathbf{\\hat{y}}) = \\frac{\\sum_{i=1}^{n} \\alpha_i \\times 1[y_i \\neq \\hat{y_i}]}{\\sum_{i=1}^{n} \\alpha_i}\n",
    "$$\n",
    "where $1[y_i \\neq \\hat{y_i}]$ is an indicator function that is set to $1$ if $y_i \\neq \\hat{y_i}$.\n",
    "\n",
    "\n",
    "### Write a function to compute weight of mistakes\n",
    "\n",
    "Write a function that calculates the weight of mistakes for making the \"weighted-majority\" predictions for a dataset. The function accepts two inputs:\n",
    "* `labels_in_node`: Targets $y_1 ... y_n$ \n",
    "* `data_weights`: Data point weights $\\alpha_1 ... \\alpha_n$\n",
    "\n",
    "We are interested in computing the (total) weight of mistakes, i.e.\n",
    "$$\n",
    "\\mathrm{WM}(\\mathbf{\\alpha}, \\mathbf{\\hat{y}}) = \\sum_{i=1}^{n} \\alpha_i \\times 1[y_i \\neq \\hat{y_i}].\n",
    "$$\n",
    "This quantity is analogous to the number of mistakes, except that each mistake now carries different weight. It is related to the weighted error in the following way:\n",
    "$$\n",
    "\\mathrm{E}(\\mathbf{\\alpha}, \\mathbf{\\hat{y}}) = \\frac{\\mathrm{WM}(\\mathbf{\\alpha}, \\mathbf{\\hat{y}})}{\\sum_{i=1}^{n} \\alpha_i}\n",
    "$$\n",
    "\n",
    "The function **intermediate_node_weighted_mistakes** should first compute two weights: \n",
    " * $\\mathrm{WM}_{-1}$: weight of mistakes when all predictions are $\\hat{y}_i = -1$ i.e $\\mathrm{WM}(\\mathbf{\\alpha}, \\mathbf{-1}$)\n",
    " * $\\mathrm{WM}_{+1}$: weight of mistakes when all predictions are $\\hat{y}_i = +1$ i.e $\\mbox{WM}(\\mathbf{\\alpha}, \\mathbf{+1}$)\n",
    " \n",
    " where $\\mathbf{-1}$ and $\\mathbf{+1}$ are vectors where all values are -1 and +1 respectively.\n",
    " \n",
    "After computing $\\mathrm{WM}_{-1}$ and $\\mathrm{WM}_{+1}$, the function **intermediate_node_weighted_mistakes** should return the lower of the two weights of mistakes, along with the class associated with that weight. We have provided a skeleton for you with `YOUR CODE HERE` to be filled in several places."
   ]
  },
  {
   "cell_type": "code",
   "execution_count": 9,
   "metadata": {
    "collapsed": false
   },
   "outputs": [],
   "source": [
    "\n",
    "def intermediate_node_weighted_mistakes(labels_in_node, data_weights):\n",
    "    # Sum the weights of all entries with label +1\n",
    "    total_weight_positive = sum(data_weights[labels_in_node == +1])\n",
    "    \n",
    "    # Weight of mistakes for predicting all -1's is equal to the sum above\n",
    "    ### YOUR CODE HERE\n",
    "    weighted_mistakes_all_negative = total_weight_positive\n",
    "    \n",
    "    # Sum the weights of all entries with label -1\n",
    "    ### YOUR CODE HERE\n",
    "    total_weight_negative = sum(data_weights[labels_in_node == -1])\n",
    "    \n",
    "    # Weight of mistakes for predicting all +1's is equal to the sum above\n",
    "    ### YOUR CODE HERE\n",
    "    weighted_mistakes_all_positive = total_weight_negative\n",
    "    \n",
    "    # Return the tuple (weight, class_label) representing the lower of the two weights\n",
    "    #    class_label should be an integer of value +1 or -1.\n",
    "    # If the two weights are identical, return (weighted_mistakes_all_positive,+1)\n",
    "    ### YOUR CODE HERE\n",
    "    if weighted_mistakes_all_positive <= weighted_mistakes_all_negative:\n",
    "        return weighted_mistakes_all_positive, +1\n",
    "    else:\n",
    "        return weighted_mistakes_all_negative, -1"
   ]
  },
  {
   "cell_type": "markdown",
   "metadata": {},
   "source": [
    "**Checkpoint:** Test your **intermediate_node_weighted_mistakes** function, run the following cell:"
   ]
  },
  {
   "cell_type": "code",
   "execution_count": 10,
   "metadata": {
    "collapsed": false
   },
   "outputs": [
    {
     "name": "stdout",
     "output_type": "stream",
     "text": [
      "Test passed!\n"
     ]
    }
   ],
   "source": [
    "example_labels = graphlab.SArray([-1, -1, 1, 1, 1])\n",
    "example_data_weights = graphlab.SArray([1., 2., .5, 1., 1.])\n",
    "if intermediate_node_weighted_mistakes(example_labels, example_data_weights) == (2.5, -1):\n",
    "    print 'Test passed!'\n",
    "else:\n",
    "    print 'Test failed... try again!'"
   ]
  },
  {
   "cell_type": "markdown",
   "metadata": {},
   "source": [
    "Recall that the **classification error** is defined as follows:\n",
    "$$\n",
    "\\mbox{classification error} = \\frac{\\mbox{# mistakes}}{\\mbox{# all data points}}\n",
    "$$\n",
    "\n",
    "**Quiz Question:** If we set the weights $\\mathbf{\\alpha} = 1$ for all data points, how is the weight of mistakes $\\mbox{WM}(\\mathbf{\\alpha}, \\mathbf{\\hat{y}})$ related to the `classification error`?"
   ]
  },
  {
   "cell_type": "markdown",
   "metadata": {},
   "source": [
    "### Function to pick best feature to split on"
   ]
  },
  {
   "cell_type": "markdown",
   "metadata": {
    "collapsed": false
   },
   "source": [
    "We continue modifying our decision tree code from the earlier assignment to incorporate weighting of individual data points. The next step is to pick the best feature to split on.\n",
    "\n",
    "The **best_splitting_feature** function is similar to the one from the earlier assignment with two minor modifications:\n",
    "  1. The function **best_splitting_feature** should now accept an extra parameter `data_weights` to take account of weights of data points.\n",
    "  2. Instead of computing the number of mistakes in the left and right side of the split, we compute the weight of mistakes for both sides, add up the two weights, and divide it by the total weight of the data.\n",
    "  \n",
    "Complete the following function. Comments starting with `DIFFERENT HERE` mark the sections where the weighted version differs from the original implementation."
   ]
  },
  {
   "cell_type": "code",
   "execution_count": 11,
   "metadata": {
    "collapsed": false
   },
   "outputs": [],
   "source": [
    "# If the data is identical in each feature, this function should return None\n",
    "\n",
    "def best_splitting_feature(data, features, target, data_weights):\n",
    "    print data_weights\n",
    "    \n",
    "    # These variables will keep track of the best feature and the corresponding error\n",
    "    best_feature = None\n",
    "    best_error = float('+inf') \n",
    "    num_points = float(len(data))\n",
    "\n",
    "    # Loop through each feature to consider splitting on that feature\n",
    "    for feature in features:\n",
    "        \n",
    "        # The left split will have all data points where the feature value is 0\n",
    "        # The right split will have all data points where the feature value is 1\n",
    "        left_split = data[data[feature] == 0]\n",
    "        right_split = data[data[feature] == 1]\n",
    "        \n",
    "        # Apply the same filtering to data_weights to create left_data_weights, right_data_weights\n",
    "        ## YOUR CODE HERE\n",
    "        left_data_weights = data_weights[data[feature] == 0]\n",
    "        right_data_weights = data_weights[data[feature] == 1]\n",
    "            \n",
    "        # DIFFERENT HERE\n",
    "        # Calculate the weight of mistakes for left and right sides\n",
    "        ## YOUR CODE HERE\n",
    "        left_weighted_mistakes, left_class = intermediate_node_weighted_mistakes(left_split[target], left_data_weights)\n",
    "        right_weighted_mistakes, right_class = intermediate_node_weighted_mistakes(right_split[target], right_data_weights)\n",
    "        \n",
    "        # DIFFERENT HERE\n",
    "        # Compute weighted error by computing\n",
    "        #  ( [weight of mistakes (left)] + [weight of mistakes (right)] ) / [total weight of all data points]\n",
    "        ## YOUR CODE HERE\n",
    "        error = (left_weighted_mistakes + right_weighted_mistakes) / (sum(left_data_weights) + sum(right_data_weights))\n",
    "        \n",
    "        # If this is the best error we have found so far, store the feature and the error\n",
    "        if error < best_error:\n",
    "            best_feature = feature\n",
    "            best_error = error\n",
    "    \n",
    "    # Return the best feature we found\n",
    "    return best_feature"
   ]
  },
  {
   "cell_type": "markdown",
   "metadata": {},
   "source": [
    "**Checkpoint:** Now, we have another checkpoint to make sure you are on the right track."
   ]
  },
  {
   "cell_type": "code",
   "execution_count": 12,
   "metadata": {
    "collapsed": false
   },
   "outputs": [
    {
     "name": "stdout",
     "output_type": "stream",
     "text": [
      "[1.5, 1.5, 1.5, 1.5, 1.5, 1.5, 1.5, 1.5, 1.5, 1.5, 1.5, 1.5, 1.5, 1.5, 1.5, 1.5, 1.5, 1.5, 1.5, 1.5, 1.5, 1.5, 1.5, 1.5, 1.5, 1.5, 1.5, 1.5, 1.5, 1.5, 1.5, 1.5, 1.5, 1.5, 1.5, 1.5, 1.5, 1.5, 1.5, 1.5, 1.5, 1.5, 1.5, 1.5, 1.5, 1.5, 1.5, 1.5, 1.5, 1.5, 1.5, 1.5, 1.5, 1.5, 1.5, 1.5, 1.5, 1.5, 1.5, 1.5, 1.5, 1.5, 1.5, 1.5, 1.5, 1.5, 1.5, 1.5, 1.5, 1.5, 1.5, 1.5, 1.5, 1.5, 1.5, 1.5, 1.5, 1.5, 1.5, 1.5, 1.5, 1.5, 1.5, 1.5, 1.5, 1.5, 1.5, 1.5, 1.5, 1.5, 1.5, 1.5, 1.5, 1.5, 1.5, 1.5, 1.5, 1.5, 1.5, 1.5, ... ]\n",
      "Test passed!\n"
     ]
    }
   ],
   "source": [
    "example_data_weights = graphlab.SArray(len(train_data)* [1.5])\n",
    "if best_splitting_feature(train_data, features, target, example_data_weights) == 'term. 36 months':\n",
    "    print 'Test passed!'\n",
    "else:\n",
    "    print 'Test failed... try again!'"
   ]
  },
  {
   "cell_type": "markdown",
   "metadata": {},
   "source": [
    "**Note**. If you get an exception in the line of \"the logical filter has different size than the array\", try upgradting your GraphLab Create installation to 1.8.3 or newer."
   ]
  },
  {
   "cell_type": "markdown",
   "metadata": {},
   "source": [
    "**Very Optional**. Relationship between weighted error and weight of mistakes\n",
    "\n",
    "By definition, the weighted error is the weight of mistakes divided by the weight of all data points, so\n",
    "$$\n",
    "\\mathrm{E}(\\mathbf{\\alpha}, \\mathbf{\\hat{y}}) = \\frac{\\sum_{i=1}^{n} \\alpha_i \\times 1[y_i \\neq \\hat{y_i}]}{\\sum_{i=1}^{n} \\alpha_i} = \\frac{\\mathrm{WM}(\\mathbf{\\alpha}, \\mathbf{\\hat{y}})}{\\sum_{i=1}^{n} \\alpha_i}.\n",
    "$$\n",
    "\n",
    "In the code above, we obtain $\\mathrm{E}(\\mathbf{\\alpha}, \\mathbf{\\hat{y}})$ from the two weights of mistakes from both sides, $\\mathrm{WM}(\\mathbf{\\alpha}_{\\mathrm{left}}, \\mathbf{\\hat{y}}_{\\mathrm{left}})$ and $\\mathrm{WM}(\\mathbf{\\alpha}_{\\mathrm{right}}, \\mathbf{\\hat{y}}_{\\mathrm{right}})$. First, notice that the overall weight of mistakes $\\mathrm{WM}(\\mathbf{\\alpha}, \\mathbf{\\hat{y}})$ can be broken into two weights of mistakes over either side of the split:\n",
    "$$\n",
    "\\mathrm{WM}(\\mathbf{\\alpha}, \\mathbf{\\hat{y}})\n",
    "= \\sum_{i=1}^{n} \\alpha_i \\times 1[y_i \\neq \\hat{y_i}]\n",
    "= \\sum_{\\mathrm{left}} \\alpha_i \\times 1[y_i \\neq \\hat{y_i}]\n",
    " + \\sum_{\\mathrm{right}} \\alpha_i \\times 1[y_i \\neq \\hat{y_i}]\\\\\n",
    "= \\mathrm{WM}(\\mathbf{\\alpha}_{\\mathrm{left}}, \\mathbf{\\hat{y}}_{\\mathrm{left}}) + \\mathrm{WM}(\\mathbf{\\alpha}_{\\mathrm{right}}, \\mathbf{\\hat{y}}_{\\mathrm{right}})\n",
    "$$\n",
    "We then divide through by the total weight of all data points to obtain $\\mathrm{E}(\\mathbf{\\alpha}, \\mathbf{\\hat{y}})$:\n",
    "$$\n",
    "\\mathrm{E}(\\mathbf{\\alpha}, \\mathbf{\\hat{y}})\n",
    "= \\frac{\\mathrm{WM}(\\mathbf{\\alpha}_{\\mathrm{left}}, \\mathbf{\\hat{y}}_{\\mathrm{left}}) + \\mathrm{WM}(\\mathbf{\\alpha}_{\\mathrm{right}}, \\mathbf{\\hat{y}}_{\\mathrm{right}})}{\\sum_{i=1}^{n} \\alpha_i}\n",
    "$$"
   ]
  },
  {
   "cell_type": "markdown",
   "metadata": {},
   "source": [
    "### Building the tree\n",
    "\n",
    "With the above functions implemented correctly, we are now ready to build our decision tree. Recall from the previous assignments that each node in the decision tree is represented as a dictionary which contains the following keys:\n",
    "\n",
    "    { \n",
    "       'is_leaf'            : True/False.\n",
    "       'prediction'         : Prediction at the leaf node.\n",
    "       'left'               : (dictionary corresponding to the left tree).\n",
    "       'right'              : (dictionary corresponding to the right tree).\n",
    "       'features_remaining' : List of features that are posible splits.\n",
    "    }\n",
    "    \n",
    "Let us start with a function that creates a leaf node given a set of target values:"
   ]
  },
  {
   "cell_type": "code",
   "execution_count": 13,
   "metadata": {
    "collapsed": true
   },
   "outputs": [],
   "source": [
    "def create_leaf(target_values, data_weights):\n",
    "    \n",
    "    # Create a leaf node\n",
    "    leaf = {'splitting_feature' : None,\n",
    "            'is_leaf': True}\n",
    "    \n",
    "    # Computed weight of mistakes.\n",
    "    weighted_error, best_class = intermediate_node_weighted_mistakes(target_values, data_weights)\n",
    "    # Store the predicted class (1 or -1) in leaf['prediction']\n",
    "    leaf['prediction'] = best_class ## YOUR CODE HERE\n",
    "    \n",
    "    return leaf "
   ]
  },
  {
   "cell_type": "markdown",
   "metadata": {},
   "source": [
    "We provide a function that learns a weighted decision tree recursively and implements 3 stopping conditions:\n",
    "1. All data points in a node are from the same class.\n",
    "2. No more features to split on.\n",
    "3. Stop growing the tree when the tree depth reaches **max_depth**. "
   ]
  },
  {
   "cell_type": "code",
   "execution_count": 14,
   "metadata": {
    "collapsed": false
   },
   "outputs": [],
   "source": [
    "def weighted_decision_tree_create(data, features, target, data_weights, current_depth = 1, max_depth = 10):\n",
    "    remaining_features = features[:] # Make a copy of the features.\n",
    "    target_values = data[target]\n",
    "    print \"--------------------------------------------------------------------\"\n",
    "    print \"Subtree, depth = %s (%s data points).\" % (current_depth, len(target_values))\n",
    "    \n",
    "    # Stopping condition 1. Error is 0.\n",
    "    if intermediate_node_weighted_mistakes(target_values, data_weights)[0] <= 1e-15:\n",
    "        print \"Stopping condition 1 reached.\"                \n",
    "        return create_leaf(target_values, data_weights)\n",
    "    \n",
    "    # Stopping condition 2. No more features.\n",
    "    if remaining_features == []:\n",
    "        print \"Stopping condition 2 reached.\"                \n",
    "        return create_leaf(target_values, data_weights)    \n",
    "    \n",
    "    # Additional stopping condition (limit tree depth)\n",
    "    if current_depth > max_depth:\n",
    "        print \"Reached maximum depth. Stopping for now.\"\n",
    "        return create_leaf(target_values, data_weights)\n",
    "    \n",
    "    splitting_feature = best_splitting_feature(data, features, target, data_weights)\n",
    "    remaining_features.remove(splitting_feature)\n",
    "        \n",
    "    left_split = data[data[splitting_feature] == 0]\n",
    "    right_split = data[data[splitting_feature] == 1]\n",
    "    \n",
    "    left_data_weights = data_weights[data[splitting_feature] == 0]\n",
    "    right_data_weights = data_weights[data[splitting_feature] == 1]\n",
    "    \n",
    "    print \"Split on feature %s. (%s, %s)\" % (\\\n",
    "              splitting_feature, len(left_split), len(right_split))\n",
    "    \n",
    "    # Create a leaf node if the split is \"perfect\"\n",
    "    if len(left_split) == len(data):\n",
    "        print \"Creating leaf node.\"\n",
    "        return create_leaf(left_split[target], data_weights)\n",
    "    if len(right_split) == len(data):\n",
    "        print \"Creating leaf node.\"\n",
    "        return create_leaf(right_split[target], data_weights)\n",
    "    \n",
    "    # Repeat (recurse) on left and right subtrees\n",
    "    left_tree = weighted_decision_tree_create(\n",
    "        left_split, remaining_features, target, left_data_weights, current_depth + 1, max_depth)\n",
    "    right_tree = weighted_decision_tree_create(\n",
    "        right_split, remaining_features, target, right_data_weights, current_depth + 1, max_depth)\n",
    "    \n",
    "    return {'is_leaf'          : False, \n",
    "            'prediction'       : None,\n",
    "            'splitting_feature': splitting_feature,\n",
    "            'left'             : left_tree, \n",
    "            'right'            : right_tree}"
   ]
  },
  {
   "cell_type": "markdown",
   "metadata": {},
   "source": [
    "Here is a recursive function to count the nodes in your tree:"
   ]
  },
  {
   "cell_type": "code",
   "execution_count": 15,
   "metadata": {
    "collapsed": false
   },
   "outputs": [],
   "source": [
    "def count_nodes(tree):\n",
    "    if tree['is_leaf']:\n",
    "        return 1\n",
    "    return 1 + count_nodes(tree['left']) + count_nodes(tree['right'])"
   ]
  },
  {
   "cell_type": "markdown",
   "metadata": {},
   "source": [
    "Run the following test code to check your implementation. Make sure you get **'Test passed'** before proceeding."
   ]
  },
  {
   "cell_type": "code",
   "execution_count": 16,
   "metadata": {
    "collapsed": false
   },
   "outputs": [
    {
     "name": "stdout",
     "output_type": "stream",
     "text": [
      "--------------------------------------------------------------------\n",
      "Subtree, depth = 1 (37224 data points).\n",
      "[1.0, 1.0, 1.0, 1.0, 1.0, 1.0, 1.0, 1.0, 1.0, 1.0, 1.0, 1.0, 1.0, 1.0, 1.0, 1.0, 1.0, 1.0, 1.0, 1.0, 1.0, 1.0, 1.0, 1.0, 1.0, 1.0, 1.0, 1.0, 1.0, 1.0, 1.0, 1.0, 1.0, 1.0, 1.0, 1.0, 1.0, 1.0, 1.0, 1.0, 1.0, 1.0, 1.0, 1.0, 1.0, 1.0, 1.0, 1.0, 1.0, 1.0, 1.0, 1.0, 1.0, 1.0, 1.0, 1.0, 1.0, 1.0, 1.0, 1.0, 1.0, 1.0, 1.0, 1.0, 1.0, 1.0, 1.0, 1.0, 1.0, 1.0, 1.0, 1.0, 1.0, 1.0, 1.0, 1.0, 1.0, 1.0, 1.0, 1.0, 1.0, 1.0, 1.0, 1.0, 1.0, 1.0, 1.0, 1.0, 1.0, 1.0, 1.0, 1.0, 1.0, 1.0, 1.0, 1.0, 1.0, 1.0, 1.0, 1.0, ... ]\n",
      "Split on feature term. 36 months. (9223, 28001)\n",
      "--------------------------------------------------------------------\n",
      "Subtree, depth = 2 (9223 data points).\n",
      "[1.0, 1.0, 1.0, 1.0, 1.0, 1.0, 1.0, 1.0, 1.0, 1.0, 1.0, 1.0, 1.0, 1.0, 1.0, 1.0, 1.0, 1.0, 1.0, 1.0, 1.0, 1.0, 1.0, 1.0, 1.0, 1.0, 1.0, 1.0, 1.0, 1.0, 1.0, 1.0, 1.0, 1.0, 1.0, 1.0, 1.0, 1.0, 1.0, 1.0, 1.0, 1.0, 1.0, 1.0, 1.0, 1.0, 1.0, 1.0, 1.0, 1.0, 1.0, 1.0, 1.0, 1.0, 1.0, 1.0, 1.0, 1.0, 1.0, 1.0, 1.0, 1.0, 1.0, 1.0, 1.0, 1.0, 1.0, 1.0, 1.0, 1.0, 1.0, 1.0, 1.0, 1.0, 1.0, 1.0, 1.0, 1.0, 1.0, 1.0, 1.0, 1.0, 1.0, 1.0, 1.0, 1.0, 1.0, 1.0, 1.0, 1.0, 1.0, 1.0, 1.0, 1.0, 1.0, 1.0, 1.0, 1.0, 1.0, 1.0, ... ]\n",
      "Split on feature grade.A. (9122, 101)\n",
      "--------------------------------------------------------------------\n",
      "Subtree, depth = 3 (9122 data points).\n",
      "Reached maximum depth. Stopping for now.\n",
      "--------------------------------------------------------------------\n",
      "Subtree, depth = 3 (101 data points).\n",
      "Reached maximum depth. Stopping for now.\n",
      "--------------------------------------------------------------------\n",
      "Subtree, depth = 2 (28001 data points).\n",
      "[1.0, 1.0, 1.0, 1.0, 1.0, 1.0, 1.0, 1.0, 1.0, 1.0, 1.0, 1.0, 1.0, 1.0, 1.0, 1.0, 1.0, 1.0, 1.0, 1.0, 1.0, 1.0, 1.0, 1.0, 1.0, 1.0, 1.0, 1.0, 1.0, 1.0, 1.0, 1.0, 1.0, 1.0, 1.0, 1.0, 1.0, 1.0, 1.0, 1.0, 1.0, 1.0, 1.0, 1.0, 1.0, 1.0, 1.0, 1.0, 1.0, 1.0, 1.0, 1.0, 1.0, 1.0, 1.0, 1.0, 1.0, 1.0, 1.0, 1.0, 1.0, 1.0, 1.0, 1.0, 1.0, 1.0, 1.0, 1.0, 1.0, 1.0, 1.0, 1.0, 1.0, 1.0, 1.0, 1.0, 1.0, 1.0, 1.0, 1.0, 1.0, 1.0, 1.0, 1.0, 1.0, 1.0, 1.0, 1.0, 1.0, 1.0, 1.0, 1.0, 1.0, 1.0, 1.0, 1.0, 1.0, 1.0, 1.0, 1.0, ... ]\n",
      "Split on feature grade.D. (23300, 4701)\n",
      "--------------------------------------------------------------------\n",
      "Subtree, depth = 3 (23300 data points).\n",
      "Reached maximum depth. Stopping for now.\n",
      "--------------------------------------------------------------------\n",
      "Subtree, depth = 3 (4701 data points).\n",
      "Reached maximum depth. Stopping for now.\n",
      "Test passed!\n"
     ]
    }
   ],
   "source": [
    "example_data_weights = graphlab.SArray([1.0 for i in range(len(train_data))])\n",
    "small_data_decision_tree = weighted_decision_tree_create(train_data, features, target,\n",
    "                                        example_data_weights, max_depth=2)\n",
    "if count_nodes(small_data_decision_tree) == 7:\n",
    "    print 'Test passed!'\n",
    "else:\n",
    "    print 'Test failed... try again!'\n",
    "    print 'Number of nodes found:', count_nodes(small_data_decision_tree)\n",
    "    print 'Number of nodes that should be there: 7' "
   ]
  },
  {
   "cell_type": "markdown",
   "metadata": {},
   "source": [
    "Let us take a quick look at what the trained tree is like. You should get something that looks like the following\n",
    "\n",
    "```\n",
    "{'is_leaf': False,\n",
    "    'left': {'is_leaf': False,\n",
    "        'left': {'is_leaf': True, 'prediction': -1, 'splitting_feature': None},\n",
    "        'prediction': None,\n",
    "        'right': {'is_leaf': True, 'prediction': 1, 'splitting_feature': None},\n",
    "        'splitting_feature': 'grade.A'\n",
    "     },\n",
    "    'prediction': None,\n",
    "    'right': {'is_leaf': False,\n",
    "        'left': {'is_leaf': True, 'prediction': 1, 'splitting_feature': None},\n",
    "        'prediction': None,\n",
    "        'right': {'is_leaf': True, 'prediction': -1, 'splitting_feature': None},\n",
    "        'splitting_feature': 'grade.D'\n",
    "     },\n",
    "     'splitting_feature': 'term. 36 months'\n",
    "}```"
   ]
  },
  {
   "cell_type": "code",
   "execution_count": 17,
   "metadata": {
    "collapsed": false
   },
   "outputs": [
    {
     "data": {
      "text/plain": [
       "{'is_leaf': False,\n",
       " 'left': {'is_leaf': False,\n",
       "  'left': {'is_leaf': True, 'prediction': -1, 'splitting_feature': None},\n",
       "  'prediction': None,\n",
       "  'right': {'is_leaf': True, 'prediction': 1, 'splitting_feature': None},\n",
       "  'splitting_feature': 'grade.A'},\n",
       " 'prediction': None,\n",
       " 'right': {'is_leaf': False,\n",
       "  'left': {'is_leaf': True, 'prediction': 1, 'splitting_feature': None},\n",
       "  'prediction': None,\n",
       "  'right': {'is_leaf': True, 'prediction': -1, 'splitting_feature': None},\n",
       "  'splitting_feature': 'grade.D'},\n",
       " 'splitting_feature': 'term. 36 months'}"
      ]
     },
     "execution_count": 17,
     "metadata": {},
     "output_type": "execute_result"
    }
   ],
   "source": [
    "small_data_decision_tree"
   ]
  },
  {
   "cell_type": "markdown",
   "metadata": {},
   "source": [
    "### Making predictions with a weighted decision tree"
   ]
  },
  {
   "cell_type": "markdown",
   "metadata": {},
   "source": [
    "We give you a function that classifies one data point. It can also return the probability if you want to play around with that as well."
   ]
  },
  {
   "cell_type": "code",
   "execution_count": 18,
   "metadata": {
    "collapsed": true
   },
   "outputs": [],
   "source": [
    "def classify(tree, x, annotate = False):   \n",
    "    # If the node is a leaf node.\n",
    "    if tree['is_leaf']:\n",
    "        if annotate: \n",
    "            print \"At leaf, predicting %s\" % tree['prediction']\n",
    "        return tree['prediction'] \n",
    "    else:\n",
    "        # Split on feature.\n",
    "        split_feature_value = x[tree['splitting_feature']]\n",
    "        if annotate: \n",
    "            print \"Split on %s = %s\" % (tree['splitting_feature'], split_feature_value)\n",
    "        if split_feature_value == 0:\n",
    "            return classify(tree['left'], x, annotate)\n",
    "        else:\n",
    "            return classify(tree['right'], x, annotate)"
   ]
  },
  {
   "cell_type": "markdown",
   "metadata": {},
   "source": [
    "### Evaluating the tree\n",
    "\n",
    "Now, we will write a function to evaluate a decision tree by computing the classification error of the tree on the given dataset.\n",
    "\n",
    "Again, recall that the **classification error** is defined as follows:\n",
    "$$\n",
    "\\mbox{classification error} = \\frac{\\mbox{# mistakes}}{\\mbox{# all data points}}\n",
    "$$\n",
    "\n",
    "The function called **evaluate_classification_error** takes in as input:\n",
    "1. `tree` (as described above)\n",
    "2. `data` (an SFrame)\n",
    "\n",
    "The function does not change because of adding data point weights."
   ]
  },
  {
   "cell_type": "code",
   "execution_count": 19,
   "metadata": {
    "collapsed": true
   },
   "outputs": [],
   "source": [
    "def evaluate_classification_error(tree, data):\n",
    "    # Apply the classify(tree, x) to each row in your data\n",
    "    prediction = data.apply(lambda x: classify(tree, x))\n",
    "    \n",
    "    # Once you've made the predictions, calculate the classification error\n",
    "    return (prediction != data[target]).sum() / float(len(data))"
   ]
  },
  {
   "cell_type": "code",
   "execution_count": 20,
   "metadata": {
    "collapsed": false
   },
   "outputs": [
    {
     "data": {
      "text/plain": [
       "0.3981042654028436"
      ]
     },
     "execution_count": 20,
     "metadata": {},
     "output_type": "execute_result"
    }
   ],
   "source": [
    "evaluate_classification_error(small_data_decision_tree, test_data)"
   ]
  },
  {
   "cell_type": "markdown",
   "metadata": {},
   "source": [
    "### Example: Training a weighted decision tree\n",
    "\n",
    "To build intuition on how weighted data points affect the tree being built, consider the following:\n",
    "\n",
    "Suppose we only care about making good predictions for the **first 10 and last 10 items** in `train_data`, we assign weights:\n",
    "* 1 to the last 10 items \n",
    "* 1 to the first 10 items \n",
    "* and 0 to the rest. \n",
    "\n",
    "Let us fit a weighted decision tree with `max_depth = 2`."
   ]
  },
  {
   "cell_type": "code",
   "execution_count": 21,
   "metadata": {
    "collapsed": false
   },
   "outputs": [
    {
     "name": "stdout",
     "output_type": "stream",
     "text": [
      "--------------------------------------------------------------------\n",
      "Subtree, depth = 1 (37224 data points).\n",
      "[1.0, 1.0, 1.0, 1.0, 1.0, 1.0, 1.0, 1.0, 1.0, 1.0, 0.0, 0.0, 0.0, 0.0, 0.0, 0.0, 0.0, 0.0, 0.0, 0.0, 0.0, 0.0, 0.0, 0.0, 0.0, 0.0, 0.0, 0.0, 0.0, 0.0, 0.0, 0.0, 0.0, 0.0, 0.0, 0.0, 0.0, 0.0, 0.0, 0.0, 0.0, 0.0, 0.0, 0.0, 0.0, 0.0, 0.0, 0.0, 0.0, 0.0, 0.0, 0.0, 0.0, 0.0, 0.0, 0.0, 0.0, 0.0, 0.0, 0.0, 0.0, 0.0, 0.0, 0.0, 0.0, 0.0, 0.0, 0.0, 0.0, 0.0, 0.0, 0.0, 0.0, 0.0, 0.0, 0.0, 0.0, 0.0, 0.0, 0.0, 0.0, 0.0, 0.0, 0.0, 0.0, 0.0, 0.0, 0.0, 0.0, 0.0, 0.0, 0.0, 0.0, 0.0, 0.0, 0.0, 0.0, 0.0, 0.0, 0.0, ... ]\n",
      "Split on feature home_ownership.RENT. (20514, 16710)\n",
      "--------------------------------------------------------------------\n",
      "Subtree, depth = 2 (20514 data points).\n",
      "[1.0, 1.0, 0.0, 0.0, 0.0, 0.0, 0.0, 0.0, 0.0, 0.0, 0.0, 0.0, 0.0, 0.0, 0.0, 0.0, 0.0, 0.0, 0.0, 0.0, 0.0, 0.0, 0.0, 0.0, 0.0, 0.0, 0.0, 0.0, 0.0, 0.0, 0.0, 0.0, 0.0, 0.0, 0.0, 0.0, 0.0, 0.0, 0.0, 0.0, 0.0, 0.0, 0.0, 0.0, 0.0, 0.0, 0.0, 0.0, 0.0, 0.0, 0.0, 0.0, 0.0, 0.0, 0.0, 0.0, 0.0, 0.0, 0.0, 0.0, 0.0, 0.0, 0.0, 0.0, 0.0, 0.0, 0.0, 0.0, 0.0, 0.0, 0.0, 0.0, 0.0, 0.0, 0.0, 0.0, 0.0, 0.0, 0.0, 0.0, 0.0, 0.0, 0.0, 0.0, 0.0, 0.0, 0.0, 0.0, 0.0, 0.0, 0.0, 0.0, 0.0, 0.0, 0.0, 0.0, 0.0, 0.0, 0.0, 0.0, ... ]\n",
      "Split on feature grade.F. (19613, 901)\n",
      "--------------------------------------------------------------------\n",
      "Subtree, depth = 3 (19613 data points).\n",
      "Reached maximum depth. Stopping for now.\n",
      "--------------------------------------------------------------------\n",
      "Subtree, depth = 3 (901 data points).\n",
      "Stopping condition 1 reached.\n",
      "--------------------------------------------------------------------\n",
      "Subtree, depth = 2 (16710 data points).\n",
      "[1.0, 1.0, 1.0, 1.0, 1.0, 1.0, 1.0, 1.0, 0.0, 0.0, 0.0, 0.0, 0.0, 0.0, 0.0, 0.0, 0.0, 0.0, 0.0, 0.0, 0.0, 0.0, 0.0, 0.0, 0.0, 0.0, 0.0, 0.0, 0.0, 0.0, 0.0, 0.0, 0.0, 0.0, 0.0, 0.0, 0.0, 0.0, 0.0, 0.0, 0.0, 0.0, 0.0, 0.0, 0.0, 0.0, 0.0, 0.0, 0.0, 0.0, 0.0, 0.0, 0.0, 0.0, 0.0, 0.0, 0.0, 0.0, 0.0, 0.0, 0.0, 0.0, 0.0, 0.0, 0.0, 0.0, 0.0, 0.0, 0.0, 0.0, 0.0, 0.0, 0.0, 0.0, 0.0, 0.0, 0.0, 0.0, 0.0, 0.0, 0.0, 0.0, 0.0, 0.0, 0.0, 0.0, 0.0, 0.0, 0.0, 0.0, 0.0, 0.0, 0.0, 0.0, 0.0, 0.0, 0.0, 0.0, 0.0, 0.0, ... ]\n",
      "Split on feature grade.D. (13315, 3395)\n",
      "--------------------------------------------------------------------\n",
      "Subtree, depth = 3 (13315 data points).\n",
      "Stopping condition 1 reached.\n",
      "--------------------------------------------------------------------\n",
      "Subtree, depth = 3 (3395 data points).\n",
      "Stopping condition 1 reached.\n"
     ]
    }
   ],
   "source": [
    "# Assign weights\n",
    "example_data_weights = graphlab.SArray([1.] * 10 + [0.]*(len(train_data) - 20) + [1.] * 10)\n",
    "\n",
    "# Train a weighted decision tree model.\n",
    "small_data_decision_tree_subset_20 = weighted_decision_tree_create(train_data, features, target,\n",
    "                         example_data_weights, max_depth=2)"
   ]
  },
  {
   "cell_type": "markdown",
   "metadata": {},
   "source": [
    "Now, we will compute the classification error on the `subset_20`, i.e. the subset of data points whose weight is 1 (namely the first and last 10 data points)."
   ]
  },
  {
   "cell_type": "code",
   "execution_count": 23,
   "metadata": {
    "collapsed": false
   },
   "outputs": [
    {
     "data": {
      "text/plain": [
       "0.05"
      ]
     },
     "execution_count": 23,
     "metadata": {},
     "output_type": "execute_result"
    }
   ],
   "source": [
    "subset_20 = train_data.head(10).append(train_data.tail(10))\n",
    "evaluate_classification_error(small_data_decision_tree_subset_20, subset_20)"
   ]
  },
  {
   "cell_type": "markdown",
   "metadata": {},
   "source": [
    "Now, let us compare the classification error of the model `small_data_decision_tree_subset_20` on the entire test set `train_data`:"
   ]
  },
  {
   "cell_type": "code",
   "execution_count": 24,
   "metadata": {
    "collapsed": false
   },
   "outputs": [
    {
     "data": {
      "text/plain": [
       "0.48124865678057166"
      ]
     },
     "execution_count": 24,
     "metadata": {},
     "output_type": "execute_result"
    }
   ],
   "source": [
    "evaluate_classification_error(small_data_decision_tree_subset_20, train_data)"
   ]
  },
  {
   "cell_type": "markdown",
   "metadata": {},
   "source": [
    "The model `small_data_decision_tree_subset_20` performs **a lot** better on `subset_20` than on `train_data`.\n",
    "\n",
    "So, what does this mean?\n",
    "* The points with higher weights are the ones that are more important during the training process of the weighted decision tree.\n",
    "* The points with zero weights are basically ignored during training.\n",
    "\n",
    "**Quiz Question**: Will you get the same model as `small_data_decision_tree_subset_20` if you trained a decision tree with only the 20 data points with non-zero weights from the set of points in `subset_20`?"
   ]
  },
  {
   "cell_type": "markdown",
   "metadata": {},
   "source": [
    "# Implementing your own Adaboost (on decision stumps)"
   ]
  },
  {
   "cell_type": "markdown",
   "metadata": {},
   "source": [
    "Now that we have a weighted decision tree working, it takes only a bit of work to implement Adaboost. For the sake of simplicity, let us stick with **decision tree stumps** by training trees with **`max_depth=1`**."
   ]
  },
  {
   "cell_type": "markdown",
   "metadata": {},
   "source": [
    "Recall from the lecture the procedure for Adaboost:\n",
    "\n",
    "1\\. Start with unweighted data with $\\alpha_j = 1$\n",
    "\n",
    "2\\. For t = 1,...T:\n",
    "  * Learn $f_t(x)$ with data weights $\\alpha_j$\n",
    "  * Compute coefficient $\\hat{w}_t$:\n",
    "     $$\\hat{w}_t = \\frac{1}{2}\\ln{\\left(\\frac{1- \\mbox{E}(\\mathbf{\\alpha}, \\mathbf{\\hat{y}})}{\\mbox{E}(\\mathbf{\\alpha}, \\mathbf{\\hat{y}})}\\right)}$$\n",
    "  * Re-compute weights $\\alpha_j$:\n",
    "     $$\\alpha_j \\gets \\begin{cases}\n",
    "     \\alpha_j \\exp{(-\\hat{w}_t)} & \\text{ if }f_t(x_j) = y_j\\\\\n",
    "     \\alpha_j \\exp{(\\hat{w}_t)} & \\text{ if }f_t(x_j) \\neq y_j\n",
    "     \\end{cases}$$\n",
    "  * Normalize weights $\\alpha_j$:\n",
    "      $$\\alpha_j \\gets \\frac{\\alpha_j}{\\sum_{i=1}^{N}{\\alpha_i}} $$\n",
    "  \n",
    "Complete the skeleton for the following code to implement **adaboost_with_tree_stumps**. Fill in the places with `YOUR CODE HERE`."
   ]
  },
  {
   "cell_type": "code",
   "execution_count": 25,
   "metadata": {
    "collapsed": false
   },
   "outputs": [],
   "source": [
    "from math import log\n",
    "from math import exp\n",
    "\n",
    "def adaboost_with_tree_stumps(data, features, target, num_tree_stumps):\n",
    "    # start with unweighted data\n",
    "    alpha = graphlab.SArray([1.]*len(data))\n",
    "    weights = []\n",
    "    tree_stumps = []\n",
    "    target_values = data[target]\n",
    "    \n",
    "    for t in xrange(num_tree_stumps):\n",
    "        print '====================================================='\n",
    "        print 'Adaboost Iteration %d' % t\n",
    "        print '====================================================='        \n",
    "        # Learn a weighted decision tree stump. Use max_depth=1\n",
    "        tree_stump = weighted_decision_tree_create(data, features, target, data_weights=alpha, max_depth=1)\n",
    "        tree_stumps.append(tree_stump)\n",
    "        \n",
    "        # Make predictions\n",
    "        predictions = data.apply(lambda x: classify(tree_stump, x))\n",
    "        \n",
    "        # Produce a Boolean array indicating whether\n",
    "        # each data point was correctly classified\n",
    "        is_correct = predictions == target_values\n",
    "        is_wrong   = predictions != target_values\n",
    "        \n",
    "        # Compute weighted error\n",
    "        # YOUR CODE HERE\n",
    "        weighted_error = sum(alpha * is_wrong) / sum(alpha)\n",
    "        \n",
    "        # Compute model coefficient using weighted error\n",
    "        # YOUR CODE HERE\n",
    "        weight = .5 * log((1 - weighted_error) / weighted_error)\n",
    "        weights.append(weight)\n",
    "        \n",
    "        # Adjust weights on data point\n",
    "        adjustment = is_correct.apply(lambda is_correct : exp(-weight) if is_correct else exp(weight))\n",
    "        \n",
    "        # Scale alpha by multiplying by adjustment \n",
    "        # Then normalize data points weights\n",
    "        ## YOUR CODE HERE \n",
    "        alpha *= adjustment\n",
    "        alpha /= sum(alpha)\n",
    "    \n",
    "    return weights, tree_stumps"
   ]
  },
  {
   "cell_type": "markdown",
   "metadata": {},
   "source": [
    "### Checking your Adaboost code\n",
    "\n",
    "Train an ensemble of **two** tree stumps and see which features those stumps split on. We will run the algorithm with the following parameters:\n",
    "* `train_data`\n",
    "* `features`\n",
    "* `target`\n",
    "* `num_tree_stumps = 2`"
   ]
  },
  {
   "cell_type": "code",
   "execution_count": 26,
   "metadata": {
    "collapsed": false
   },
   "outputs": [
    {
     "name": "stdout",
     "output_type": "stream",
     "text": [
      "=====================================================\n",
      "Adaboost Iteration 0\n",
      "=====================================================\n",
      "--------------------------------------------------------------------\n",
      "Subtree, depth = 1 (37224 data points).\n",
      "[1.0, 1.0, 1.0, 1.0, 1.0, 1.0, 1.0, 1.0, 1.0, 1.0, 1.0, 1.0, 1.0, 1.0, 1.0, 1.0, 1.0, 1.0, 1.0, 1.0, 1.0, 1.0, 1.0, 1.0, 1.0, 1.0, 1.0, 1.0, 1.0, 1.0, 1.0, 1.0, 1.0, 1.0, 1.0, 1.0, 1.0, 1.0, 1.0, 1.0, 1.0, 1.0, 1.0, 1.0, 1.0, 1.0, 1.0, 1.0, 1.0, 1.0, 1.0, 1.0, 1.0, 1.0, 1.0, 1.0, 1.0, 1.0, 1.0, 1.0, 1.0, 1.0, 1.0, 1.0, 1.0, 1.0, 1.0, 1.0, 1.0, 1.0, 1.0, 1.0, 1.0, 1.0, 1.0, 1.0, 1.0, 1.0, 1.0, 1.0, 1.0, 1.0, 1.0, 1.0, 1.0, 1.0, 1.0, 1.0, 1.0, 1.0, 1.0, 1.0, 1.0, 1.0, 1.0, 1.0, 1.0, 1.0, 1.0, 1.0, ... ]\n",
      "Split on feature term. 36 months. (9223, 28001)\n",
      "--------------------------------------------------------------------\n",
      "Subtree, depth = 2 (9223 data points).\n",
      "Reached maximum depth. Stopping for now.\n",
      "--------------------------------------------------------------------\n",
      "Subtree, depth = 2 (28001 data points).\n",
      "Reached maximum depth. Stopping for now.\n",
      "=====================================================\n",
      "Adaboost Iteration 1\n",
      "=====================================================\n",
      "--------------------------------------------------------------------\n",
      "Subtree, depth = 1 (37224 data points).\n",
      "[2.3224487900035514e-05, 2.3224487900035514e-05, 2.3224487900035514e-05, 3.1857279388331606e-05, 3.1857279388331606e-05, 3.1857279388331606e-05, 3.1857279388331606e-05, 3.1857279388331606e-05, 3.1857279388331606e-05, 3.1857279388331606e-05, 2.3224487900035514e-05, 2.3224487900035514e-05, 3.1857279388331606e-05, 2.3224487900035514e-05, 3.1857279388331606e-05, 3.1857279388331606e-05, 3.1857279388331606e-05, 2.3224487900035514e-05, 3.1857279388331606e-05, 3.1857279388331606e-05, 3.1857279388331606e-05, 2.3224487900035514e-05, 3.1857279388331606e-05, 3.1857279388331606e-05, 3.1857279388331606e-05, 3.1857279388331606e-05, 3.1857279388331606e-05, 3.1857279388331606e-05, 3.1857279388331606e-05, 3.1857279388331606e-05, 3.1857279388331606e-05, 3.1857279388331606e-05, 2.3224487900035514e-05, 2.3224487900035514e-05, 3.1857279388331606e-05, 3.1857279388331606e-05, 3.1857279388331606e-05, 3.1857279388331606e-05, 2.3224487900035514e-05, 2.3224487900035514e-05, 3.1857279388331606e-05, 2.3224487900035514e-05, 2.3224487900035514e-05, 2.3224487900035514e-05, 2.3224487900035514e-05, 3.1857279388331606e-05, 3.1857279388331606e-05, 3.1857279388331606e-05, 3.1857279388331606e-05, 3.1857279388331606e-05, 3.1857279388331606e-05, 3.1857279388331606e-05, 3.1857279388331606e-05, 2.3224487900035514e-05, 3.1857279388331606e-05, 2.3224487900035514e-05, 3.1857279388331606e-05, 2.3224487900035514e-05, 3.1857279388331606e-05, 3.1857279388331606e-05, 2.3224487900035514e-05, 3.1857279388331606e-05, 3.1857279388331606e-05, 3.1857279388331606e-05, 3.1857279388331606e-05, 3.1857279388331606e-05, 3.1857279388331606e-05, 2.3224487900035514e-05, 2.3224487900035514e-05, 2.3224487900035514e-05, 3.1857279388331606e-05, 3.1857279388331606e-05, 2.3224487900035514e-05, 3.1857279388331606e-05, 3.1857279388331606e-05, 2.3224487900035514e-05, 3.1857279388331606e-05, 2.3224487900035514e-05, 3.1857279388331606e-05, 3.1857279388331606e-05, 3.1857279388331606e-05, 3.1857279388331606e-05, 3.1857279388331606e-05, 2.3224487900035514e-05, 2.3224487900035514e-05, 3.1857279388331606e-05, 3.1857279388331606e-05, 3.1857279388331606e-05, 3.1857279388331606e-05, 2.3224487900035514e-05, 3.1857279388331606e-05, 2.3224487900035514e-05, 3.1857279388331606e-05, 3.1857279388331606e-05, 2.3224487900035514e-05, 2.3224487900035514e-05, 3.1857279388331606e-05, 3.1857279388331606e-05, 3.1857279388331606e-05, 3.1857279388331606e-05, ... ]\n",
      "Split on feature grade.A. (32094, 5130)\n",
      "--------------------------------------------------------------------\n",
      "Subtree, depth = 2 (32094 data points).\n",
      "Reached maximum depth. Stopping for now.\n",
      "--------------------------------------------------------------------\n",
      "Subtree, depth = 2 (5130 data points).\n",
      "Reached maximum depth. Stopping for now.\n"
     ]
    }
   ],
   "source": [
    "stump_weights, tree_stumps = adaboost_with_tree_stumps(train_data, features, target, num_tree_stumps=2)"
   ]
  },
  {
   "cell_type": "code",
   "execution_count": 27,
   "metadata": {
    "collapsed": true
   },
   "outputs": [],
   "source": [
    "def print_stump(tree):\n",
    "    split_name = tree['splitting_feature'] # split_name is something like 'term. 36 months'\n",
    "    if split_name is None:\n",
    "        print \"(leaf, label: %s)\" % tree['prediction']\n",
    "        return None\n",
    "    split_feature, split_value = split_name.split('.')\n",
    "    print '                       root'\n",
    "    print '         |---------------|----------------|'\n",
    "    print '         |                                |'\n",
    "    print '         |                                |'\n",
    "    print '         |                                |'\n",
    "    print '  [{0} == 0]{1}[{0} == 1]    '.format(split_name, ' '*(27-len(split_name)))\n",
    "    print '         |                                |'\n",
    "    print '         |                                |'\n",
    "    print '         |                                |'\n",
    "    print '    (%s)                 (%s)' \\\n",
    "        % (('leaf, label: ' + str(tree['left']['prediction']) if tree['left']['is_leaf'] else 'subtree'),\n",
    "           ('leaf, label: ' + str(tree['right']['prediction']) if tree['right']['is_leaf'] else 'subtree'))"
   ]
  },
  {
   "cell_type": "markdown",
   "metadata": {},
   "source": [
    "Here is what the first stump looks like:"
   ]
  },
  {
   "cell_type": "code",
   "execution_count": 28,
   "metadata": {
    "collapsed": false
   },
   "outputs": [
    {
     "name": "stdout",
     "output_type": "stream",
     "text": [
      "                       root\n",
      "         |---------------|----------------|\n",
      "         |                                |\n",
      "         |                                |\n",
      "         |                                |\n",
      "  [term. 36 months == 0]            [term. 36 months == 1]    \n",
      "         |                                |\n",
      "         |                                |\n",
      "         |                                |\n",
      "    (leaf, label: -1)                 (leaf, label: 1)\n"
     ]
    }
   ],
   "source": [
    "print_stump(tree_stumps[0])"
   ]
  },
  {
   "cell_type": "markdown",
   "metadata": {},
   "source": [
    "Here is what the next stump looks like:"
   ]
  },
  {
   "cell_type": "code",
   "execution_count": 29,
   "metadata": {
    "collapsed": false
   },
   "outputs": [
    {
     "name": "stdout",
     "output_type": "stream",
     "text": [
      "                       root\n",
      "         |---------------|----------------|\n",
      "         |                                |\n",
      "         |                                |\n",
      "         |                                |\n",
      "  [grade.A == 0]                    [grade.A == 1]    \n",
      "         |                                |\n",
      "         |                                |\n",
      "         |                                |\n",
      "    (leaf, label: -1)                 (leaf, label: 1)\n"
     ]
    }
   ],
   "source": [
    "print_stump(tree_stumps[1])"
   ]
  },
  {
   "cell_type": "code",
   "execution_count": 30,
   "metadata": {
    "collapsed": false
   },
   "outputs": [
    {
     "name": "stdout",
     "output_type": "stream",
     "text": [
      "[0.15802933659263743, 0.1768236329364191]\n"
     ]
    }
   ],
   "source": [
    "print stump_weights"
   ]
  },
  {
   "cell_type": "markdown",
   "metadata": {},
   "source": [
    "If your Adaboost is correctly implemented, the following things should be true:\n",
    "\n",
    "* `tree_stumps[0]` should split on **term. 36 months** with the prediction -1 on the left and +1 on the right.\n",
    "* `tree_stumps[1]` should split on **grade.A** with the prediction -1 on the left and +1 on the right.\n",
    "* Weights should be approximately `[0.158, 0.177]` \n",
    "\n",
    "**Reminders**\n",
    "- Stump weights ($\\mathbf{\\hat{w}}$) and data point weights ($\\mathbf{\\alpha}$) are two different concepts.\n",
    "- Stump weights ($\\mathbf{\\hat{w}}$) tell you how important each stump is while making predictions with the entire boosted ensemble.\n",
    "- Data point weights ($\\mathbf{\\alpha}$) tell you how important each data point is while training a decision stump."
   ]
  },
  {
   "cell_type": "markdown",
   "metadata": {},
   "source": [
    "### Training a boosted ensemble of 10 stumps"
   ]
  },
  {
   "cell_type": "markdown",
   "metadata": {},
   "source": [
    "Let us train an ensemble of 10 decision tree stumps with Adaboost. We run the **adaboost_with_tree_stumps** function with the following parameters:\n",
    "* `train_data`\n",
    "* `features`\n",
    "* `target`\n",
    "* `num_tree_stumps = 10`"
   ]
  },
  {
   "cell_type": "code",
   "execution_count": 31,
   "metadata": {
    "collapsed": false,
    "scrolled": true
   },
   "outputs": [
    {
     "name": "stdout",
     "output_type": "stream",
     "text": [
      "=====================================================\n",
      "Adaboost Iteration 0\n",
      "=====================================================\n",
      "--------------------------------------------------------------------\n",
      "Subtree, depth = 1 (37224 data points).\n",
      "[1.0, 1.0, 1.0, 1.0, 1.0, 1.0, 1.0, 1.0, 1.0, 1.0, 1.0, 1.0, 1.0, 1.0, 1.0, 1.0, 1.0, 1.0, 1.0, 1.0, 1.0, 1.0, 1.0, 1.0, 1.0, 1.0, 1.0, 1.0, 1.0, 1.0, 1.0, 1.0, 1.0, 1.0, 1.0, 1.0, 1.0, 1.0, 1.0, 1.0, 1.0, 1.0, 1.0, 1.0, 1.0, 1.0, 1.0, 1.0, 1.0, 1.0, 1.0, 1.0, 1.0, 1.0, 1.0, 1.0, 1.0, 1.0, 1.0, 1.0, 1.0, 1.0, 1.0, 1.0, 1.0, 1.0, 1.0, 1.0, 1.0, 1.0, 1.0, 1.0, 1.0, 1.0, 1.0, 1.0, 1.0, 1.0, 1.0, 1.0, 1.0, 1.0, 1.0, 1.0, 1.0, 1.0, 1.0, 1.0, 1.0, 1.0, 1.0, 1.0, 1.0, 1.0, 1.0, 1.0, 1.0, 1.0, 1.0, 1.0, ... ]\n",
      "Split on feature term. 36 months. (9223, 28001)\n",
      "--------------------------------------------------------------------\n",
      "Subtree, depth = 2 (9223 data points).\n",
      "Reached maximum depth. Stopping for now.\n",
      "--------------------------------------------------------------------\n",
      "Subtree, depth = 2 (28001 data points).\n",
      "Reached maximum depth. Stopping for now.\n",
      "=====================================================\n",
      "Adaboost Iteration 1\n",
      "=====================================================\n",
      "--------------------------------------------------------------------\n",
      "Subtree, depth = 1 (37224 data points).\n",
      "[2.3224487900035514e-05, 2.3224487900035514e-05, 2.3224487900035514e-05, 3.1857279388331606e-05, 3.1857279388331606e-05, 3.1857279388331606e-05, 3.1857279388331606e-05, 3.1857279388331606e-05, 3.1857279388331606e-05, 3.1857279388331606e-05, 2.3224487900035514e-05, 2.3224487900035514e-05, 3.1857279388331606e-05, 2.3224487900035514e-05, 3.1857279388331606e-05, 3.1857279388331606e-05, 3.1857279388331606e-05, 2.3224487900035514e-05, 3.1857279388331606e-05, 3.1857279388331606e-05, 3.1857279388331606e-05, 2.3224487900035514e-05, 3.1857279388331606e-05, 3.1857279388331606e-05, 3.1857279388331606e-05, 3.1857279388331606e-05, 3.1857279388331606e-05, 3.1857279388331606e-05, 3.1857279388331606e-05, 3.1857279388331606e-05, 3.1857279388331606e-05, 3.1857279388331606e-05, 2.3224487900035514e-05, 2.3224487900035514e-05, 3.1857279388331606e-05, 3.1857279388331606e-05, 3.1857279388331606e-05, 3.1857279388331606e-05, 2.3224487900035514e-05, 2.3224487900035514e-05, 3.1857279388331606e-05, 2.3224487900035514e-05, 2.3224487900035514e-05, 2.3224487900035514e-05, 2.3224487900035514e-05, 3.1857279388331606e-05, 3.1857279388331606e-05, 3.1857279388331606e-05, 3.1857279388331606e-05, 3.1857279388331606e-05, 3.1857279388331606e-05, 3.1857279388331606e-05, 3.1857279388331606e-05, 2.3224487900035514e-05, 3.1857279388331606e-05, 2.3224487900035514e-05, 3.1857279388331606e-05, 2.3224487900035514e-05, 3.1857279388331606e-05, 3.1857279388331606e-05, 2.3224487900035514e-05, 3.1857279388331606e-05, 3.1857279388331606e-05, 3.1857279388331606e-05, 3.1857279388331606e-05, 3.1857279388331606e-05, 3.1857279388331606e-05, 2.3224487900035514e-05, 2.3224487900035514e-05, 2.3224487900035514e-05, 3.1857279388331606e-05, 3.1857279388331606e-05, 2.3224487900035514e-05, 3.1857279388331606e-05, 3.1857279388331606e-05, 2.3224487900035514e-05, 3.1857279388331606e-05, 2.3224487900035514e-05, 3.1857279388331606e-05, 3.1857279388331606e-05, 3.1857279388331606e-05, 3.1857279388331606e-05, 3.1857279388331606e-05, 2.3224487900035514e-05, 2.3224487900035514e-05, 3.1857279388331606e-05, 3.1857279388331606e-05, 3.1857279388331606e-05, 3.1857279388331606e-05, 2.3224487900035514e-05, 3.1857279388331606e-05, 2.3224487900035514e-05, 3.1857279388331606e-05, 3.1857279388331606e-05, 2.3224487900035514e-05, 2.3224487900035514e-05, 3.1857279388331606e-05, 3.1857279388331606e-05, 3.1857279388331606e-05, 3.1857279388331606e-05, ... ]\n",
      "Split on feature grade.A. (32094, 5130)\n",
      "--------------------------------------------------------------------\n",
      "Subtree, depth = 2 (32094 data points).\n",
      "Reached maximum depth. Stopping for now.\n",
      "--------------------------------------------------------------------\n",
      "Subtree, depth = 2 (5130 data points).\n",
      "Reached maximum depth. Stopping for now.\n",
      "=====================================================\n",
      "Adaboost Iteration 2\n",
      "=====================================================\n",
      "--------------------------------------------------------------------\n",
      "Subtree, depth = 1 (37224 data points).\n",
      "[1.9765462704704058e-05, 1.9765462704704058e-05, 1.9765462704704058e-05, 2.7112497392135943e-05, 2.7112497392135943e-05, 2.7112497392135943e-05, 2.7112497392135943e-05, 2.7112497392135943e-05, 2.7112497392135943e-05, 2.7112497392135943e-05, 1.9765462704704058e-05, 1.9765462704704058e-05, 2.7112497392135943e-05, 1.9765462704704058e-05, 2.7112497392135943e-05, 2.7112497392135943e-05, 2.7112497392135943e-05, 1.9765462704704058e-05, 2.7112497392135943e-05, 3.861504803005498e-05, 2.7112497392135943e-05, 1.9765462704704058e-05, 2.7112497392135943e-05, 3.861504803005498e-05, 2.7112497392135943e-05, 2.7112497392135943e-05, 2.7112497392135943e-05, 2.7112497392135943e-05, 2.7112497392135943e-05, 2.7112497392135943e-05, 2.7112497392135943e-05, 2.7112497392135943e-05, 1.9765462704704058e-05, 1.9765462704704058e-05, 2.7112497392135943e-05, 2.7112497392135943e-05, 2.7112497392135943e-05, 3.861504803005498e-05, 1.9765462704704058e-05, 1.9765462704704058e-05, 3.861504803005498e-05, 1.9765462704704058e-05, 1.9765462704704058e-05, 1.9765462704704058e-05, 1.9765462704704058e-05, 2.7112497392135943e-05, 2.7112497392135943e-05, 2.7112497392135943e-05, 3.861504803005498e-05, 2.7112497392135943e-05, 2.7112497392135943e-05, 3.861504803005498e-05, 2.7112497392135943e-05, 1.9765462704704058e-05, 2.7112497392135943e-05, 2.815101392687598e-05, 2.7112497392135943e-05, 1.9765462704704058e-05, 2.7112497392135943e-05, 2.7112497392135943e-05, 1.9765462704704058e-05, 2.7112497392135943e-05, 2.7112497392135943e-05, 2.7112497392135943e-05, 2.7112497392135943e-05, 3.861504803005498e-05, 2.7112497392135943e-05, 2.815101392687598e-05, 1.9765462704704058e-05, 1.9765462704704058e-05, 2.7112497392135943e-05, 2.7112497392135943e-05, 1.9765462704704058e-05, 3.861504803005498e-05, 2.7112497392135943e-05, 1.9765462704704058e-05, 2.7112497392135943e-05, 1.9765462704704058e-05, 2.7112497392135943e-05, 2.7112497392135943e-05, 3.861504803005498e-05, 3.861504803005498e-05, 2.7112497392135943e-05, 1.9765462704704058e-05, 1.9765462704704058e-05, 3.861504803005498e-05, 2.7112497392135943e-05, 2.7112497392135943e-05, 2.7112497392135943e-05, 1.9765462704704058e-05, 2.7112497392135943e-05, 1.9765462704704058e-05, 2.7112497392135943e-05, 2.7112497392135943e-05, 1.9765462704704058e-05, 1.9765462704704058e-05, 2.7112497392135943e-05, 2.7112497392135943e-05, 2.7112497392135943e-05, 2.7112497392135943e-05, ... ]\n",
      "Split on feature grade.D. (30465, 6759)\n",
      "--------------------------------------------------------------------\n",
      "Subtree, depth = 2 (30465 data points).\n",
      "Reached maximum depth. Stopping for now.\n",
      "--------------------------------------------------------------------\n",
      "Subtree, depth = 2 (6759 data points).\n",
      "Reached maximum depth. Stopping for now.\n",
      "=====================================================\n",
      "Adaboost Iteration 3\n",
      "=====================================================\n",
      "--------------------------------------------------------------------\n",
      "Subtree, depth = 1 (37224 data points).\n",
      "[2.1788543607076036e-05, 2.1788543607076036e-05, 2.1788543607076036e-05, 2.9887579185520227e-05, 2.9887579185520227e-05, 2.9887579185520227e-05, 2.9887579185520227e-05, 2.9887579185520227e-05, 2.9887579185520227e-05, 2.9887579185520227e-05, 2.1788543607076036e-05, 1.8086151404102345e-05, 2.4808968052177085e-05, 1.8086151404102345e-05, 2.9887579185520227e-05, 2.4808968052177085e-05, 2.9887579185520227e-05, 2.1788543607076036e-05, 2.9887579185520227e-05, 4.2567465809538e-05, 2.9887579185520227e-05, 2.1788543607076036e-05, 2.9887579185520227e-05, 4.2567465809538e-05, 2.9887579185520227e-05, 2.4808968052177085e-05, 2.4808968052177085e-05, 2.4808968052177085e-05, 2.9887579185520227e-05, 2.9887579185520227e-05, 2.9887579185520227e-05, 2.9887579185520227e-05, 1.8086151404102345e-05, 2.1788543607076036e-05, 2.9887579185520227e-05, 2.9887579185520227e-05, 2.9887579185520227e-05, 4.2567465809538e-05, 2.1788543607076036e-05, 2.1788543607076036e-05, 4.2567465809538e-05, 2.1788543607076036e-05, 1.8086151404102345e-05, 2.1788543607076036e-05, 2.1788543607076036e-05, 2.9887579185520227e-05, 2.9887579185520227e-05, 2.9887579185520227e-05, 4.2567465809538e-05, 2.9887579185520227e-05, 2.9887579185520227e-05, 4.2567465809538e-05, 2.9887579185520227e-05, 2.1788543607076036e-05, 2.9887579185520227e-05, 3.103239239540615e-05, 2.9887579185520227e-05, 2.1788543607076036e-05, 2.9887579185520227e-05, 2.9887579185520227e-05, 2.1788543607076036e-05, 2.4808968052177085e-05, 2.9887579185520227e-05, 2.4808968052177085e-05, 2.4808968052177085e-05, 4.2567465809538e-05, 2.9887579185520227e-05, 3.103239239540615e-05, 2.1788543607076036e-05, 2.1788543607076036e-05, 2.9887579185520227e-05, 2.9887579185520227e-05, 2.1788543607076036e-05, 4.2567465809538e-05, 2.9887579185520227e-05, 2.1788543607076036e-05, 2.4808968052177085e-05, 1.8086151404102345e-05, 2.9887579185520227e-05, 2.9887579185520227e-05, 4.2567465809538e-05, 4.2567465809538e-05, 2.4808968052177085e-05, 2.1788543607076036e-05, 1.8086151404102345e-05, 4.2567465809538e-05, 2.4808968052177085e-05, 2.9887579185520227e-05, 2.4808968052177085e-05, 2.1788543607076036e-05, 2.9887579185520227e-05, 2.1788543607076036e-05, 2.9887579185520227e-05, 2.9887579185520227e-05, 2.1788543607076036e-05, 2.1788543607076036e-05, 2.9887579185520227e-05, 2.9887579185520227e-05, 2.4808968052177085e-05, 2.9887579185520227e-05, ... ]\n",
      "Split on feature home_ownership.MORTGAGE. (19846, 17378)\n",
      "--------------------------------------------------------------------\n",
      "Subtree, depth = 2 (19846 data points).\n",
      "Reached maximum depth. Stopping for now.\n",
      "--------------------------------------------------------------------\n",
      "Subtree, depth = 2 (17378 data points).\n",
      "Reached maximum depth. Stopping for now.\n",
      "=====================================================\n",
      "Adaboost Iteration 4\n",
      "=====================================================\n",
      "--------------------------------------------------------------------\n",
      "Subtree, depth = 1 (37224 data points).\n",
      "[2.0310733650963335e-05, 2.0310733650963335e-05, 2.0310733650963335e-05, 2.7860451403095862e-05, 2.7860451403095862e-05, 2.7860451403095862e-05, 2.7860451403095862e-05, 2.7860451403095862e-05, 3.2232842342757394e-05, 2.7860451403095862e-05, 2.0310733650963335e-05, 1.685945653661868e-05, 2.3126297532772446e-05, 1.9505362517888515e-05, 2.7860451403095862e-05, 2.3126297532772446e-05, 2.7860451403095862e-05, 2.0310733650963335e-05, 3.2232842342757394e-05, 3.968032356110462e-05, 2.7860451403095862e-05, 2.0310733650963335e-05, 3.2232842342757394e-05, 3.968032356110462e-05, 2.7860451403095862e-05, 2.3126297532772446e-05, 2.3126297532772446e-05, 2.3126297532772446e-05, 2.7860451403095862e-05, 3.2232842342757394e-05, 2.7860451403095862e-05, 3.2232842342757394e-05, 1.9505362517888515e-05, 2.3498279556392647e-05, 2.7860451403095862e-05, 2.7860451403095862e-05, 2.7860451403095862e-05, 3.968032356110462e-05, 2.0310733650963335e-05, 2.0310733650963335e-05, 3.968032356110462e-05, 2.0310733650963335e-05, 1.685945653661868e-05, 2.0310733650963335e-05, 2.0310733650963335e-05, 2.7860451403095862e-05, 2.7860451403095862e-05, 2.7860451403095862e-05, 4.5907713229390207e-05, 2.7860451403095862e-05, 2.7860451403095862e-05, 3.968032356110462e-05, 3.2232842342757394e-05, 2.0310733650963335e-05, 2.7860451403095862e-05, 2.8927617552674857e-05, 2.7860451403095862e-05, 2.0310733650963335e-05, 2.7860451403095862e-05, 2.7860451403095862e-05, 2.0310733650963335e-05, 2.3126297532772446e-05, 3.2232842342757394e-05, 2.3126297532772446e-05, 2.3126297532772446e-05, 3.968032356110462e-05, 2.7860451403095862e-05, 2.8927617552674857e-05, 2.0310733650963335e-05, 2.0310733650963335e-05, 2.7860451403095862e-05, 2.7860451403095862e-05, 2.0310733650963335e-05, 4.5907713229390207e-05, 2.7860451403095862e-05, 2.0310733650963335e-05, 2.3126297532772446e-05, 1.685945653661868e-05, 2.7860451403095862e-05, 2.7860451403095862e-05, 4.5907713229390207e-05, 4.5907713229390207e-05, 2.6755715173470646e-05, 2.3498279556392647e-05, 1.9505362517888515e-05, 4.5907713229390207e-05, 2.6755715173470646e-05, 2.7860451403095862e-05, 2.6755715173470646e-05, 2.0310733650963335e-05, 2.7860451403095862e-05, 2.0310733650963335e-05, 2.7860451403095862e-05, 2.7860451403095862e-05, 2.0310733650963335e-05, 2.0310733650963335e-05, 3.2232842342757394e-05, 2.7860451403095862e-05, 2.6755715173470646e-05, 2.7860451403095862e-05, ... ]\n",
      "Split on feature grade.B. (26858, 10366)\n",
      "--------------------------------------------------------------------\n",
      "Subtree, depth = 2 (26858 data points).\n",
      "Reached maximum depth. Stopping for now.\n",
      "--------------------------------------------------------------------\n",
      "Subtree, depth = 2 (10366 data points).\n",
      "Reached maximum depth. Stopping for now.\n",
      "=====================================================\n",
      "Adaboost Iteration 5\n",
      "=====================================================\n",
      "--------------------------------------------------------------------\n",
      "Subtree, depth = 1 (37224 data points).\n",
      "[1.9036029491260022e-05, 1.9036029491260022e-05, 2.1768405090908584e-05, 2.611192602213042e-05, 2.9859954966688172e-05, 2.9859954966688172e-05, 2.9859954966688172e-05, 2.611192602213042e-05, 3.454614596431647e-05, 2.611192602213042e-05, 1.9036029491260022e-05, 1.580135495610065e-05, 2.1674888235099766e-05, 1.8281203550253472e-05, 2.9859954966688172e-05, 2.1674888235099766e-05, 2.9859954966688172e-05, 1.9036029491260022e-05, 3.0209905164836932e-05, 3.718998153944582e-05, 2.9859954966688172e-05, 1.9036029491260022e-05, 3.0209905164836932e-05, 3.718998153944582e-05, 2.611192602213042e-05, 2.1674888235099766e-05, 2.1674888235099766e-05, 2.1674888235099766e-05, 2.9859954966688172e-05, 3.454614596431647e-05, 2.611192602213042e-05, 3.454614596431647e-05, 1.8281203550253472e-05, 2.518471647126885e-05, 2.9859954966688172e-05, 2.9859954966688172e-05, 2.9859954966688172e-05, 3.718998153944582e-05, 1.9036029491260022e-05, 2.1768405090908584e-05, 3.718998153944582e-05, 2.1768405090908584e-05, 1.580135495610065e-05, 1.9036029491260022e-05, 1.9036029491260022e-05, 2.9859954966688172e-05, 2.9859954966688172e-05, 2.9859954966688172e-05, 4.302653946080036e-05, 2.9859954966688172e-05, 2.9859954966688172e-05, 3.718998153944582e-05, 3.454614596431647e-05, 2.1768405090908584e-05, 2.9859954966688172e-05, 2.711211669197836e-05, 2.611192602213042e-05, 1.9036029491260022e-05, 2.611192602213042e-05, 2.611192602213042e-05, 2.1768405090908584e-05, 2.1674888235099766e-05, 3.454614596431647e-05, 2.1674888235099766e-05, 2.1674888235099766e-05, 3.718998153944582e-05, 2.611192602213042e-05, 2.711211669197836e-05, 1.9036029491260022e-05, 1.9036029491260022e-05, 2.611192602213042e-05, 2.9859954966688172e-05, 1.9036029491260022e-05, 4.302653946080036e-05, 2.611192602213042e-05, 1.9036029491260022e-05, 2.1674888235099766e-05, 1.580135495610065e-05, 2.9859954966688172e-05, 2.611192602213042e-05, 4.302653946080036e-05, 4.302653946080036e-05, 2.5076523175113537e-05, 2.518471647126885e-05, 1.8281203550253472e-05, 4.302653946080036e-05, 2.5076523175113537e-05, 2.9859954966688172e-05, 2.5076523175113537e-05, 1.9036029491260022e-05, 2.611192602213042e-05, 1.9036029491260022e-05, 2.611192602213042e-05, 2.9859954966688172e-05, 1.9036029491260022e-05, 2.1768405090908584e-05, 3.0209905164836932e-05, 2.611192602213042e-05, 2.5076523175113537e-05, 2.9859954966688172e-05, ... ]\n",
      "Split on feature grade.E. (33815, 3409)\n",
      "--------------------------------------------------------------------\n",
      "Subtree, depth = 2 (33815 data points).\n",
      "Reached maximum depth. Stopping for now.\n",
      "--------------------------------------------------------------------\n",
      "Subtree, depth = 2 (3409 data points).\n",
      "Reached maximum depth. Stopping for now.\n",
      "=====================================================\n",
      "Adaboost Iteration 6\n",
      "=====================================================\n",
      "--------------------------------------------------------------------\n",
      "Subtree, depth = 1 (37224 data points).\n",
      "[2.0348064240517002e-05, 2.0348064240517002e-05, 2.3268765443275537e-05, 2.791165817356422e-05, 3.1918015369753364e-05, 3.1918015369753364e-05, 3.1918015369753364e-05, 2.791165817356422e-05, 3.692719627624719e-05, 2.791165817356422e-05, 1.7882944632693728e-05, 1.6890443770407573e-05, 2.3168803054036615e-05, 1.954121285666819e-05, 3.1918015369753364e-05, 2.3168803054036615e-05, 3.1918015369753364e-05, 1.7882944632693728e-05, 3.2292085451761906e-05, 3.9753254942987325e-05, 3.1918015369753364e-05, 2.0348064240517002e-05, 3.2292085451761906e-05, 3.9753254942987325e-05, 2.791165817356422e-05, 2.3168803054036615e-05, 2.3168803054036615e-05, 2.3168803054036615e-05, 3.1918015369753364e-05, 3.692719627624719e-05, 2.791165817356422e-05, 3.692719627624719e-05, 1.954121285666819e-05, 2.692054185311439e-05, 3.1918015369753364e-05, 3.1918015369753364e-05, 3.1918015369753364e-05, 3.9753254942987325e-05, 2.0348064240517002e-05, 2.3268765443275537e-05, 3.9753254942987325e-05, 2.3268765443275537e-05, 1.6890443770407573e-05, 1.7882944632693728e-05, 2.0348064240517002e-05, 3.1918015369753364e-05, 3.1918015369753364e-05, 3.1918015369753364e-05, 4.5992090388254305e-05, 3.1918015369753364e-05, 3.1918015369753364e-05, 3.9753254942987325e-05, 3.692719627624719e-05, 2.3268765443275537e-05, 3.1918015369753364e-05, 2.8980785746211437e-05, 2.453022714222767e-05, 2.0348064240517002e-05, 2.791165817356422e-05, 2.791165817356422e-05, 2.3268765443275537e-05, 2.3168803054036615e-05, 3.692719627624719e-05, 2.3168803054036615e-05, 2.3168803054036615e-05, 3.9753254942987325e-05, 2.791165817356422e-05, 2.8980785746211437e-05, 1.7882944632693728e-05, 2.0348064240517002e-05, 2.791165817356422e-05, 3.1918015369753364e-05, 1.7882944632693728e-05, 4.5992090388254305e-05, 2.791165817356422e-05, 1.7882944632693728e-05, 2.3168803054036615e-05, 1.6890443770407573e-05, 3.1918015369753364e-05, 2.791165817356422e-05, 4.5992090388254305e-05, 4.5992090388254305e-05, 2.680489146806049e-05, 2.692054185311439e-05, 1.954121285666819e-05, 4.5992090388254305e-05, 2.680489146806049e-05, 3.1918015369753364e-05, 2.680489146806049e-05, 2.0348064240517002e-05, 2.453022714222767e-05, 2.0348064240517002e-05, 2.791165817356422e-05, 3.1918015369753364e-05, 2.0348064240517002e-05, 2.3268765443275537e-05, 3.2292085451761906e-05, 2.791165817356422e-05, 2.680489146806049e-05, 3.1918015369753364e-05, ... ]\n",
      "Split on feature grade.A. (32094, 5130)\n",
      "--------------------------------------------------------------------\n",
      "Subtree, depth = 2 (32094 data points).\n",
      "Reached maximum depth. Stopping for now.\n",
      "--------------------------------------------------------------------\n",
      "Subtree, depth = 2 (5130 data points).\n",
      "Reached maximum depth. Stopping for now.\n",
      "=====================================================\n",
      "Adaboost Iteration 7\n",
      "=====================================================\n",
      "--------------------------------------------------------------------\n",
      "Subtree, depth = 1 (37224 data points).\n",
      "[1.929629127644232e-05, 1.929629127644232e-05, 2.2066024086095184e-05, 2.6468929907010296e-05, 3.0268202137594344e-05, 3.0268202137594344e-05, 3.0268202137594344e-05, 2.6468929907010296e-05, 3.501846303148477e-05, 2.6468929907010296e-05, 1.6958591462761244e-05, 1.601739206883269e-05, 2.1971228661987836e-05, 1.853114530798475e-05, 3.0268202137594344e-05, 2.1971228661987836e-05, 3.0268202137594344e-05, 1.6958591462761244e-05, 3.062293687672824e-05, 4.2044978849681946e-05, 3.0268202137594344e-05, 1.929629127644232e-05, 3.062293687672824e-05, 4.2044978849681946e-05, 2.6468929907010296e-05, 2.1971228661987836e-05, 2.1971228661987836e-05, 2.1971228661987836e-05, 3.0268202137594344e-05, 3.501846303148477e-05, 2.6468929907010296e-05, 3.501846303148477e-05, 1.853114530798475e-05, 2.5529043489207745e-05, 3.0268202137594344e-05, 3.0268202137594344e-05, 3.0268202137594344e-05, 4.2044978849681946e-05, 1.929629127644232e-05, 2.2066024086095184e-05, 4.2044978849681946e-05, 2.2066024086095184e-05, 1.601739206883269e-05, 1.6958591462761244e-05, 1.929629127644232e-05, 3.0268202137594344e-05, 3.0268202137594344e-05, 3.0268202137594344e-05, 4.8643475116694395e-05, 3.0268202137594344e-05, 3.0268202137594344e-05, 4.2044978849681946e-05, 3.501846303148477e-05, 2.2066024086095184e-05, 3.0268202137594344e-05, 3.0651490689105764e-05, 2.3262281975265167e-05, 1.929629127644232e-05, 2.6468929907010296e-05, 2.6468929907010296e-05, 2.2066024086095184e-05, 2.1971228661987836e-05, 3.501846303148477e-05, 2.1971228661987836e-05, 2.1971228661987836e-05, 4.2044978849681946e-05, 2.6468929907010296e-05, 3.0651490689105764e-05, 1.6958591462761244e-05, 1.929629127644232e-05, 2.6468929907010296e-05, 3.0268202137594344e-05, 1.6958591462761244e-05, 4.8643475116694395e-05, 2.6468929907010296e-05, 1.6958591462761244e-05, 2.1971228661987836e-05, 1.601739206883269e-05, 3.0268202137594344e-05, 2.6468929907010296e-05, 4.8643475116694395e-05, 4.8643475116694395e-05, 2.5419370967544032e-05, 2.5529043489207745e-05, 1.853114530798475e-05, 4.8643475116694395e-05, 2.5419370967544032e-05, 3.0268202137594344e-05, 2.5419370967544032e-05, 1.929629127644232e-05, 2.3262281975265167e-05, 1.929629127644232e-05, 2.6468929907010296e-05, 3.0268202137594344e-05, 1.929629127644232e-05, 2.2066024086095184e-05, 3.062293687672824e-05, 2.6468929907010296e-05, 2.5419370967544032e-05, 3.0268202137594344e-05, ... ]\n",
      "Split on feature grade.F. (35512, 1712)\n",
      "--------------------------------------------------------------------\n",
      "Subtree, depth = 2 (35512 data points).\n",
      "Reached maximum depth. Stopping for now.\n",
      "--------------------------------------------------------------------\n",
      "Subtree, depth = 2 (1712 data points).\n",
      "Reached maximum depth. Stopping for now.\n",
      "=====================================================\n",
      "Adaboost Iteration 8\n",
      "=====================================================\n",
      "--------------------------------------------------------------------\n",
      "Subtree, depth = 1 (37224 data points).\n",
      "[2.0173505904006534e-05, 1.8492186308167507e-05, 2.3069151517330548e-05, 2.7672214629331413e-05, 3.1644202804498845e-05, 3.1644202804498845e-05, 3.1644202804498845e-05, 2.7672214629331413e-05, 3.6610411845168866e-05, 2.7672214629331413e-05, 1.7729533623661425e-05, 1.674554705037387e-05, 2.2970046667569232e-05, 1.937357619259354e-05, 3.1644202804498845e-05, 2.2970046667569232e-05, 3.1644202804498845e-05, 1.7729533623661425e-05, 3.201506388094883e-05, 4.3956354975497195e-05, 3.1644202804498845e-05, 2.0173505904006534e-05, 3.201506388094883e-05, 4.3956354975497195e-05, 2.7672214629331413e-05, 2.2970046667569232e-05, 2.2970046667569232e-05, 2.2970046667569232e-05, 3.1644202804498845e-05, 3.6610411845168866e-05, 2.7672214629331413e-05, 3.6610411845168866e-05, 1.937357619259354e-05, 2.668960072042015e-05, 3.1644202804498845e-05, 3.1644202804498845e-05, 3.1644202804498845e-05, 4.3956354975497195e-05, 2.0173505904006534e-05, 2.3069151517330548e-05, 4.3956354975497195e-05, 2.3069151517330548e-05, 1.674554705037387e-05, 1.7729533623661425e-05, 2.0173505904006534e-05, 3.1644202804498845e-05, 3.1644202804498845e-05, 3.1644202804498845e-05, 5.085482066992069e-05, 3.1644202804498845e-05, 3.1644202804498845e-05, 4.3956354975497195e-05, 3.6610411845168866e-05, 2.3069151517330548e-05, 3.1644202804498845e-05, 3.204491575737045e-05, 2.431979161413232e-05, 2.0173505904006534e-05, 2.7672214629331413e-05, 2.7672214629331413e-05, 2.3069151517330548e-05, 2.2970046667569232e-05, 3.6610411845168866e-05, 2.2970046667569232e-05, 2.2970046667569232e-05, 4.3956354975497195e-05, 2.7672214629331413e-05, 3.204491575737045e-05, 1.7729533623661425e-05, 2.0173505904006534e-05, 2.7672214629331413e-05, 3.1644202804498845e-05, 1.7729533623661425e-05, 5.085482066992069e-05, 2.7672214629331413e-05, 1.7729533623661425e-05, 2.2970046667569232e-05, 1.674554705037387e-05, 3.1644202804498845e-05, 2.7672214629331413e-05, 5.085482066992069e-05, 5.085482066992069e-05, 2.65749424562183e-05, 2.668960072042015e-05, 1.937357619259354e-05, 5.085482066992069e-05, 2.65749424562183e-05, 3.1644202804498845e-05, 2.65749424562183e-05, 1.8492186308167507e-05, 2.431979161413232e-05, 2.0173505904006534e-05, 2.7672214629331413e-05, 3.1644202804498845e-05, 2.0173505904006534e-05, 2.3069151517330548e-05, 3.201506388094883e-05, 2.7672214629331413e-05, 2.65749424562183e-05, 3.1644202804498845e-05, ... ]\n",
      "Split on feature grade.A. (32094, 5130)\n",
      "--------------------------------------------------------------------\n",
      "Subtree, depth = 2 (32094 data points).\n",
      "Reached maximum depth. Stopping for now.\n",
      "--------------------------------------------------------------------\n",
      "Subtree, depth = 2 (5130 data points).\n",
      "Reached maximum depth. Stopping for now.\n",
      "=====================================================\n",
      "Adaboost Iteration 9\n",
      "=====================================================\n",
      "--------------------------------------------------------------------\n",
      "Subtree, depth = 1 (37224 data points).\n",
      "[1.9605331743486973e-05, 1.7971365461170967e-05, 2.2419423311453615e-05, 2.689284403348397e-05, 3.075296364907836e-05, 3.075296364907836e-05, 3.075296364907836e-05, 2.689284403348397e-05, 3.557930252211e-05, 2.689284403348397e-05, 1.7230192411927546e-05, 1.6273919204274127e-05, 2.2323109687723337e-05, 1.882793155145546e-05, 3.075296364907836e-05, 2.2323109687723337e-05, 3.075296364907836e-05, 1.7230192411927546e-05, 3.111337965555469e-05, 4.526825592387652e-05, 3.075296364907836e-05, 1.9605331743486973e-05, 3.111337965555469e-05, 4.526825592387652e-05, 2.689284403348397e-05, 2.2323109687723337e-05, 2.2323109687723337e-05, 2.2323109687723337e-05, 3.075296364907836e-05, 3.557930252211e-05, 2.689284403348397e-05, 3.557930252211e-05, 1.882793155145546e-05, 2.593790482997429e-05, 3.075296364907836e-05, 3.075296364907836e-05, 3.075296364907836e-05, 4.526825592387652e-05, 1.9605331743486973e-05, 2.2419423311453615e-05, 4.526825592387652e-05, 2.2419423311453615e-05, 1.6273919204274127e-05, 1.7230192411927546e-05, 1.9605331743486973e-05, 3.075296364907836e-05, 3.075296364907836e-05, 3.075296364907836e-05, 5.237261002037342e-05, 3.075296364907836e-05, 3.075296364907836e-05, 4.526825592387652e-05, 3.557930252211e-05, 2.2419423311453615e-05, 3.075296364907836e-05, 3.3001313424926466e-05, 2.363483991311807e-05, 1.9605331743486973e-05, 2.689284403348397e-05, 2.689284403348397e-05, 2.2419423311453615e-05, 2.2323109687723337e-05, 3.557930252211e-05, 2.2323109687723337e-05, 2.2323109687723337e-05, 4.526825592387652e-05, 2.689284403348397e-05, 3.3001313424926466e-05, 1.7230192411927546e-05, 1.9605331743486973e-05, 2.689284403348397e-05, 3.075296364907836e-05, 1.7230192411927546e-05, 5.237261002037342e-05, 2.689284403348397e-05, 1.7230192411927546e-05, 2.2323109687723337e-05, 1.6273919204274127e-05, 3.075296364907836e-05, 2.689284403348397e-05, 5.237261002037342e-05, 5.237261002037342e-05, 2.5826475843981168e-05, 2.593790482997429e-05, 1.882793155145546e-05, 5.237261002037342e-05, 2.5826475843981168e-05, 3.075296364907836e-05, 2.5826475843981168e-05, 1.7971365461170967e-05, 2.363483991311807e-05, 1.9605331743486973e-05, 2.689284403348397e-05, 3.075296364907836e-05, 1.9605331743486973e-05, 2.2419423311453615e-05, 3.111337965555469e-05, 2.689284403348397e-05, 2.5826475843981168e-05, 3.075296364907836e-05, ... ]\n",
      "Split on feature emp_length.n/a. (35781, 1443)\n",
      "--------------------------------------------------------------------\n",
      "Subtree, depth = 2 (35781 data points).\n",
      "Reached maximum depth. Stopping for now.\n",
      "--------------------------------------------------------------------\n",
      "Subtree, depth = 2 (1443 data points).\n",
      "Reached maximum depth. Stopping for now.\n"
     ]
    }
   ],
   "source": [
    "stump_weights, tree_stumps = adaboost_with_tree_stumps(train_data, features, \n",
    "                                target, num_tree_stumps=10)"
   ]
  },
  {
   "cell_type": "markdown",
   "metadata": {},
   "source": [
    "## Making predictions\n",
    "\n",
    "Recall from the lecture that in order to make predictions, we use the following formula:\n",
    "$$\n",
    "\\hat{y} = sign\\left(\\sum_{t=1}^T \\hat{w}_t f_t(x)\\right)\n",
    "$$\n",
    "\n",
    "We need to do the following things:\n",
    "- Compute the predictions $f_t(x)$ using the $t$-th decision tree\n",
    "- Compute $\\hat{w}_t f_t(x)$ by multiplying the `stump_weights` with the predictions $f_t(x)$ from the decision trees\n",
    "- Sum the weighted predictions over each stump in the ensemble.\n",
    "\n",
    "Complete the following skeleton for making predictions:"
   ]
  },
  {
   "cell_type": "code",
   "execution_count": 34,
   "metadata": {
    "collapsed": false
   },
   "outputs": [],
   "source": [
    "def predict_adaboost(stump_weights, tree_stumps, data):\n",
    "    scores = graphlab.SArray([0.]*len(data))\n",
    "    \n",
    "    for i, tree_stump in enumerate(tree_stumps):\n",
    "        predictions = data.apply(lambda x: classify(tree_stump, x))\n",
    "        \n",
    "        # Accumulate predictions on scaores array\n",
    "        # YOUR CODE HERE\n",
    "        scores += stump_weights[i] * predictions\n",
    "        \n",
    "    return scores.apply(lambda score : +1 if score > 0 else -1)"
   ]
  },
  {
   "cell_type": "code",
   "execution_count": 35,
   "metadata": {
    "collapsed": false
   },
   "outputs": [
    {
     "name": "stdout",
     "output_type": "stream",
     "text": [
      "Accuracy of 10-component ensemble = 0.620314519604\n"
     ]
    }
   ],
   "source": [
    "predictions = predict_adaboost(stump_weights, tree_stumps, test_data)\n",
    "accuracy = graphlab.evaluation.accuracy(test_data[target], predictions)\n",
    "print 'Accuracy of 10-component ensemble = %s' % accuracy "
   ]
  },
  {
   "cell_type": "markdown",
   "metadata": {},
   "source": [
    "Now, let us take a quick look what the `stump_weights` look like at the end of each iteration of the 10-stump ensemble:"
   ]
  },
  {
   "cell_type": "code",
   "execution_count": 36,
   "metadata": {
    "collapsed": false
   },
   "outputs": [
    {
     "data": {
      "text/plain": [
       "[0.15802933659263743,\n",
       " 0.1768236329364191,\n",
       " 0.09311888971129693,\n",
       " 0.07288885525840554,\n",
       " 0.06706306914118143,\n",
       " 0.06456916961644447,\n",
       " 0.05456055779178564,\n",
       " 0.04351093673362621,\n",
       " 0.02898871150041245,\n",
       " 0.02596250969152032]"
      ]
     },
     "execution_count": 36,
     "metadata": {},
     "output_type": "execute_result"
    }
   ],
   "source": [
    "stump_weights"
   ]
  },
  {
   "cell_type": "markdown",
   "metadata": {},
   "source": [
    "**Quiz Question:** Are the weights monotonically decreasing, monotonically increasing, or neither?\n",
    "\n",
    "**Reminder**: Stump weights ($\\mathbf{\\hat{w}}$) tell you how important each stump is while making predictions with the entire boosted ensemble."
   ]
  },
  {
   "cell_type": "markdown",
   "metadata": {},
   "source": [
    "# Performance plots\n",
    "\n",
    "In this section, we will try to reproduce some of the performance plots dicussed in the lecture.\n",
    "\n",
    "### How does accuracy change with adding stumps to the ensemble?\n",
    "\n",
    "We will now train an ensemble with:\n",
    "* `train_data`\n",
    "* `features`\n",
    "* `target`\n",
    "* `num_tree_stumps = 30`\n",
    "\n",
    "Once we are done with this, we will then do the following:\n",
    "* Compute the classification error at the end of each iteration.\n",
    "* Plot a curve of classification error vs iteration.\n",
    "\n",
    "First, lets train the model."
   ]
  },
  {
   "cell_type": "code",
   "execution_count": 37,
   "metadata": {
    "collapsed": false,
    "scrolled": true
   },
   "outputs": [
    {
     "name": "stdout",
     "output_type": "stream",
     "text": [
      "=====================================================\n",
      "Adaboost Iteration 0\n",
      "=====================================================\n",
      "--------------------------------------------------------------------\n",
      "Subtree, depth = 1 (37224 data points).\n",
      "[1.0, 1.0, 1.0, 1.0, 1.0, 1.0, 1.0, 1.0, 1.0, 1.0, 1.0, 1.0, 1.0, 1.0, 1.0, 1.0, 1.0, 1.0, 1.0, 1.0, 1.0, 1.0, 1.0, 1.0, 1.0, 1.0, 1.0, 1.0, 1.0, 1.0, 1.0, 1.0, 1.0, 1.0, 1.0, 1.0, 1.0, 1.0, 1.0, 1.0, 1.0, 1.0, 1.0, 1.0, 1.0, 1.0, 1.0, 1.0, 1.0, 1.0, 1.0, 1.0, 1.0, 1.0, 1.0, 1.0, 1.0, 1.0, 1.0, 1.0, 1.0, 1.0, 1.0, 1.0, 1.0, 1.0, 1.0, 1.0, 1.0, 1.0, 1.0, 1.0, 1.0, 1.0, 1.0, 1.0, 1.0, 1.0, 1.0, 1.0, 1.0, 1.0, 1.0, 1.0, 1.0, 1.0, 1.0, 1.0, 1.0, 1.0, 1.0, 1.0, 1.0, 1.0, 1.0, 1.0, 1.0, 1.0, 1.0, 1.0, ... ]\n",
      "Split on feature term. 36 months. (9223, 28001)\n",
      "--------------------------------------------------------------------\n",
      "Subtree, depth = 2 (9223 data points).\n",
      "Reached maximum depth. Stopping for now.\n",
      "--------------------------------------------------------------------\n",
      "Subtree, depth = 2 (28001 data points).\n",
      "Reached maximum depth. Stopping for now.\n",
      "=====================================================\n",
      "Adaboost Iteration 1\n",
      "=====================================================\n",
      "--------------------------------------------------------------------\n",
      "Subtree, depth = 1 (37224 data points).\n",
      "[2.3224487900035514e-05, 2.3224487900035514e-05, 2.3224487900035514e-05, 3.1857279388331606e-05, 3.1857279388331606e-05, 3.1857279388331606e-05, 3.1857279388331606e-05, 3.1857279388331606e-05, 3.1857279388331606e-05, 3.1857279388331606e-05, 2.3224487900035514e-05, 2.3224487900035514e-05, 3.1857279388331606e-05, 2.3224487900035514e-05, 3.1857279388331606e-05, 3.1857279388331606e-05, 3.1857279388331606e-05, 2.3224487900035514e-05, 3.1857279388331606e-05, 3.1857279388331606e-05, 3.1857279388331606e-05, 2.3224487900035514e-05, 3.1857279388331606e-05, 3.1857279388331606e-05, 3.1857279388331606e-05, 3.1857279388331606e-05, 3.1857279388331606e-05, 3.1857279388331606e-05, 3.1857279388331606e-05, 3.1857279388331606e-05, 3.1857279388331606e-05, 3.1857279388331606e-05, 2.3224487900035514e-05, 2.3224487900035514e-05, 3.1857279388331606e-05, 3.1857279388331606e-05, 3.1857279388331606e-05, 3.1857279388331606e-05, 2.3224487900035514e-05, 2.3224487900035514e-05, 3.1857279388331606e-05, 2.3224487900035514e-05, 2.3224487900035514e-05, 2.3224487900035514e-05, 2.3224487900035514e-05, 3.1857279388331606e-05, 3.1857279388331606e-05, 3.1857279388331606e-05, 3.1857279388331606e-05, 3.1857279388331606e-05, 3.1857279388331606e-05, 3.1857279388331606e-05, 3.1857279388331606e-05, 2.3224487900035514e-05, 3.1857279388331606e-05, 2.3224487900035514e-05, 3.1857279388331606e-05, 2.3224487900035514e-05, 3.1857279388331606e-05, 3.1857279388331606e-05, 2.3224487900035514e-05, 3.1857279388331606e-05, 3.1857279388331606e-05, 3.1857279388331606e-05, 3.1857279388331606e-05, 3.1857279388331606e-05, 3.1857279388331606e-05, 2.3224487900035514e-05, 2.3224487900035514e-05, 2.3224487900035514e-05, 3.1857279388331606e-05, 3.1857279388331606e-05, 2.3224487900035514e-05, 3.1857279388331606e-05, 3.1857279388331606e-05, 2.3224487900035514e-05, 3.1857279388331606e-05, 2.3224487900035514e-05, 3.1857279388331606e-05, 3.1857279388331606e-05, 3.1857279388331606e-05, 3.1857279388331606e-05, 3.1857279388331606e-05, 2.3224487900035514e-05, 2.3224487900035514e-05, 3.1857279388331606e-05, 3.1857279388331606e-05, 3.1857279388331606e-05, 3.1857279388331606e-05, 2.3224487900035514e-05, 3.1857279388331606e-05, 2.3224487900035514e-05, 3.1857279388331606e-05, 3.1857279388331606e-05, 2.3224487900035514e-05, 2.3224487900035514e-05, 3.1857279388331606e-05, 3.1857279388331606e-05, 3.1857279388331606e-05, 3.1857279388331606e-05, ... ]\n",
      "Split on feature grade.A. (32094, 5130)\n",
      "--------------------------------------------------------------------\n",
      "Subtree, depth = 2 (32094 data points).\n",
      "Reached maximum depth. Stopping for now.\n",
      "--------------------------------------------------------------------\n",
      "Subtree, depth = 2 (5130 data points).\n",
      "Reached maximum depth. Stopping for now.\n",
      "=====================================================\n",
      "Adaboost Iteration 2\n",
      "=====================================================\n",
      "--------------------------------------------------------------------\n",
      "Subtree, depth = 1 (37224 data points).\n",
      "[1.9765462704704058e-05, 1.9765462704704058e-05, 1.9765462704704058e-05, 2.7112497392135943e-05, 2.7112497392135943e-05, 2.7112497392135943e-05, 2.7112497392135943e-05, 2.7112497392135943e-05, 2.7112497392135943e-05, 2.7112497392135943e-05, 1.9765462704704058e-05, 1.9765462704704058e-05, 2.7112497392135943e-05, 1.9765462704704058e-05, 2.7112497392135943e-05, 2.7112497392135943e-05, 2.7112497392135943e-05, 1.9765462704704058e-05, 2.7112497392135943e-05, 3.861504803005498e-05, 2.7112497392135943e-05, 1.9765462704704058e-05, 2.7112497392135943e-05, 3.861504803005498e-05, 2.7112497392135943e-05, 2.7112497392135943e-05, 2.7112497392135943e-05, 2.7112497392135943e-05, 2.7112497392135943e-05, 2.7112497392135943e-05, 2.7112497392135943e-05, 2.7112497392135943e-05, 1.9765462704704058e-05, 1.9765462704704058e-05, 2.7112497392135943e-05, 2.7112497392135943e-05, 2.7112497392135943e-05, 3.861504803005498e-05, 1.9765462704704058e-05, 1.9765462704704058e-05, 3.861504803005498e-05, 1.9765462704704058e-05, 1.9765462704704058e-05, 1.9765462704704058e-05, 1.9765462704704058e-05, 2.7112497392135943e-05, 2.7112497392135943e-05, 2.7112497392135943e-05, 3.861504803005498e-05, 2.7112497392135943e-05, 2.7112497392135943e-05, 3.861504803005498e-05, 2.7112497392135943e-05, 1.9765462704704058e-05, 2.7112497392135943e-05, 2.815101392687598e-05, 2.7112497392135943e-05, 1.9765462704704058e-05, 2.7112497392135943e-05, 2.7112497392135943e-05, 1.9765462704704058e-05, 2.7112497392135943e-05, 2.7112497392135943e-05, 2.7112497392135943e-05, 2.7112497392135943e-05, 3.861504803005498e-05, 2.7112497392135943e-05, 2.815101392687598e-05, 1.9765462704704058e-05, 1.9765462704704058e-05, 2.7112497392135943e-05, 2.7112497392135943e-05, 1.9765462704704058e-05, 3.861504803005498e-05, 2.7112497392135943e-05, 1.9765462704704058e-05, 2.7112497392135943e-05, 1.9765462704704058e-05, 2.7112497392135943e-05, 2.7112497392135943e-05, 3.861504803005498e-05, 3.861504803005498e-05, 2.7112497392135943e-05, 1.9765462704704058e-05, 1.9765462704704058e-05, 3.861504803005498e-05, 2.7112497392135943e-05, 2.7112497392135943e-05, 2.7112497392135943e-05, 1.9765462704704058e-05, 2.7112497392135943e-05, 1.9765462704704058e-05, 2.7112497392135943e-05, 2.7112497392135943e-05, 1.9765462704704058e-05, 1.9765462704704058e-05, 2.7112497392135943e-05, 2.7112497392135943e-05, 2.7112497392135943e-05, 2.7112497392135943e-05, ... ]\n",
      "Split on feature grade.D. (30465, 6759)\n",
      "--------------------------------------------------------------------\n",
      "Subtree, depth = 2 (30465 data points).\n",
      "Reached maximum depth. Stopping for now.\n",
      "--------------------------------------------------------------------\n",
      "Subtree, depth = 2 (6759 data points).\n",
      "Reached maximum depth. Stopping for now.\n",
      "=====================================================\n",
      "Adaboost Iteration 3\n",
      "=====================================================\n",
      "--------------------------------------------------------------------\n",
      "Subtree, depth = 1 (37224 data points).\n",
      "[2.1788543607076036e-05, 2.1788543607076036e-05, 2.1788543607076036e-05, 2.9887579185520227e-05, 2.9887579185520227e-05, 2.9887579185520227e-05, 2.9887579185520227e-05, 2.9887579185520227e-05, 2.9887579185520227e-05, 2.9887579185520227e-05, 2.1788543607076036e-05, 1.8086151404102345e-05, 2.4808968052177085e-05, 1.8086151404102345e-05, 2.9887579185520227e-05, 2.4808968052177085e-05, 2.9887579185520227e-05, 2.1788543607076036e-05, 2.9887579185520227e-05, 4.2567465809538e-05, 2.9887579185520227e-05, 2.1788543607076036e-05, 2.9887579185520227e-05, 4.2567465809538e-05, 2.9887579185520227e-05, 2.4808968052177085e-05, 2.4808968052177085e-05, 2.4808968052177085e-05, 2.9887579185520227e-05, 2.9887579185520227e-05, 2.9887579185520227e-05, 2.9887579185520227e-05, 1.8086151404102345e-05, 2.1788543607076036e-05, 2.9887579185520227e-05, 2.9887579185520227e-05, 2.9887579185520227e-05, 4.2567465809538e-05, 2.1788543607076036e-05, 2.1788543607076036e-05, 4.2567465809538e-05, 2.1788543607076036e-05, 1.8086151404102345e-05, 2.1788543607076036e-05, 2.1788543607076036e-05, 2.9887579185520227e-05, 2.9887579185520227e-05, 2.9887579185520227e-05, 4.2567465809538e-05, 2.9887579185520227e-05, 2.9887579185520227e-05, 4.2567465809538e-05, 2.9887579185520227e-05, 2.1788543607076036e-05, 2.9887579185520227e-05, 3.103239239540615e-05, 2.9887579185520227e-05, 2.1788543607076036e-05, 2.9887579185520227e-05, 2.9887579185520227e-05, 2.1788543607076036e-05, 2.4808968052177085e-05, 2.9887579185520227e-05, 2.4808968052177085e-05, 2.4808968052177085e-05, 4.2567465809538e-05, 2.9887579185520227e-05, 3.103239239540615e-05, 2.1788543607076036e-05, 2.1788543607076036e-05, 2.9887579185520227e-05, 2.9887579185520227e-05, 2.1788543607076036e-05, 4.2567465809538e-05, 2.9887579185520227e-05, 2.1788543607076036e-05, 2.4808968052177085e-05, 1.8086151404102345e-05, 2.9887579185520227e-05, 2.9887579185520227e-05, 4.2567465809538e-05, 4.2567465809538e-05, 2.4808968052177085e-05, 2.1788543607076036e-05, 1.8086151404102345e-05, 4.2567465809538e-05, 2.4808968052177085e-05, 2.9887579185520227e-05, 2.4808968052177085e-05, 2.1788543607076036e-05, 2.9887579185520227e-05, 2.1788543607076036e-05, 2.9887579185520227e-05, 2.9887579185520227e-05, 2.1788543607076036e-05, 2.1788543607076036e-05, 2.9887579185520227e-05, 2.9887579185520227e-05, 2.4808968052177085e-05, 2.9887579185520227e-05, ... ]\n",
      "Split on feature home_ownership.MORTGAGE. (19846, 17378)\n",
      "--------------------------------------------------------------------\n",
      "Subtree, depth = 2 (19846 data points).\n",
      "Reached maximum depth. Stopping for now.\n",
      "--------------------------------------------------------------------\n",
      "Subtree, depth = 2 (17378 data points).\n",
      "Reached maximum depth. Stopping for now.\n",
      "=====================================================\n",
      "Adaboost Iteration 4\n",
      "=====================================================\n",
      "--------------------------------------------------------------------\n",
      "Subtree, depth = 1 (37224 data points).\n",
      "[2.0310733650963335e-05, 2.0310733650963335e-05, 2.0310733650963335e-05, 2.7860451403095862e-05, 2.7860451403095862e-05, 2.7860451403095862e-05, 2.7860451403095862e-05, 2.7860451403095862e-05, 3.2232842342757394e-05, 2.7860451403095862e-05, 2.0310733650963335e-05, 1.685945653661868e-05, 2.3126297532772446e-05, 1.9505362517888515e-05, 2.7860451403095862e-05, 2.3126297532772446e-05, 2.7860451403095862e-05, 2.0310733650963335e-05, 3.2232842342757394e-05, 3.968032356110462e-05, 2.7860451403095862e-05, 2.0310733650963335e-05, 3.2232842342757394e-05, 3.968032356110462e-05, 2.7860451403095862e-05, 2.3126297532772446e-05, 2.3126297532772446e-05, 2.3126297532772446e-05, 2.7860451403095862e-05, 3.2232842342757394e-05, 2.7860451403095862e-05, 3.2232842342757394e-05, 1.9505362517888515e-05, 2.3498279556392647e-05, 2.7860451403095862e-05, 2.7860451403095862e-05, 2.7860451403095862e-05, 3.968032356110462e-05, 2.0310733650963335e-05, 2.0310733650963335e-05, 3.968032356110462e-05, 2.0310733650963335e-05, 1.685945653661868e-05, 2.0310733650963335e-05, 2.0310733650963335e-05, 2.7860451403095862e-05, 2.7860451403095862e-05, 2.7860451403095862e-05, 4.5907713229390207e-05, 2.7860451403095862e-05, 2.7860451403095862e-05, 3.968032356110462e-05, 3.2232842342757394e-05, 2.0310733650963335e-05, 2.7860451403095862e-05, 2.8927617552674857e-05, 2.7860451403095862e-05, 2.0310733650963335e-05, 2.7860451403095862e-05, 2.7860451403095862e-05, 2.0310733650963335e-05, 2.3126297532772446e-05, 3.2232842342757394e-05, 2.3126297532772446e-05, 2.3126297532772446e-05, 3.968032356110462e-05, 2.7860451403095862e-05, 2.8927617552674857e-05, 2.0310733650963335e-05, 2.0310733650963335e-05, 2.7860451403095862e-05, 2.7860451403095862e-05, 2.0310733650963335e-05, 4.5907713229390207e-05, 2.7860451403095862e-05, 2.0310733650963335e-05, 2.3126297532772446e-05, 1.685945653661868e-05, 2.7860451403095862e-05, 2.7860451403095862e-05, 4.5907713229390207e-05, 4.5907713229390207e-05, 2.6755715173470646e-05, 2.3498279556392647e-05, 1.9505362517888515e-05, 4.5907713229390207e-05, 2.6755715173470646e-05, 2.7860451403095862e-05, 2.6755715173470646e-05, 2.0310733650963335e-05, 2.7860451403095862e-05, 2.0310733650963335e-05, 2.7860451403095862e-05, 2.7860451403095862e-05, 2.0310733650963335e-05, 2.0310733650963335e-05, 3.2232842342757394e-05, 2.7860451403095862e-05, 2.6755715173470646e-05, 2.7860451403095862e-05, ... ]\n",
      "Split on feature grade.B. (26858, 10366)\n",
      "--------------------------------------------------------------------\n",
      "Subtree, depth = 2 (26858 data points).\n",
      "Reached maximum depth. Stopping for now.\n",
      "--------------------------------------------------------------------\n",
      "Subtree, depth = 2 (10366 data points).\n",
      "Reached maximum depth. Stopping for now.\n",
      "=====================================================\n",
      "Adaboost Iteration 5\n",
      "=====================================================\n",
      "--------------------------------------------------------------------\n",
      "Subtree, depth = 1 (37224 data points).\n",
      "[1.9036029491260022e-05, 1.9036029491260022e-05, 2.1768405090908584e-05, 2.611192602213042e-05, 2.9859954966688172e-05, 2.9859954966688172e-05, 2.9859954966688172e-05, 2.611192602213042e-05, 3.454614596431647e-05, 2.611192602213042e-05, 1.9036029491260022e-05, 1.580135495610065e-05, 2.1674888235099766e-05, 1.8281203550253472e-05, 2.9859954966688172e-05, 2.1674888235099766e-05, 2.9859954966688172e-05, 1.9036029491260022e-05, 3.0209905164836932e-05, 3.718998153944582e-05, 2.9859954966688172e-05, 1.9036029491260022e-05, 3.0209905164836932e-05, 3.718998153944582e-05, 2.611192602213042e-05, 2.1674888235099766e-05, 2.1674888235099766e-05, 2.1674888235099766e-05, 2.9859954966688172e-05, 3.454614596431647e-05, 2.611192602213042e-05, 3.454614596431647e-05, 1.8281203550253472e-05, 2.518471647126885e-05, 2.9859954966688172e-05, 2.9859954966688172e-05, 2.9859954966688172e-05, 3.718998153944582e-05, 1.9036029491260022e-05, 2.1768405090908584e-05, 3.718998153944582e-05, 2.1768405090908584e-05, 1.580135495610065e-05, 1.9036029491260022e-05, 1.9036029491260022e-05, 2.9859954966688172e-05, 2.9859954966688172e-05, 2.9859954966688172e-05, 4.302653946080036e-05, 2.9859954966688172e-05, 2.9859954966688172e-05, 3.718998153944582e-05, 3.454614596431647e-05, 2.1768405090908584e-05, 2.9859954966688172e-05, 2.711211669197836e-05, 2.611192602213042e-05, 1.9036029491260022e-05, 2.611192602213042e-05, 2.611192602213042e-05, 2.1768405090908584e-05, 2.1674888235099766e-05, 3.454614596431647e-05, 2.1674888235099766e-05, 2.1674888235099766e-05, 3.718998153944582e-05, 2.611192602213042e-05, 2.711211669197836e-05, 1.9036029491260022e-05, 1.9036029491260022e-05, 2.611192602213042e-05, 2.9859954966688172e-05, 1.9036029491260022e-05, 4.302653946080036e-05, 2.611192602213042e-05, 1.9036029491260022e-05, 2.1674888235099766e-05, 1.580135495610065e-05, 2.9859954966688172e-05, 2.611192602213042e-05, 4.302653946080036e-05, 4.302653946080036e-05, 2.5076523175113537e-05, 2.518471647126885e-05, 1.8281203550253472e-05, 4.302653946080036e-05, 2.5076523175113537e-05, 2.9859954966688172e-05, 2.5076523175113537e-05, 1.9036029491260022e-05, 2.611192602213042e-05, 1.9036029491260022e-05, 2.611192602213042e-05, 2.9859954966688172e-05, 1.9036029491260022e-05, 2.1768405090908584e-05, 3.0209905164836932e-05, 2.611192602213042e-05, 2.5076523175113537e-05, 2.9859954966688172e-05, ... ]\n",
      "Split on feature grade.E. (33815, 3409)\n",
      "--------------------------------------------------------------------\n",
      "Subtree, depth = 2 (33815 data points).\n",
      "Reached maximum depth. Stopping for now.\n",
      "--------------------------------------------------------------------\n",
      "Subtree, depth = 2 (3409 data points).\n",
      "Reached maximum depth. Stopping for now.\n",
      "=====================================================\n",
      "Adaboost Iteration 6\n",
      "=====================================================\n",
      "--------------------------------------------------------------------\n",
      "Subtree, depth = 1 (37224 data points).\n",
      "[2.0348064240517002e-05, 2.0348064240517002e-05, 2.3268765443275537e-05, 2.791165817356422e-05, 3.1918015369753364e-05, 3.1918015369753364e-05, 3.1918015369753364e-05, 2.791165817356422e-05, 3.692719627624719e-05, 2.791165817356422e-05, 1.7882944632693728e-05, 1.6890443770407573e-05, 2.3168803054036615e-05, 1.954121285666819e-05, 3.1918015369753364e-05, 2.3168803054036615e-05, 3.1918015369753364e-05, 1.7882944632693728e-05, 3.2292085451761906e-05, 3.9753254942987325e-05, 3.1918015369753364e-05, 2.0348064240517002e-05, 3.2292085451761906e-05, 3.9753254942987325e-05, 2.791165817356422e-05, 2.3168803054036615e-05, 2.3168803054036615e-05, 2.3168803054036615e-05, 3.1918015369753364e-05, 3.692719627624719e-05, 2.791165817356422e-05, 3.692719627624719e-05, 1.954121285666819e-05, 2.692054185311439e-05, 3.1918015369753364e-05, 3.1918015369753364e-05, 3.1918015369753364e-05, 3.9753254942987325e-05, 2.0348064240517002e-05, 2.3268765443275537e-05, 3.9753254942987325e-05, 2.3268765443275537e-05, 1.6890443770407573e-05, 1.7882944632693728e-05, 2.0348064240517002e-05, 3.1918015369753364e-05, 3.1918015369753364e-05, 3.1918015369753364e-05, 4.5992090388254305e-05, 3.1918015369753364e-05, 3.1918015369753364e-05, 3.9753254942987325e-05, 3.692719627624719e-05, 2.3268765443275537e-05, 3.1918015369753364e-05, 2.8980785746211437e-05, 2.453022714222767e-05, 2.0348064240517002e-05, 2.791165817356422e-05, 2.791165817356422e-05, 2.3268765443275537e-05, 2.3168803054036615e-05, 3.692719627624719e-05, 2.3168803054036615e-05, 2.3168803054036615e-05, 3.9753254942987325e-05, 2.791165817356422e-05, 2.8980785746211437e-05, 1.7882944632693728e-05, 2.0348064240517002e-05, 2.791165817356422e-05, 3.1918015369753364e-05, 1.7882944632693728e-05, 4.5992090388254305e-05, 2.791165817356422e-05, 1.7882944632693728e-05, 2.3168803054036615e-05, 1.6890443770407573e-05, 3.1918015369753364e-05, 2.791165817356422e-05, 4.5992090388254305e-05, 4.5992090388254305e-05, 2.680489146806049e-05, 2.692054185311439e-05, 1.954121285666819e-05, 4.5992090388254305e-05, 2.680489146806049e-05, 3.1918015369753364e-05, 2.680489146806049e-05, 2.0348064240517002e-05, 2.453022714222767e-05, 2.0348064240517002e-05, 2.791165817356422e-05, 3.1918015369753364e-05, 2.0348064240517002e-05, 2.3268765443275537e-05, 3.2292085451761906e-05, 2.791165817356422e-05, 2.680489146806049e-05, 3.1918015369753364e-05, ... ]\n",
      "Split on feature grade.A. (32094, 5130)\n",
      "--------------------------------------------------------------------\n",
      "Subtree, depth = 2 (32094 data points).\n",
      "Reached maximum depth. Stopping for now.\n",
      "--------------------------------------------------------------------\n",
      "Subtree, depth = 2 (5130 data points).\n",
      "Reached maximum depth. Stopping for now.\n",
      "=====================================================\n",
      "Adaboost Iteration 7\n",
      "=====================================================\n",
      "--------------------------------------------------------------------\n",
      "Subtree, depth = 1 (37224 data points).\n",
      "[1.929629127644232e-05, 1.929629127644232e-05, 2.2066024086095184e-05, 2.6468929907010296e-05, 3.0268202137594344e-05, 3.0268202137594344e-05, 3.0268202137594344e-05, 2.6468929907010296e-05, 3.501846303148477e-05, 2.6468929907010296e-05, 1.6958591462761244e-05, 1.601739206883269e-05, 2.1971228661987836e-05, 1.853114530798475e-05, 3.0268202137594344e-05, 2.1971228661987836e-05, 3.0268202137594344e-05, 1.6958591462761244e-05, 3.062293687672824e-05, 4.2044978849681946e-05, 3.0268202137594344e-05, 1.929629127644232e-05, 3.062293687672824e-05, 4.2044978849681946e-05, 2.6468929907010296e-05, 2.1971228661987836e-05, 2.1971228661987836e-05, 2.1971228661987836e-05, 3.0268202137594344e-05, 3.501846303148477e-05, 2.6468929907010296e-05, 3.501846303148477e-05, 1.853114530798475e-05, 2.5529043489207745e-05, 3.0268202137594344e-05, 3.0268202137594344e-05, 3.0268202137594344e-05, 4.2044978849681946e-05, 1.929629127644232e-05, 2.2066024086095184e-05, 4.2044978849681946e-05, 2.2066024086095184e-05, 1.601739206883269e-05, 1.6958591462761244e-05, 1.929629127644232e-05, 3.0268202137594344e-05, 3.0268202137594344e-05, 3.0268202137594344e-05, 4.8643475116694395e-05, 3.0268202137594344e-05, 3.0268202137594344e-05, 4.2044978849681946e-05, 3.501846303148477e-05, 2.2066024086095184e-05, 3.0268202137594344e-05, 3.0651490689105764e-05, 2.3262281975265167e-05, 1.929629127644232e-05, 2.6468929907010296e-05, 2.6468929907010296e-05, 2.2066024086095184e-05, 2.1971228661987836e-05, 3.501846303148477e-05, 2.1971228661987836e-05, 2.1971228661987836e-05, 4.2044978849681946e-05, 2.6468929907010296e-05, 3.0651490689105764e-05, 1.6958591462761244e-05, 1.929629127644232e-05, 2.6468929907010296e-05, 3.0268202137594344e-05, 1.6958591462761244e-05, 4.8643475116694395e-05, 2.6468929907010296e-05, 1.6958591462761244e-05, 2.1971228661987836e-05, 1.601739206883269e-05, 3.0268202137594344e-05, 2.6468929907010296e-05, 4.8643475116694395e-05, 4.8643475116694395e-05, 2.5419370967544032e-05, 2.5529043489207745e-05, 1.853114530798475e-05, 4.8643475116694395e-05, 2.5419370967544032e-05, 3.0268202137594344e-05, 2.5419370967544032e-05, 1.929629127644232e-05, 2.3262281975265167e-05, 1.929629127644232e-05, 2.6468929907010296e-05, 3.0268202137594344e-05, 1.929629127644232e-05, 2.2066024086095184e-05, 3.062293687672824e-05, 2.6468929907010296e-05, 2.5419370967544032e-05, 3.0268202137594344e-05, ... ]\n",
      "Split on feature grade.F. (35512, 1712)\n",
      "--------------------------------------------------------------------\n",
      "Subtree, depth = 2 (35512 data points).\n",
      "Reached maximum depth. Stopping for now.\n",
      "--------------------------------------------------------------------\n",
      "Subtree, depth = 2 (1712 data points).\n",
      "Reached maximum depth. Stopping for now.\n",
      "=====================================================\n",
      "Adaboost Iteration 8\n",
      "=====================================================\n",
      "--------------------------------------------------------------------\n",
      "Subtree, depth = 1 (37224 data points).\n",
      "[2.0173505904006534e-05, 1.8492186308167507e-05, 2.3069151517330548e-05, 2.7672214629331413e-05, 3.1644202804498845e-05, 3.1644202804498845e-05, 3.1644202804498845e-05, 2.7672214629331413e-05, 3.6610411845168866e-05, 2.7672214629331413e-05, 1.7729533623661425e-05, 1.674554705037387e-05, 2.2970046667569232e-05, 1.937357619259354e-05, 3.1644202804498845e-05, 2.2970046667569232e-05, 3.1644202804498845e-05, 1.7729533623661425e-05, 3.201506388094883e-05, 4.3956354975497195e-05, 3.1644202804498845e-05, 2.0173505904006534e-05, 3.201506388094883e-05, 4.3956354975497195e-05, 2.7672214629331413e-05, 2.2970046667569232e-05, 2.2970046667569232e-05, 2.2970046667569232e-05, 3.1644202804498845e-05, 3.6610411845168866e-05, 2.7672214629331413e-05, 3.6610411845168866e-05, 1.937357619259354e-05, 2.668960072042015e-05, 3.1644202804498845e-05, 3.1644202804498845e-05, 3.1644202804498845e-05, 4.3956354975497195e-05, 2.0173505904006534e-05, 2.3069151517330548e-05, 4.3956354975497195e-05, 2.3069151517330548e-05, 1.674554705037387e-05, 1.7729533623661425e-05, 2.0173505904006534e-05, 3.1644202804498845e-05, 3.1644202804498845e-05, 3.1644202804498845e-05, 5.085482066992069e-05, 3.1644202804498845e-05, 3.1644202804498845e-05, 4.3956354975497195e-05, 3.6610411845168866e-05, 2.3069151517330548e-05, 3.1644202804498845e-05, 3.204491575737045e-05, 2.431979161413232e-05, 2.0173505904006534e-05, 2.7672214629331413e-05, 2.7672214629331413e-05, 2.3069151517330548e-05, 2.2970046667569232e-05, 3.6610411845168866e-05, 2.2970046667569232e-05, 2.2970046667569232e-05, 4.3956354975497195e-05, 2.7672214629331413e-05, 3.204491575737045e-05, 1.7729533623661425e-05, 2.0173505904006534e-05, 2.7672214629331413e-05, 3.1644202804498845e-05, 1.7729533623661425e-05, 5.085482066992069e-05, 2.7672214629331413e-05, 1.7729533623661425e-05, 2.2970046667569232e-05, 1.674554705037387e-05, 3.1644202804498845e-05, 2.7672214629331413e-05, 5.085482066992069e-05, 5.085482066992069e-05, 2.65749424562183e-05, 2.668960072042015e-05, 1.937357619259354e-05, 5.085482066992069e-05, 2.65749424562183e-05, 3.1644202804498845e-05, 2.65749424562183e-05, 1.8492186308167507e-05, 2.431979161413232e-05, 2.0173505904006534e-05, 2.7672214629331413e-05, 3.1644202804498845e-05, 2.0173505904006534e-05, 2.3069151517330548e-05, 3.201506388094883e-05, 2.7672214629331413e-05, 2.65749424562183e-05, 3.1644202804498845e-05, ... ]\n",
      "Split on feature grade.A. (32094, 5130)\n",
      "--------------------------------------------------------------------\n",
      "Subtree, depth = 2 (32094 data points).\n",
      "Reached maximum depth. Stopping for now.\n",
      "--------------------------------------------------------------------\n",
      "Subtree, depth = 2 (5130 data points).\n",
      "Reached maximum depth. Stopping for now.\n",
      "=====================================================\n",
      "Adaboost Iteration 9\n",
      "=====================================================\n",
      "--------------------------------------------------------------------\n",
      "Subtree, depth = 1 (37224 data points).\n",
      "[1.9605331743486973e-05, 1.7971365461170967e-05, 2.2419423311453615e-05, 2.689284403348397e-05, 3.075296364907836e-05, 3.075296364907836e-05, 3.075296364907836e-05, 2.689284403348397e-05, 3.557930252211e-05, 2.689284403348397e-05, 1.7230192411927546e-05, 1.6273919204274127e-05, 2.2323109687723337e-05, 1.882793155145546e-05, 3.075296364907836e-05, 2.2323109687723337e-05, 3.075296364907836e-05, 1.7230192411927546e-05, 3.111337965555469e-05, 4.526825592387652e-05, 3.075296364907836e-05, 1.9605331743486973e-05, 3.111337965555469e-05, 4.526825592387652e-05, 2.689284403348397e-05, 2.2323109687723337e-05, 2.2323109687723337e-05, 2.2323109687723337e-05, 3.075296364907836e-05, 3.557930252211e-05, 2.689284403348397e-05, 3.557930252211e-05, 1.882793155145546e-05, 2.593790482997429e-05, 3.075296364907836e-05, 3.075296364907836e-05, 3.075296364907836e-05, 4.526825592387652e-05, 1.9605331743486973e-05, 2.2419423311453615e-05, 4.526825592387652e-05, 2.2419423311453615e-05, 1.6273919204274127e-05, 1.7230192411927546e-05, 1.9605331743486973e-05, 3.075296364907836e-05, 3.075296364907836e-05, 3.075296364907836e-05, 5.237261002037342e-05, 3.075296364907836e-05, 3.075296364907836e-05, 4.526825592387652e-05, 3.557930252211e-05, 2.2419423311453615e-05, 3.075296364907836e-05, 3.3001313424926466e-05, 2.363483991311807e-05, 1.9605331743486973e-05, 2.689284403348397e-05, 2.689284403348397e-05, 2.2419423311453615e-05, 2.2323109687723337e-05, 3.557930252211e-05, 2.2323109687723337e-05, 2.2323109687723337e-05, 4.526825592387652e-05, 2.689284403348397e-05, 3.3001313424926466e-05, 1.7230192411927546e-05, 1.9605331743486973e-05, 2.689284403348397e-05, 3.075296364907836e-05, 1.7230192411927546e-05, 5.237261002037342e-05, 2.689284403348397e-05, 1.7230192411927546e-05, 2.2323109687723337e-05, 1.6273919204274127e-05, 3.075296364907836e-05, 2.689284403348397e-05, 5.237261002037342e-05, 5.237261002037342e-05, 2.5826475843981168e-05, 2.593790482997429e-05, 1.882793155145546e-05, 5.237261002037342e-05, 2.5826475843981168e-05, 3.075296364907836e-05, 2.5826475843981168e-05, 1.7971365461170967e-05, 2.363483991311807e-05, 1.9605331743486973e-05, 2.689284403348397e-05, 3.075296364907836e-05, 1.9605331743486973e-05, 2.2419423311453615e-05, 3.111337965555469e-05, 2.689284403348397e-05, 2.5826475843981168e-05, 3.075296364907836e-05, ... ]\n",
      "Split on feature emp_length.n/a. (35781, 1443)\n",
      "--------------------------------------------------------------------\n",
      "Subtree, depth = 2 (35781 data points).\n",
      "Reached maximum depth. Stopping for now.\n",
      "--------------------------------------------------------------------\n",
      "Subtree, depth = 2 (1443 data points).\n",
      "Reached maximum depth. Stopping for now.\n",
      "=====================================================\n",
      "Adaboost Iteration 10\n",
      "=====================================================\n",
      "--------------------------------------------------------------------\n",
      "Subtree, depth = 1 (37224 data points).\n",
      "[2.012778210039538e-05, 1.8450273261465618e-05, 2.3016864653635486e-05, 2.760949479703167e-05, 3.157248035222162e-05, 3.157248035222162e-05, 3.157248035222162e-05, 2.760949479703167e-05, 3.652743334409438e-05, 2.760949479703167e-05, 1.7689349150155283e-05, 1.670759280938393e-05, 2.291798442773028e-05, 1.93296654515805e-05, 3.157248035222162e-05, 2.291798442773028e-05, 3.157248035222162e-05, 1.7689349150155283e-05, 3.1942500861885285e-05, 4.647458167105024e-05, 3.157248035222162e-05, 2.012778210039538e-05, 3.1942500861885285e-05, 4.4122970198274376e-05, 2.760949479703167e-05, 2.291798442773028e-05, 2.291798442773028e-05, 2.291798442773028e-05, 3.157248035222162e-05, 3.652743334409438e-05, 2.760949479703167e-05, 3.652743334409438e-05, 1.93296654515805e-05, 2.662910800945521e-05, 3.157248035222162e-05, 3.157248035222162e-05, 3.157248035222162e-05, 4.647458167105024e-05, 2.012778210039538e-05, 2.3016864653635486e-05, 4.647458167105024e-05, 2.3016864653635486e-05, 1.670759280938393e-05, 1.7689349150155283e-05, 2.012778210039538e-05, 3.157248035222162e-05, 3.157248035222162e-05, 3.157248035222162e-05, 5.376825530479759e-05, 3.157248035222162e-05, 3.157248035222162e-05, 4.647458167105024e-05, 3.652743334409438e-05, 2.3016864653635486e-05, 3.157248035222162e-05, 3.388074501031787e-05, 2.426467014040733e-05, 2.012778210039538e-05, 2.621245576219321e-05, 2.760949479703167e-05, 2.3016864653635486e-05, 2.291798442773028e-05, 3.652743334409438e-05, 2.291798442773028e-05, 2.291798442773028e-05, 4.647458167105024e-05, 2.760949479703167e-05, 3.388074501031787e-05, 1.7689349150155283e-05, 2.012778210039538e-05, 2.760949479703167e-05, 3.157248035222162e-05, 1.7689349150155283e-05, 5.104758431649547e-05, 2.760949479703167e-05, 1.7689349150155283e-05, 2.291798442773028e-05, 1.670759280938393e-05, 3.157248035222162e-05, 2.760949479703167e-05, 5.376825530479759e-05, 5.376825530479759e-05, 2.517306666081184e-05, 2.662910800945521e-05, 1.93296654515805e-05, 5.376825530479759e-05, 2.6514709621349248e-05, 3.157248035222162e-05, 2.6514709621349248e-05, 1.8450273261465618e-05, 2.426467014040733e-05, 2.012778210039538e-05, 2.760949479703167e-05, 3.157248035222162e-05, 2.012778210039538e-05, 2.3016864653635486e-05, 3.1942500861885285e-05, 2.760949479703167e-05, 2.6514709621349248e-05, 3.157248035222162e-05, ... ]\n",
      "Split on feature grade.D. (30465, 6759)\n",
      "--------------------------------------------------------------------\n",
      "Subtree, depth = 2 (30465 data points).\n",
      "Reached maximum depth. Stopping for now.\n",
      "--------------------------------------------------------------------\n",
      "Subtree, depth = 2 (6759 data points).\n",
      "Reached maximum depth. Stopping for now.\n",
      "=====================================================\n",
      "Adaboost Iteration 11\n",
      "=====================================================\n",
      "--------------------------------------------------------------------\n",
      "Subtree, depth = 1 (37224 data points).\n",
      "[1.9527038425207157e-05, 1.7899597339397576e-05, 2.232989200089282e-05, 2.6785448248250064e-05, 3.063015258918263e-05, 3.063015258918263e-05, 3.063015258918263e-05, 2.6785448248250064e-05, 3.543721761923847e-05, 2.6785448248250064e-05, 1.7161384143025e-05, 1.7237912179357335e-05, 2.3645429200980195e-05, 1.9943212604724033e-05, 3.063015258918263e-05, 2.3645429200980195e-05, 3.063015258918263e-05, 1.7161384143025e-05, 3.0989129284889974e-05, 4.508747846928448e-05, 3.063015258918263e-05, 1.9527038425207157e-05, 3.0989129284889974e-05, 4.2806054348086825e-05, 2.6785448248250064e-05, 2.3645429200980195e-05, 2.3645429200980195e-05, 2.3645429200980195e-05, 3.063015258918263e-05, 3.543721761923847e-05, 2.6785448248250064e-05, 3.543721761923847e-05, 1.9943212604724033e-05, 2.5834322566489284e-05, 3.063015258918263e-05, 3.063015258918263e-05, 3.063015258918263e-05, 4.508747846928448e-05, 1.9527038425207157e-05, 2.232989200089282e-05, 4.508747846928448e-05, 2.232989200089282e-05, 1.7237912179357335e-05, 1.7161384143025e-05, 1.9527038425207157e-05, 3.063015258918263e-05, 3.063015258918263e-05, 3.063015258918263e-05, 5.216346153571021e-05, 3.063015258918263e-05, 3.063015258918263e-05, 4.508747846928448e-05, 3.543721761923847e-05, 2.232989200089282e-05, 3.063015258918263e-05, 3.286952364603185e-05, 2.3540454871945538e-05, 1.9527038425207157e-05, 2.5430105926938413e-05, 2.6785448248250064e-05, 2.232989200089282e-05, 2.3645429200980195e-05, 3.543721761923847e-05, 2.3645429200980195e-05, 2.3645429200980195e-05, 4.508747846928448e-05, 2.6785448248250064e-05, 3.286952364603185e-05, 1.7161384143025e-05, 1.9527038425207157e-05, 2.6785448248250064e-05, 3.063015258918263e-05, 1.7161384143025e-05, 4.9523993030639394e-05, 2.6785448248250064e-05, 1.7161384143025e-05, 2.3645429200980195e-05, 1.7237912179357335e-05, 3.063015258918263e-05, 2.6785448248250064e-05, 5.216346153571021e-05, 5.216346153571021e-05, 2.5972090494117277e-05, 2.5834322566489284e-05, 1.9943212604724033e-05, 5.216346153571021e-05, 2.735631883829905e-05, 3.063015258918263e-05, 2.735631883829905e-05, 1.7899597339397576e-05, 2.3540454871945538e-05, 1.9527038425207157e-05, 2.6785448248250064e-05, 3.063015258918263e-05, 1.9527038425207157e-05, 2.232989200089282e-05, 3.0989129284889974e-05, 2.6785448248250064e-05, 2.735631883829905e-05, 3.063015258918263e-05, ... ]\n",
      "Split on feature grade.B. (26858, 10366)\n",
      "--------------------------------------------------------------------\n",
      "Subtree, depth = 2 (26858 data points).\n",
      "Reached maximum depth. Stopping for now.\n",
      "--------------------------------------------------------------------\n",
      "Subtree, depth = 2 (10366 data points).\n",
      "Reached maximum depth. Stopping for now.\n",
      "=====================================================\n",
      "Adaboost Iteration 12\n",
      "=====================================================\n",
      "--------------------------------------------------------------------\n",
      "Subtree, depth = 1 (37224 data points).\n",
      "[1.9061324098719876e-05, 1.7472697021090725e-05, 2.28891288713697e-05, 2.6146622906743554e-05, 3.139726380832865e-05, 3.139726380832865e-05, 3.139726380832865e-05, 2.6146622906743554e-05, 3.632471849380601e-05, 2.6146622906743554e-05, 1.675209000001552e-05, 1.682679286439285e-05, 2.3081492422906265e-05, 1.9467572642126726e-05, 3.139726380832865e-05, 2.3081492422906265e-05, 3.139726380832865e-05, 1.675209000001552e-05, 3.025004734327257e-05, 4.4012154899417035e-05, 3.139726380832865e-05, 1.9061324098719876e-05, 3.025004734327257e-05, 4.1785142096254374e-05, 2.6146622906743554e-05, 2.3081492422906265e-05, 2.3081492422906265e-05, 2.3081492422906265e-05, 3.139726380832865e-05, 3.632471849380601e-05, 2.6146622906743554e-05, 3.632471849380601e-05, 1.9467572642126726e-05, 2.6481325503287904e-05, 3.139726380832865e-05, 3.139726380832865e-05, 3.139726380832865e-05, 4.4012154899417035e-05, 1.9061324098719876e-05, 2.28891288713697e-05, 4.4012154899417035e-05, 2.28891288713697e-05, 1.682679286439285e-05, 1.675209000001552e-05, 1.9061324098719876e-05, 3.139726380832865e-05, 3.139726380832865e-05, 3.139726380832865e-05, 5.091937777721315e-05, 3.139726380832865e-05, 3.139726380832865e-05, 4.4012154899417035e-05, 3.632471849380601e-05, 2.28891288713697e-05, 3.139726380832865e-05, 3.208559483238191e-05, 2.2979021701837154e-05, 1.9061324098719876e-05, 2.4823605115275334e-05, 2.6146622906743554e-05, 2.28891288713697e-05, 2.3081492422906265e-05, 3.632471849380601e-05, 2.3081492422906265e-05, 2.3081492422906265e-05, 4.4012154899417035e-05, 2.6146622906743554e-05, 3.208559483238191e-05, 1.675209000001552e-05, 1.9061324098719876e-05, 2.6146622906743554e-05, 3.139726380832865e-05, 1.675209000001552e-05, 4.834285984715306e-05, 2.6146622906743554e-05, 1.675209000001552e-05, 2.3081492422906265e-05, 1.682679286439285e-05, 3.139726380832865e-05, 2.6146622906743554e-05, 5.091937777721315e-05, 5.091937777721315e-05, 2.5352663504291698e-05, 2.6481325503287904e-05, 1.9467572642126726e-05, 5.091937777721315e-05, 2.6703878395179752e-05, 3.139726380832865e-05, 2.6703878395179752e-05, 1.7472697021090725e-05, 2.2979021701837154e-05, 1.9061324098719876e-05, 2.6146622906743554e-05, 3.139726380832865e-05, 1.9061324098719876e-05, 2.28891288713697e-05, 3.025004734327257e-05, 2.6146622906743554e-05, 2.6703878395179752e-05, 3.139726380832865e-05, ... ]\n",
      "Split on feature emp_length.n/a. (35781, 1443)\n",
      "--------------------------------------------------------------------\n",
      "Subtree, depth = 2 (35781 data points).\n",
      "Reached maximum depth. Stopping for now.\n",
      "--------------------------------------------------------------------\n",
      "Subtree, depth = 2 (1443 data points).\n",
      "Reached maximum depth. Stopping for now.\n",
      "=====================================================\n",
      "Adaboost Iteration 13\n",
      "=====================================================\n",
      "--------------------------------------------------------------------\n",
      "Subtree, depth = 1 (37224 data points).\n",
      "[1.9601149594862333e-05, 1.796753186517118e-05, 2.3537359565379334e-05, 2.6887107335316405e-05, 3.228644881064361e-05, 3.228644881064361e-05, 3.228644881064361e-05, 2.6887107335316405e-05, 3.7353451287057806e-05, 2.6887107335316405e-05, 1.7226516920666262e-05, 1.7303335404641523e-05, 2.373517094147993e-05, 2.0018903284520614e-05, 3.228644881064361e-05, 2.373517094147993e-05, 3.228644881064361e-05, 1.7226516920666262e-05, 3.110674264580465e-05, 4.5258599439776746e-05, 3.228644881064361e-05, 1.9601149594862333e-05, 3.110674264580465e-05, 4.0665202025748647e-05, 2.6887107335316405e-05, 2.373517094147993e-05, 2.373517094147993e-05, 2.373517094147993e-05, 3.228644881064361e-05, 3.7353451287057806e-05, 2.6887107335316405e-05, 3.7353451287057806e-05, 2.0018903284520614e-05, 2.723128886387534e-05, 3.228644881064361e-05, 3.228644881064361e-05, 3.228644881064361e-05, 4.5258599439776746e-05, 1.9601149594862333e-05, 2.3537359565379334e-05, 4.5258599439776746e-05, 2.3537359565379334e-05, 1.7303335404641523e-05, 1.7226516920666262e-05, 1.9601149594862333e-05, 3.228644881064361e-05, 3.228644881064361e-05, 3.228644881064361e-05, 5.2361438057469085e-05, 3.228644881064361e-05, 3.228644881064361e-05, 4.5258599439776746e-05, 3.7353451287057806e-05, 2.3537359565379334e-05, 3.228644881064361e-05, 3.299427368699409e-05, 2.362979820229525e-05, 1.9601149594862333e-05, 2.4158274122766876e-05, 2.6887107335316405e-05, 2.3537359565379334e-05, 2.373517094147993e-05, 3.7353451287057806e-05, 2.373517094147993e-05, 2.373517094147993e-05, 4.5258599439776746e-05, 2.6887107335316405e-05, 3.299427368699409e-05, 1.7226516920666262e-05, 1.9601149594862333e-05, 2.6887107335316405e-05, 3.228644881064361e-05, 1.7226516920666262e-05, 4.704715751973361e-05, 2.6887107335316405e-05, 1.7226516920666262e-05, 2.373517094147993e-05, 1.7303335404641523e-05, 3.228644881064361e-05, 2.6887107335316405e-05, 5.2361438057469085e-05, 5.2361438057469085e-05, 2.4673152502819007e-05, 2.723128886387534e-05, 2.0018903284520614e-05, 5.2361438057469085e-05, 2.7460144556383836e-05, 3.228644881064361e-05, 2.7460144556383836e-05, 1.796753186517118e-05, 2.362979820229525e-05, 1.9601149594862333e-05, 2.6887107335316405e-05, 3.228644881064361e-05, 1.9601149594862333e-05, 2.3537359565379334e-05, 3.110674264580465e-05, 2.6887107335316405e-05, 2.7460144556383836e-05, 3.228644881064361e-05, ... ]\n",
      "Split on feature emp_length.4 years. (34593, 2631)\n",
      "--------------------------------------------------------------------\n",
      "Subtree, depth = 2 (34593 data points).\n",
      "Reached maximum depth. Stopping for now.\n",
      "--------------------------------------------------------------------\n",
      "Subtree, depth = 2 (2631 data points).\n",
      "Reached maximum depth. Stopping for now.\n",
      "=====================================================\n",
      "Adaboost Iteration 14\n",
      "=====================================================\n",
      "--------------------------------------------------------------------\n",
      "Subtree, depth = 1 (37224 data points).\n",
      "[1.9175991293896658e-05, 1.8374929516427492e-05, 2.302682298926658e-05, 2.6303913129423442e-05, 3.158614030811851e-05, 3.158614030811851e-05, 3.158614030811851e-05, 2.6303913129423442e-05, 3.654323707959253e-05, 2.7496748351104293e-05, 1.6852865537103196e-05, 1.6928017791453933e-05, 2.3220343742096962e-05, 1.9584683706405975e-05, 3.158614030811851e-05, 2.3220343742096962e-05, 3.3018515046093585e-05, 1.6852865537103196e-05, 3.0432022533708094e-05, 4.4276918791466954e-05, 3.158614030811851e-05, 1.9175991293896658e-05, 3.0432022533708094e-05, 3.978315436226747e-05, 2.6303913129423442e-05, 2.3220343742096962e-05, 2.3220343742096962e-05, 2.3220343742096962e-05, 3.158614030811851e-05, 3.654323707959253e-05, 2.6303913129423442e-05, 3.654323707959253e-05, 1.9584683706405975e-05, 2.6640629196163533e-05, 3.158614030811851e-05, 3.158614030811851e-05, 3.158614030811851e-05, 4.4276918791466954e-05, 1.9175991293896658e-05, 2.302682298926658e-05, 4.4276918791466954e-05, 2.302682298926658e-05, 1.6928017791453933e-05, 1.6852865537103196e-05, 1.9175991293896658e-05, 3.158614030811851e-05, 3.158614030811851e-05, 3.158614030811851e-05, 5.1225693445506724e-05, 3.158614030811851e-05, 3.158614030811851e-05, 4.62847975425143e-05, 3.654323707959253e-05, 2.302682298926658e-05, 3.158614030811851e-05, 3.227861212467247e-05, 2.3117256587976722e-05, 1.9175991293896658e-05, 2.363426961320531e-05, 2.6303913129423442e-05, 2.302682298926658e-05, 2.3220343742096962e-05, 3.654323707959253e-05, 2.3220343742096962e-05, 2.3220343742096962e-05, 4.4276918791466954e-05, 2.6303913129423442e-05, 3.227861212467247e-05, 1.6852865537103196e-05, 1.9175991293896658e-05, 2.6303913129423442e-05, 3.158614030811851e-05, 1.6852865537103196e-05, 4.6026682192021334e-05, 2.6303913129423442e-05, 1.6852865537103196e-05, 2.3220343742096962e-05, 1.6928017791453933e-05, 3.158614030811851e-05, 2.6303913129423442e-05, 5.354868664793165e-05, 5.1225693445506724e-05, 2.4137980035163584e-05, 2.6640629196163533e-05, 1.9584683706405975e-05, 5.354868664793165e-05, 2.686452089934465e-05, 3.158614030811851e-05, 2.8082778676605722e-05, 1.8374929516427492e-05, 2.3117256587976722e-05, 1.9175991293896658e-05, 2.6303913129423442e-05, 3.158614030811851e-05, 1.9175991293896658e-05, 2.302682298926658e-05, 3.0432022533708094e-05, 2.6303913129423442e-05, 2.686452089934465e-05, 3.158614030811851e-05, ... ]\n",
      "Split on feature emp_length.n/a. (35781, 1443)\n",
      "--------------------------------------------------------------------\n",
      "Subtree, depth = 2 (35781 data points).\n",
      "Reached maximum depth. Stopping for now.\n",
      "--------------------------------------------------------------------\n",
      "Subtree, depth = 2 (1443 data points).\n",
      "Reached maximum depth. Stopping for now.\n",
      "=====================================================\n",
      "Adaboost Iteration 15\n",
      "=====================================================\n",
      "--------------------------------------------------------------------\n",
      "Subtree, depth = 1 (37224 data points).\n",
      "[1.9514445739805173e-05, 1.8699245297175155e-05, 2.3433244253044806e-05, 2.6768174726490307e-05, 3.2143632718942425e-05, 3.2143632718942425e-05, 3.2143632718942425e-05, 2.6768174726490307e-05, 3.718822178301245e-05, 2.798206337783884e-05, 1.7150317031521973e-05, 1.7226795716105972e-05, 2.363018062899303e-05, 1.9930351535023256e-05, 3.2143632718942425e-05, 2.363018062899303e-05, 3.3601288736557476e-05, 1.7150317031521973e-05, 3.0969144874173484e-05, 4.505840225098813e-05, 3.2143632718942425e-05, 1.9514445739805173e-05, 3.0969144874173484e-05, 3.910492673100485e-05, 2.6768174726490307e-05, 2.363018062899303e-05, 2.363018062899303e-05, 2.363018062899303e-05, 3.2143632718942425e-05, 3.718822178301245e-05, 2.6768174726490307e-05, 3.718822178301245e-05, 1.9930351535023256e-05, 2.711083380019418e-05, 3.2143632718942425e-05, 3.2143632718942425e-05, 3.2143632718942425e-05, 4.505840225098813e-05, 1.9514445739805173e-05, 2.3433244253044806e-05, 4.505840225098813e-05, 2.3433244253044806e-05, 1.7226795716105972e-05, 1.7150317031521973e-05, 1.9514445739805173e-05, 3.2143632718942425e-05, 3.2143632718942425e-05, 3.2143632718942425e-05, 5.212982212525309e-05, 3.2143632718942425e-05, 3.2143632718942425e-05, 4.7101719873472256e-05, 3.718822178301245e-05, 2.3433244253044806e-05, 3.2143632718942425e-05, 3.2848326598042564e-05, 2.3525273996281395e-05, 1.9514445739805173e-05, 2.3231349961575335e-05, 2.6768174726490307e-05, 2.3433244253044806e-05, 2.363018062899303e-05, 3.718822178301245e-05, 2.363018062899303e-05, 2.363018062899303e-05, 4.505840225098813e-05, 2.6768174726490307e-05, 3.2848326598042564e-05, 1.7150317031521973e-05, 1.9514445739805173e-05, 2.6768174726490307e-05, 3.2143632718942425e-05, 1.7150317031521973e-05, 4.524201420532243e-05, 2.6768174726490307e-05, 1.7150317031521973e-05, 2.363018062899303e-05, 1.7226795716105972e-05, 3.2143632718942425e-05, 2.6768174726490307e-05, 5.4493815939595594e-05, 5.212982212525309e-05, 2.372647307235119e-05, 2.711083380019418e-05, 1.9930351535023256e-05, 5.4493815939595594e-05, 2.7338677170915308e-05, 3.2143632718942425e-05, 2.8578437083563136e-05, 1.8699245297175155e-05, 2.3525273996281395e-05, 1.9514445739805173e-05, 2.6768174726490307e-05, 3.2143632718942425e-05, 1.9514445739805173e-05, 2.3433244253044806e-05, 3.0969144874173484e-05, 2.6768174726490307e-05, 2.7338677170915308e-05, 3.2143632718942425e-05, ... ]\n",
      "Split on feature grade.C. (27812, 9412)\n",
      "--------------------------------------------------------------------\n",
      "Subtree, depth = 2 (27812 data points).\n",
      "Reached maximum depth. Stopping for now.\n",
      "--------------------------------------------------------------------\n",
      "Subtree, depth = 2 (9412 data points).\n",
      "Reached maximum depth. Stopping for now.\n",
      "=====================================================\n",
      "Adaboost Iteration 16\n",
      "=====================================================\n",
      "--------------------------------------------------------------------\n",
      "Subtree, depth = 1 (37224 data points).\n",
      "[1.98991302647242e-05, 1.8344612287159934e-05, 2.2988830491322855e-05, 2.729585061925754e-05, 3.153402559080532e-05, 3.153402559080532e-05, 3.153402559080532e-05, 2.729585061925754e-05, 3.648294353148774e-05, 2.853366842469914e-05, 1.6825059597066972e-05, 1.690008785594207e-05, 2.3182031949702262e-05, 1.955237047518901e-05, 3.153402559080532e-05, 2.3182031949702262e-05, 3.296403701994215e-05, 1.6825059597066972e-05, 3.157963368548363e-05, 4.4203865259639156e-05, 3.153402559080532e-05, 1.98991302647242e-05, 3.157963368548363e-05, 3.8363297983285506e-05, 2.729585061925754e-05, 2.3182031949702262e-05, 2.3182031949702262e-05, 2.3182031949702262e-05, 3.153402559080532e-05, 3.648294353148774e-05, 2.729585061925754e-05, 3.648294353148774e-05, 1.955237047518901e-05, 2.659667419418924e-05, 3.153402559080532e-05, 3.153402559080532e-05, 3.153402559080532e-05, 4.4203865259639156e-05, 1.98991302647242e-05, 2.2988830491322855e-05, 4.4203865259639156e-05, 2.2988830491322855e-05, 1.690008785594207e-05, 1.6825059597066972e-05, 1.98991302647242e-05, 3.153402559080532e-05, 3.153402559080532e-05, 3.153402559080532e-05, 5.114117496660924e-05, 3.153402559080532e-05, 3.153402559080532e-05, 4.620843116421367e-05, 3.648294353148774e-05, 2.2988830491322855e-05, 3.153402559080532e-05, 3.222535488178904e-05, 2.3079114881507153e-05, 1.98991302647242e-05, 2.368930510631036e-05, 2.729585061925754e-05, 2.2988830491322855e-05, 2.3182031949702262e-05, 3.648294353148774e-05, 2.3182031949702262e-05, 2.3182031949702262e-05, 4.4203865259639156e-05, 2.729585061925754e-05, 3.222535488178904e-05, 1.6825059597066972e-05, 1.98991302647242e-05, 2.729585061925754e-05, 3.153402559080532e-05, 1.6825059597066972e-05, 4.438399499535952e-05, 2.729585061925754e-05, 1.6825059597066972e-05, 2.3182031949702262e-05, 1.690008785594207e-05, 3.153402559080532e-05, 2.729585061925754e-05, 5.346033540780142e-05, 5.114117496660924e-05, 2.3276498197484764e-05, 2.659667419418924e-05, 1.955237047518901e-05, 5.346033540780142e-05, 2.6820196493172625e-05, 3.153402559080532e-05, 2.8036444238215218e-05, 1.8344612287159934e-05, 2.3079114881507153e-05, 1.9144352373923113e-05, 2.729585061925754e-05, 3.153402559080532e-05, 1.98991302647242e-05, 2.2988830491322855e-05, 3.157963368548363e-05, 2.729585061925754e-05, 2.6820196493172625e-05, 3.153402559080532e-05, ... ]\n",
      "Split on feature grade.A. (32094, 5130)\n",
      "--------------------------------------------------------------------\n",
      "Subtree, depth = 2 (32094 data points).\n",
      "Reached maximum depth. Stopping for now.\n",
      "--------------------------------------------------------------------\n",
      "Subtree, depth = 2 (5130 data points).\n",
      "Reached maximum depth. Stopping for now.\n",
      "=====================================================\n",
      "Adaboost Iteration 17\n",
      "=====================================================\n",
      "--------------------------------------------------------------------\n",
      "Subtree, depth = 1 (37224 data points).\n",
      "[1.9611795656824086e-05, 1.8079724228813243e-05, 2.2656881983652844e-05, 2.6901710652804438e-05, 3.1078688259067336e-05, 3.1078688259067336e-05, 3.1078688259067336e-05, 2.6901710652804438e-05, 3.5956146021485755e-05, 2.8121654918596474e-05, 1.658211320504353e-05, 1.6656058089165132e-05, 2.2847293698734397e-05, 1.9270042924724888e-05, 3.1078688259067336e-05, 2.2847293698734397e-05, 3.2488050957942216e-05, 1.658211320504353e-05, 3.112363779310369e-05, 4.48611306943613e-05, 3.1078688259067336e-05, 1.9611795656824086e-05, 3.112363779310369e-05, 3.8933720266003444e-05, 2.6901710652804438e-05, 2.2847293698734397e-05, 2.2847293698734397e-05, 2.2847293698734397e-05, 3.1078688259067336e-05, 3.5956146021485755e-05, 2.6901710652804438e-05, 3.5956146021485755e-05, 1.9270042924724888e-05, 2.621263002495327e-05, 3.1078688259067336e-05, 3.1078688259067336e-05, 3.1078688259067336e-05, 4.48611306943613e-05, 1.9611795656824086e-05, 2.2656881983652844e-05, 4.48611306943613e-05, 2.2656881983652844e-05, 1.6656058089165132e-05, 1.658211320504353e-05, 1.9611795656824086e-05, 3.1078688259067336e-05, 3.1078688259067336e-05, 3.1078688259067336e-05, 5.190159097093818e-05, 3.1078688259067336e-05, 3.1078688259067336e-05, 4.689550240602894e-05, 3.5956146021485755e-05, 2.2656881983652844e-05, 3.1078688259067336e-05, 3.270451234372244e-05, 2.274586270731966e-05, 1.9611795656824086e-05, 2.334724205613704e-05, 2.6901710652804438e-05, 2.2656881983652844e-05, 2.2847293698734397e-05, 3.5956146021485755e-05, 2.2847293698734397e-05, 2.2847293698734397e-05, 4.48611306943613e-05, 2.6901710652804438e-05, 3.270451234372244e-05, 1.658211320504353e-05, 1.9611795656824086e-05, 2.6901710652804438e-05, 3.1078688259067336e-05, 1.658211320504353e-05, 4.5043938771633e-05, 2.6901710652804438e-05, 1.658211320504353e-05, 2.2847293698734397e-05, 1.6656058089165132e-05, 3.1078688259067336e-05, 2.6901710652804438e-05, 5.425523491230885e-05, 5.190159097093818e-05, 2.2940395895832004e-05, 2.621263002495327e-05, 1.9270042924724888e-05, 5.425523491230885e-05, 2.6432924761159742e-05, 3.1078688259067336e-05, 2.7631610428650095e-05, 1.8079724228813243e-05, 2.274586270731966e-05, 1.886791642372411e-05, 2.6901710652804438e-05, 3.1078688259067336e-05, 1.9611795656824086e-05, 2.2656881983652844e-05, 3.112363779310369e-05, 2.6901710652804438e-05, 2.6432924761159742e-05, 3.1078688259067336e-05, ... ]\n",
      "Split on feature grade.F. (35512, 1712)\n",
      "--------------------------------------------------------------------\n",
      "Subtree, depth = 2 (35512 data points).\n",
      "Reached maximum depth. Stopping for now.\n",
      "--------------------------------------------------------------------\n",
      "Subtree, depth = 2 (1712 data points).\n",
      "Reached maximum depth. Stopping for now.\n",
      "=====================================================\n",
      "Adaboost Iteration 18\n",
      "=====================================================\n",
      "--------------------------------------------------------------------\n",
      "Subtree, depth = 1 (37224 data points).\n",
      "[2.0004314935168852e-05, 1.773179571047259e-05, 2.3110346986112803e-05, 2.7440133560958915e-05, 3.170071107129801e-05, 3.170071107129801e-05, 3.170071107129801e-05, 2.7440133560958915e-05, 3.667578846195254e-05, 2.868449433869145e-05, 1.691399505934024e-05, 1.698941990955269e-05, 2.3304569686700224e-05, 1.9655722210540504e-05, 3.170071107129801e-05, 2.3304569686700224e-05, 3.313828138762764e-05, 1.691399505934024e-05, 3.174656024547801e-05, 4.5759001493854045e-05, 3.170071107129801e-05, 2.0004314935168852e-05, 3.174656024547801e-05, 3.9712957213476494e-05, 2.7440133560958915e-05, 2.3304569686700224e-05, 2.3304569686700224e-05, 2.3304569686700224e-05, 3.170071107129801e-05, 3.667578846195254e-05, 2.7440133560958915e-05, 3.667578846195254e-05, 1.9655722210540504e-05, 2.673726136422245e-05, 3.170071107129801e-05, 3.170071107129801e-05, 3.170071107129801e-05, 4.5759001493854045e-05, 2.0004314935168852e-05, 2.3110346986112803e-05, 4.5759001493854045e-05, 2.3110346986112803e-05, 1.698941990955269e-05, 1.691399505934024e-05, 2.0004314935168852e-05, 3.170071107129801e-05, 3.170071107129801e-05, 3.170071107129801e-05, 5.294037270155289e-05, 3.170071107129801e-05, 3.170071107129801e-05, 4.7834090033808184e-05, 3.667578846195254e-05, 2.3110346986112803e-05, 3.170071107129801e-05, 3.335907512871192e-05, 2.32011086099099e-05, 2.0004314935168852e-05, 2.381452423486129e-05, 2.7440133560958915e-05, 2.3110346986112803e-05, 2.3304569686700224e-05, 3.667578846195254e-05, 2.3304569686700224e-05, 2.3304569686700224e-05, 4.5759001493854045e-05, 2.7440133560958915e-05, 3.335907512871192e-05, 1.691399505934024e-05, 2.0004314935168852e-05, 2.7440133560958915e-05, 3.170071107129801e-05, 1.691399505934024e-05, 4.594546837401264e-05, 2.7440133560958915e-05, 1.691399505934024e-05, 2.3304569686700224e-05, 1.698941990955269e-05, 3.170071107129801e-05, 2.7440133560958915e-05, 5.5341123528876965e-05, 5.294037270155289e-05, 2.3399535272946715e-05, 2.673726136422245e-05, 1.9655722210540504e-05, 5.5341123528876965e-05, 2.6961965178128482e-05, 3.170071107129801e-05, 2.818464187843392e-05, 1.773179571047259e-05, 2.32011086099099e-05, 1.9245547369309275e-05, 2.7440133560958915e-05, 3.170071107129801e-05, 2.0004314935168852e-05, 2.3110346986112803e-05, 3.174656024547801e-05, 2.7440133560958915e-05, 2.6961965178128482e-05, 3.170071107129801e-05, ... ]\n",
      "Split on feature term. 36 months. (9223, 28001)\n",
      "--------------------------------------------------------------------\n",
      "Subtree, depth = 2 (9223 data points).\n",
      "Reached maximum depth. Stopping for now.\n",
      "--------------------------------------------------------------------\n",
      "Subtree, depth = 2 (28001 data points).\n",
      "Reached maximum depth. Stopping for now.\n",
      "=====================================================\n",
      "Adaboost Iteration 19\n",
      "=====================================================\n",
      "--------------------------------------------------------------------\n",
      "Subtree, depth = 1 (37224 data points).\n",
      "[2.0431354479926306e-05, 1.8110322942845843e-05, 2.3603692151299445e-05, 2.6878344281779483e-05, 3.1051693835916975e-05, 3.1051693835916975e-05, 3.1051693835916975e-05, 2.6878344281779483e-05, 3.5924915120989915e-05, 2.8097228924608794e-05, 1.7275064397309527e-05, 1.7352099369828212e-05, 2.2827448925724574e-05, 2.0075320216864204e-05, 3.1051693835916975e-05, 2.2827448925724574e-05, 3.24598323861808e-05, 1.7275064397309527e-05, 3.109660432754806e-05, 4.4822165074742076e-05, 3.1051693835916975e-05, 2.0431354479926306e-05, 3.109660432754806e-05, 3.889990309486298e-05, 2.6878344281779483e-05, 2.2827448925724574e-05, 2.2827448925724574e-05, 2.2827448925724574e-05, 3.1051693835916975e-05, 3.5924915120989915e-05, 2.6878344281779483e-05, 3.5924915120989915e-05, 2.0075320216864204e-05, 2.730803161844222e-05, 3.1051693835916975e-05, 3.1051693835916975e-05, 3.1051693835916975e-05, 4.4822165074742076e-05, 2.0431354479926306e-05, 2.3603692151299445e-05, 4.4822165074742076e-05, 2.3603692151299445e-05, 1.7352099369828212e-05, 1.7275064397309527e-05, 2.0431354479926306e-05, 3.1051693835916975e-05, 3.1051693835916975e-05, 3.1051693835916975e-05, 5.185651012656123e-05, 3.1051693835916975e-05, 3.1051693835916975e-05, 4.6854769765537664e-05, 3.5924915120989915e-05, 2.3603692151299445e-05, 3.1051693835916975e-05, 3.407120370210536e-05, 2.2726106035554007e-05, 2.0431354479926306e-05, 2.3326963036436993e-05, 2.6878344281779483e-05, 2.3603692151299445e-05, 2.2827448925724574e-05, 3.5924915120989915e-05, 2.2827448925724574e-05, 2.2827448925724574e-05, 4.4822165074742076e-05, 2.6878344281779483e-05, 3.407120370210536e-05, 1.7275064397309527e-05, 2.0431354479926306e-05, 2.6878344281779483e-05, 3.1051693835916975e-05, 1.7275064397309527e-05, 4.500481436800874e-05, 2.6878344281779483e-05, 1.7275064397309527e-05, 2.2827448925724574e-05, 1.7352099369828212e-05, 3.1051693835916975e-05, 2.6878344281779483e-05, 5.420810973259932e-05, 5.185651012656123e-05, 2.2920470255827934e-05, 2.730803161844222e-05, 2.0075320216864204e-05, 5.420810973259932e-05, 2.6409965569634143e-05, 3.1051693835916975e-05, 2.7607610079020822e-05, 1.8110322942845843e-05, 2.2726106035554007e-05, 1.9656389220871458e-05, 2.6878344281779483e-05, 3.1051693835916975e-05, 2.0431354479926306e-05, 2.3603692151299445e-05, 3.109660432754806e-05, 2.6878344281779483e-05, 2.6409965569634143e-05, 3.1051693835916975e-05, ... ]\n",
      "Split on feature grade.B. (26858, 10366)\n",
      "--------------------------------------------------------------------\n",
      "Subtree, depth = 2 (26858 data points).\n",
      "Reached maximum depth. Stopping for now.\n",
      "--------------------------------------------------------------------\n",
      "Subtree, depth = 2 (10366 data points).\n",
      "Reached maximum depth. Stopping for now.\n",
      "=====================================================\n",
      "Adaboost Iteration 20\n",
      "=====================================================\n",
      "--------------------------------------------------------------------\n",
      "Subtree, depth = 1 (37224 data points).\n",
      "[2.014165627880483e-05, 1.785353487803956e-05, 2.3948139138803386e-05, 2.649723357298112e-05, 3.1504828978085296e-05, 3.1504828978085296e-05, 3.1504828978085296e-05, 2.649723357298112e-05, 3.644916483202839e-05, 2.76988355295965e-05, 1.703011954624372e-05, 1.710606223224836e-05, 2.2503776263862036e-05, 1.979067026086265e-05, 3.1504828978085296e-05, 2.2503776263862036e-05, 3.293351639326896e-05, 1.703011954624372e-05, 3.0655682491282724e-05, 4.41866271516308e-05, 3.1504828978085296e-05, 2.014165627880483e-05, 3.0655682491282724e-05, 3.834833751160938e-05, 2.649723357298112e-05, 2.2503776263862036e-05, 2.2503776263862036e-05, 2.2503776263862036e-05, 3.1504828978085296e-05, 3.644916483202839e-05, 2.649723357298112e-05, 3.644916483202839e-05, 1.979067026086265e-05, 2.7706535766240003e-05, 3.1504828978085296e-05, 3.1504828978085296e-05, 3.1504828978085296e-05, 4.41866271516308e-05, 2.014165627880483e-05, 2.3948139138803386e-05, 4.41866271516308e-05, 2.3948139138803386e-05, 1.710606223224836e-05, 1.703011954624372e-05, 2.014165627880483e-05, 3.1504828978085296e-05, 3.1504828978085296e-05, 3.1504828978085296e-05, 5.11212315274423e-05, 3.1504828978085296e-05, 3.1504828978085296e-05, 4.619041133896475e-05, 3.644916483202839e-05, 2.3948139138803386e-05, 3.1504828978085296e-05, 3.358810472635018e-05, 2.240387032458025e-05, 2.014165627880483e-05, 2.2996207714467396e-05, 2.649723357298112e-05, 2.3948139138803386e-05, 2.2503776263862036e-05, 3.644916483202839e-05, 2.2503776263862036e-05, 2.2503776263862036e-05, 4.41866271516308e-05, 2.649723357298112e-05, 3.358810472635018e-05, 1.703011954624372e-05, 2.014165627880483e-05, 2.649723357298112e-05, 3.1504828978085296e-05, 1.703011954624372e-05, 4.436668664245693e-05, 2.649723357298112e-05, 1.703011954624372e-05, 2.2503776263862036e-05, 1.710606223224836e-05, 3.1504828978085296e-05, 2.649723357298112e-05, 5.3439487569484354e-05, 5.11212315274423e-05, 2.259547863530197e-05, 2.7706535766240003e-05, 1.979067026086265e-05, 5.3439487569484354e-05, 2.603549604903921e-05, 3.1504828978085296e-05, 2.7216159038170184e-05, 1.785353487803956e-05, 2.240387032458025e-05, 1.937767932900282e-05, 2.649723357298112e-05, 3.1504828978085296e-05, 2.014165627880483e-05, 2.3948139138803386e-05, 3.0655682491282724e-05, 2.649723357298112e-05, 2.603549604903921e-05, 3.1504828978085296e-05, ... ]\n",
      "Split on feature emp_length.n/a. (35781, 1443)\n",
      "--------------------------------------------------------------------\n",
      "Subtree, depth = 2 (35781 data points).\n",
      "Reached maximum depth. Stopping for now.\n",
      "--------------------------------------------------------------------\n",
      "Subtree, depth = 2 (1443 data points).\n",
      "Reached maximum depth. Stopping for now.\n",
      "=====================================================\n",
      "Adaboost Iteration 21\n",
      "=====================================================\n",
      "--------------------------------------------------------------------\n",
      "Subtree, depth = 1 (37224 data points).\n",
      "[2.0500122930295267e-05, 1.817127919739493e-05, 2.4374350823070265e-05, 2.6968812198948528e-05, 3.2065529170424356e-05, 3.2065529170424356e-05, 3.2065529170424356e-05, 2.6968812198948528e-05, 3.709786074293565e-05, 2.8191799399351705e-05, 1.733320931422114e-05, 1.7410503573303005e-05, 2.290428222084659e-05, 2.014289031669928e-05, 3.2065529170424356e-05, 2.290428222084659e-05, 3.351964333237891e-05, 1.733320931422114e-05, 3.120127018773091e-05, 4.497302882865523e-05, 3.2065529170424356e-05, 2.0500122930295267e-05, 3.120127018773091e-05, 3.7689299656515175e-05, 2.6968812198948528e-05, 2.290428222084659e-05, 2.290428222084659e-05, 2.290428222084659e-05, 3.2065529170424356e-05, 3.709786074293565e-05, 2.6968812198948528e-05, 3.709786074293565e-05, 2.014289031669928e-05, 2.8199636679245626e-05, 3.2065529170424356e-05, 3.2065529170424356e-05, 3.2065529170424356e-05, 4.497302882865523e-05, 2.0500122930295267e-05, 2.4374350823070265e-05, 4.497302882865523e-05, 2.4374350823070265e-05, 1.7410503573303005e-05, 1.733320931422114e-05, 2.0500122930295267e-05, 3.2065529170424356e-05, 3.2065529170424356e-05, 3.2065529170424356e-05, 5.203105028475043e-05, 3.2065529170424356e-05, 3.2065529170424356e-05, 4.701247491975718e-05, 3.709786074293565e-05, 2.4374350823070265e-05, 3.2065529170424356e-05, 3.4185881555847315e-05, 2.2802598227812786e-05, 2.0500122930295267e-05, 2.2601004887151735e-05, 2.6968812198948528e-05, 2.4374350823070265e-05, 2.290428222084659e-05, 3.709786074293565e-05, 2.290428222084659e-05, 2.290428222084659e-05, 4.497302882865523e-05, 2.6968812198948528e-05, 3.4185881555847315e-05, 1.733320931422114e-05, 2.0500122930295267e-05, 2.6968812198948528e-05, 3.2065529170424356e-05, 1.733320931422114e-05, 4.3604220055903354e-05, 2.6968812198948528e-05, 1.733320931422114e-05, 2.290428222084659e-05, 1.7410503573303005e-05, 3.2065529170424356e-05, 2.6968812198948528e-05, 5.439056497350878e-05, 5.203105028475043e-05, 2.220716256370882e-05, 2.8199636679245626e-05, 2.014289031669928e-05, 5.439056497350878e-05, 2.649885700403737e-05, 3.2065529170424356e-05, 2.7700532580335656e-05, 1.817127919739493e-05, 2.2802598227812786e-05, 1.9722549270509703e-05, 2.6968812198948528e-05, 3.2065529170424356e-05, 2.0500122930295267e-05, 2.4374350823070265e-05, 3.120127018773091e-05, 2.6968812198948528e-05, 2.649885700403737e-05, 3.2065529170424356e-05, ... ]\n",
      "Split on feature grade.D. (30465, 6759)\n",
      "--------------------------------------------------------------------\n",
      "Subtree, depth = 2 (30465 data points).\n",
      "Reached maximum depth. Stopping for now.\n",
      "--------------------------------------------------------------------\n",
      "Subtree, depth = 2 (6759 data points).\n",
      "Reached maximum depth. Stopping for now.\n",
      "=====================================================\n",
      "Adaboost Iteration 22\n",
      "=====================================================\n",
      "--------------------------------------------------------------------\n",
      "Subtree, depth = 1 (37224 data points).\n",
      "[2.0151106561790354e-05, 1.7861911595155275e-05, 2.3959375389124898e-05, 2.650966583535975e-05, 3.1519610758944444e-05, 3.1519610758944444e-05, 3.1519610758944444e-05, 2.650966583535975e-05, 3.64662664505587e-05, 2.771183157274712e-05, 1.703810992433188e-05, 1.7717367680664527e-05, 2.3307975433329763e-05, 2.0497913365325688e-05, 3.1519610758944444e-05, 2.3307975433329763e-05, 3.294896850134372e-05, 1.703810992433188e-05, 3.0670065860289074e-05, 4.42073591175118e-05, 3.1519610758944444e-05, 2.0151106561790354e-05, 3.0670065860289074e-05, 3.70476360654071e-05, 2.650966583535975e-05, 2.3307975433329763e-05, 2.3307975433329763e-05, 2.3307975433329763e-05, 3.1519610758944444e-05, 3.64662664505587e-05, 2.650966583535975e-05, 3.64662664505587e-05, 2.0497913365325688e-05, 2.771953542227202e-05, 3.1519610758944444e-05, 3.1519610758944444e-05, 3.1519610758944444e-05, 4.42073591175118e-05, 2.0151106561790354e-05, 2.3959375389124898e-05, 4.42073591175118e-05, 2.3959375389124898e-05, 1.7717367680664527e-05, 1.703810992433188e-05, 2.0151106561790354e-05, 3.1519610758944444e-05, 3.1519610758944444e-05, 3.1519610758944444e-05, 5.114521714698697e-05, 3.1519610758944444e-05, 3.1519610758944444e-05, 4.621208346226627e-05, 3.64662664505587e-05, 2.3959375389124898e-05, 3.1519610758944444e-05, 3.3603863961351405e-05, 2.2414382017938912e-05, 2.0151106561790354e-05, 2.2216220821363608e-05, 2.650966583535975e-05, 2.3959375389124898e-05, 2.3307975433329763e-05, 3.64662664505587e-05, 2.3307975433329763e-05, 2.3307975433329763e-05, 4.42073591175118e-05, 2.650966583535975e-05, 3.3603863961351405e-05, 1.703810992433188e-05, 2.0151106561790354e-05, 2.650966583535975e-05, 3.1519610758944444e-05, 1.703810992433188e-05, 4.2861854432675296e-05, 2.650966583535975e-05, 1.703810992433188e-05, 2.3307975433329763e-05, 1.7717367680664527e-05, 3.1519610758944444e-05, 2.650966583535975e-05, 5.346456089380002e-05, 5.114521714698697e-05, 2.259856888279968e-05, 2.771953542227202e-05, 2.0497913365325688e-05, 5.346456089380002e-05, 2.696590541917416e-05, 3.1519610758944444e-05, 2.81887608023348e-05, 1.7861911595155275e-05, 2.2414382017938912e-05, 1.9386771160912126e-05, 2.650966583535975e-05, 3.1519610758944444e-05, 2.0151106561790354e-05, 2.3959375389124898e-05, 3.0670065860289074e-05, 2.650966583535975e-05, 2.696590541917416e-05, 3.1519610758944444e-05, ... ]\n",
      "Split on feature grade.F. (35512, 1712)\n",
      "--------------------------------------------------------------------\n",
      "Subtree, depth = 2 (35512 data points).\n",
      "Reached maximum depth. Stopping for now.\n",
      "--------------------------------------------------------------------\n",
      "Subtree, depth = 2 (1712 data points).\n",
      "Reached maximum depth. Stopping for now.\n",
      "=====================================================\n",
      "Adaboost Iteration 23\n",
      "=====================================================\n",
      "--------------------------------------------------------------------\n",
      "Subtree, depth = 1 (37224 data points).\n",
      "[2.0382259818772148e-05, 1.7661612933992744e-05, 2.4234213281498865e-05, 2.6813758098509294e-05, 3.1881172078834616e-05, 3.1881172078834616e-05, 3.1881172078834616e-05, 2.6813758098509294e-05, 3.688457083668089e-05, 2.8029713873916505e-05, 1.7233554010230912e-05, 1.792060352937445e-05, 2.3575341119603376e-05, 2.073304484166406e-05, 3.1881172078834616e-05, 2.3575341119603376e-05, 3.332692597776925e-05, 1.7233554010230912e-05, 3.10218820542888e-05, 4.471446154443028e-05, 3.1881172078834616e-05, 2.0382259818772148e-05, 3.10218820542888e-05, 3.7472609339888866e-05, 2.6813758098509294e-05, 2.3575341119603376e-05, 2.3575341119603376e-05, 2.3575341119603376e-05, 3.1881172078834616e-05, 3.688457083668089e-05, 2.6813758098509294e-05, 3.688457083668089e-05, 2.073304484166406e-05, 2.803750609426628e-05, 3.1881172078834616e-05, 3.1881172078834616e-05, 3.1881172078834616e-05, 4.471446154443028e-05, 2.0382259818772148e-05, 2.4234213281498865e-05, 4.471446154443028e-05, 2.4234213281498865e-05, 1.792060352937445e-05, 1.7233554010230912e-05, 2.0382259818772148e-05, 3.1881172078834616e-05, 3.1881172078834616e-05, 3.1881172078834616e-05, 5.173190371361871e-05, 3.1881172078834616e-05, 3.1881172078834616e-05, 4.67421820735491e-05, 3.688457083668089e-05, 2.4234213281498865e-05, 3.1881172078834616e-05, 3.398933374079112e-05, 2.2671497297975444e-05, 2.0382259818772148e-05, 2.2471062995163748e-05, 2.6813758098509294e-05, 2.4234213281498865e-05, 2.3575341119603376e-05, 3.688457083668089e-05, 2.3575341119603376e-05, 2.3575341119603376e-05, 4.471446154443028e-05, 2.6813758098509294e-05, 3.398933374079112e-05, 1.7233554010230912e-05, 2.0382259818772148e-05, 2.6813758098509294e-05, 3.1881172078834616e-05, 1.7233554010230912e-05, 4.335352258112224e-05, 2.6813758098509294e-05, 1.7233554010230912e-05, 2.3575341119603376e-05, 1.792060352937445e-05, 3.1881172078834616e-05, 2.6813758098509294e-05, 5.407785264260835e-05, 5.173190371361871e-05, 2.2857796969573413e-05, 2.803750609426628e-05, 2.073304484166406e-05, 5.407785264260835e-05, 2.7275231204633718e-05, 3.1881172078834616e-05, 2.8512113956652173e-05, 1.7661612933992744e-05, 2.2671497297975444e-05, 1.960915672978718e-05, 2.6813758098509294e-05, 3.1881172078834616e-05, 2.0382259818772148e-05, 2.4234213281498865e-05, 3.10218820542888e-05, 2.6813758098509294e-05, 2.7275231204633718e-05, 3.1881172078834616e-05, ... ]\n",
      "Split on feature grade.A. (32094, 5130)\n",
      "--------------------------------------------------------------------\n",
      "Subtree, depth = 2 (32094 data points).\n",
      "Reached maximum depth. Stopping for now.\n",
      "--------------------------------------------------------------------\n",
      "Subtree, depth = 2 (5130 data points).\n",
      "Reached maximum depth. Stopping for now.\n",
      "=====================================================\n",
      "Adaboost Iteration 24\n",
      "=====================================================\n",
      "--------------------------------------------------------------------\n",
      "Subtree, depth = 1 (37224 data points).\n",
      "[2.0023555222316973e-05, 1.735078862910382e-05, 2.3807718684096942e-05, 2.634186644548886e-05, 3.132009970183922e-05, 3.132009970183922e-05, 3.132009970183922e-05, 2.634186644548886e-05, 3.623544433083543e-05, 2.7536422781893576e-05, 1.6930263055660956e-05, 1.7605221284501043e-05, 2.3160441923057378e-05, 2.036816682767826e-05, 3.132009970183922e-05, 2.3160441923057378e-05, 3.27404099760972e-05, 1.6930263055660956e-05, 3.0475932204639896e-05, 4.553009361757194e-05, 3.132009970183922e-05, 2.0023555222316973e-05, 3.0475932204639896e-05, 3.815614350280283e-05, 2.634186644548886e-05, 2.3160441923057378e-05, 2.3160441923057378e-05, 2.3160441923057378e-05, 3.132009970183922e-05, 3.623544433083543e-05, 2.634186644548886e-05, 3.623544433083543e-05, 2.036816682767826e-05, 2.754407786802561e-05, 3.132009970183922e-05, 3.132009970183922e-05, 3.132009970183922e-05, 4.553009361757194e-05, 2.0023555222316973e-05, 2.3807718684096942e-05, 4.553009361757194e-05, 2.3807718684096942e-05, 1.7605221284501043e-05, 1.6930263055660956e-05, 2.0023555222316973e-05, 3.132009970183922e-05, 3.132009970183922e-05, 3.132009970183922e-05, 5.267554025571545e-05, 3.132009970183922e-05, 3.132009970183922e-05, 4.759480159642833e-05, 3.623544433083543e-05, 2.3807718684096942e-05, 3.132009970183922e-05, 3.460932981781329e-05, 2.227250472494314e-05, 2.0023555222316973e-05, 2.2075597837950156e-05, 2.634186644548886e-05, 2.3807718684096942e-05, 2.3160441923057378e-05, 3.623544433083543e-05, 2.3160441923057378e-05, 2.3160441923057378e-05, 4.553009361757194e-05, 2.634186644548886e-05, 3.460932981781329e-05, 1.6930263055660956e-05, 2.0023555222316973e-05, 2.634186644548886e-05, 3.132009970183922e-05, 1.6930263055660956e-05, 4.4144329901158925e-05, 2.634186644548886e-05, 1.6930263055660956e-05, 2.3160441923057378e-05, 1.7605221284501043e-05, 3.132009970183922e-05, 2.634186644548886e-05, 5.506428140722878e-05, 5.267554025571545e-05, 2.2455525734159485e-05, 2.754407786802561e-05, 2.036816682767826e-05, 5.506428140722878e-05, 2.679521814967949e-05, 3.132009970183922e-05, 2.8010333171702837e-05, 1.735078862910382e-05, 2.227250472494314e-05, 1.926405786861447e-05, 2.634186644548886e-05, 3.132009970183922e-05, 2.0023555222316973e-05, 2.3807718684096942e-05, 3.0475932204639896e-05, 2.634186644548886e-05, 2.679521814967949e-05, 3.132009970183922e-05, ... ]\n",
      "Split on feature emp_length.n/a. (35781, 1443)\n",
      "--------------------------------------------------------------------\n",
      "Subtree, depth = 2 (35781 data points).\n",
      "Reached maximum depth. Stopping for now.\n",
      "--------------------------------------------------------------------\n",
      "Subtree, depth = 2 (1443 data points).\n",
      "Reached maximum depth. Stopping for now.\n",
      "=====================================================\n",
      "Adaboost Iteration 25\n",
      "=====================================================\n",
      "--------------------------------------------------------------------\n",
      "Subtree, depth = 1 (37224 data points).\n",
      "[2.0289042804272142e-05, 1.7580838631064608e-05, 2.4123379594216702e-05, 2.669112702130331e-05, 3.1735365494757385e-05, 3.1735365494757385e-05, 3.1735365494757385e-05, 2.669112702130331e-05, 3.6715881515424055e-05, 2.7901521697590238e-05, 1.715473740852227e-05, 1.7838644748851596e-05, 2.3467520743721182e-05, 2.0638223533388188e-05, 3.1735365494757385e-05, 2.3467520743721182e-05, 3.317450732695562e-05, 1.715473740852227e-05, 3.08800053804075e-05, 4.613376635832726e-05, 3.1735365494757385e-05, 2.0289042804272142e-05, 3.08800053804075e-05, 3.7663308975101216e-05, 2.669112702130331e-05, 2.3467520743721182e-05, 2.3467520743721182e-05, 2.3467520743721182e-05, 3.1735365494757385e-05, 3.6715881515424055e-05, 2.669112702130331e-05, 3.6715881515424055e-05, 2.0638223533388188e-05, 2.790927828069842e-05, 3.1735365494757385e-05, 3.1735365494757385e-05, 3.1735365494757385e-05, 4.613376635832726e-05, 2.0289042804272142e-05, 2.4123379594216702e-05, 4.613376635832726e-05, 2.4123379594216702e-05, 1.7838644748851596e-05, 1.715473740852227e-05, 2.0289042804272142e-05, 3.1735365494757385e-05, 3.1735365494757385e-05, 3.1735365494757385e-05, 5.337395278313144e-05, 3.1735365494757385e-05, 3.1735365494757385e-05, 4.822584981185157e-05, 3.6715881515424055e-05, 2.4123379594216702e-05, 3.1735365494757385e-05, 3.506820673474458e-05, 2.2567810596346033e-05, 2.0289042804272142e-05, 2.179046375899383e-05, 2.669112702130331e-05, 2.4123379594216702e-05, 2.3467520743721182e-05, 3.6715881515424055e-05, 2.3467520743721182e-05, 2.3467520743721182e-05, 4.613376635832726e-05, 2.669112702130331e-05, 3.506820673474458e-05, 1.715473740852227e-05, 2.0289042804272142e-05, 2.669112702130331e-05, 3.1735365494757385e-05, 1.715473740852227e-05, 4.3574150423352315e-05, 2.669112702130331e-05, 1.715473740852227e-05, 2.3467520743721182e-05, 1.7838644748851596e-05, 3.1735365494757385e-05, 2.669112702130331e-05, 5.5794365688496216e-05, 5.337395278313144e-05, 2.216548440913215e-05, 2.790927828069842e-05, 2.0638223533388188e-05, 5.5794365688496216e-05, 2.715048960849571e-05, 3.1735365494757385e-05, 2.838171555315056e-05, 1.7580838631064608e-05, 2.2567810596346033e-05, 1.9519475454822276e-05, 2.669112702130331e-05, 3.1735365494757385e-05, 2.0289042804272142e-05, 2.4123379594216702e-05, 3.08800053804075e-05, 2.669112702130331e-05, 2.715048960849571e-05, 3.1735365494757385e-05, ... ]\n",
      "Split on feature emp_length.2 years. (33652, 3572)\n",
      "--------------------------------------------------------------------\n",
      "Subtree, depth = 2 (33652 data points).\n",
      "Reached maximum depth. Stopping for now.\n",
      "--------------------------------------------------------------------\n",
      "Subtree, depth = 2 (3572 data points).\n",
      "Reached maximum depth. Stopping for now.\n",
      "=====================================================\n",
      "Adaboost Iteration 26\n",
      "=====================================================\n",
      "--------------------------------------------------------------------\n",
      "Subtree, depth = 1 (37224 data points).\n",
      "[1.9997807148268495e-05, 1.7328477436837434e-05, 2.3777104595000504e-05, 2.6307993723073528e-05, 3.127982552288473e-05, 3.127982552288473e-05, 3.127982552288473e-05, 2.6307993723073528e-05, 3.618884956315053e-05, 2.750101399234814e-05, 1.690849261270128e-05, 1.758258292002279e-05, 2.313066016017814e-05, 2.0341975621277194e-05, 3.22043699581586e-05, 2.313066016017814e-05, 3.269830943545482e-05, 1.690849261270128e-05, 3.0436743531580138e-05, 4.5471546960453186e-05, 3.127982552288473e-05, 1.9997807148268495e-05, 3.0436743531580138e-05, 3.712267733454289e-05, 2.6307993723073528e-05, 2.313066016017814e-05, 2.313066016017814e-05, 2.313066016017814e-05, 3.127982552288473e-05, 3.618884956315053e-05, 2.6307993723073528e-05, 3.618884956315053e-05, 2.0341975621277194e-05, 2.7508659234887343e-05, 3.22043699581586e-05, 3.22043699581586e-05, 3.127982552288473e-05, 4.5471546960453186e-05, 1.9997807148268495e-05, 2.3777104595000504e-05, 4.5471546960453186e-05, 2.3777104595000504e-05, 1.758258292002279e-05, 1.690849261270128e-05, 1.9997807148268495e-05, 3.22043699581586e-05, 3.127982552288473e-05, 3.127982552288473e-05, 5.2607805345706253e-05, 3.127982552288473e-05, 3.22043699581586e-05, 4.7533599953552164e-05, 3.618884956315053e-05, 2.3777104595000504e-05, 3.127982552288473e-05, 3.456482605327082e-05, 2.2243864750945727e-05, 1.9997807148268495e-05, 2.147767620816181e-05, 2.6307993723073528e-05, 2.3777104595000504e-05, 2.313066016017814e-05, 3.618884956315053e-05, 2.313066016017814e-05, 2.313066016017814e-05, 4.5471546960453186e-05, 2.6307993723073528e-05, 3.456482605327082e-05, 1.690849261270128e-05, 1.9997807148268495e-05, 2.6307993723073528e-05, 3.127982552288473e-05, 1.690849261270128e-05, 4.2948672602354546e-05, 2.6307993723073528e-05, 1.690849261270128e-05, 2.313066016017814e-05, 1.758258292002279e-05, 3.127982552288473e-05, 2.7085584671657706e-05, 5.49934748406946e-05, 5.2607805345706253e-05, 2.1847313687388046e-05, 2.7508659234887343e-05, 2.0341975621277194e-05, 5.49934748406946e-05, 2.6760762467189393e-05, 3.127982552288473e-05, 2.797431498589017e-05, 1.7328477436837434e-05, 2.2901331377779227e-05, 1.9239286424034918e-05, 2.6307993723073528e-05, 3.127982552288473e-05, 1.9997807148268495e-05, 2.3777104595000504e-05, 3.0436743531580138e-05, 2.6307993723073528e-05, 2.755173599754443e-05, 3.127982552288473e-05, ... ]\n",
      "Split on feature grade.F. (35512, 1712)\n",
      "--------------------------------------------------------------------\n",
      "Subtree, depth = 2 (35512 data points).\n",
      "Reached maximum depth. Stopping for now.\n",
      "--------------------------------------------------------------------\n",
      "Subtree, depth = 2 (1712 data points).\n",
      "Reached maximum depth. Stopping for now.\n",
      "=====================================================\n",
      "Adaboost Iteration 27\n",
      "=====================================================\n",
      "--------------------------------------------------------------------\n",
      "Subtree, depth = 1 (37224 data points).\n",
      "[2.0234593284607894e-05, 1.7128044279078494e-05, 2.405863989977893e-05, 2.661949628644669e-05, 3.165019758298211e-05, 3.165019758298211e-05, 3.165019758298211e-05, 2.661949628644669e-05, 3.6617347438097185e-05, 2.7826642637548256e-05, 1.7108699395745064e-05, 1.7790771340164633e-05, 2.340454117171607e-05, 2.058283692057668e-05, 3.2585689183766656e-05, 2.340454117171607e-05, 3.30854772033329e-05, 1.7108699395745064e-05, 3.079713299079243e-05, 4.6009957589094214e-05, 3.165019758298211e-05, 2.0234593284607894e-05, 3.079713299079243e-05, 3.756223229531676e-05, 2.661949628644669e-05, 2.340454117171607e-05, 2.340454117171607e-05, 2.340454117171607e-05, 3.165019758298211e-05, 3.6617347438097185e-05, 2.661949628644669e-05, 3.6617347438097185e-05, 2.058283692057668e-05, 2.7834378404384888e-05, 3.2585689183766656e-05, 3.2585689183766656e-05, 3.165019758298211e-05, 4.6009957589094214e-05, 2.0234593284607894e-05, 2.405863989977893e-05, 4.6009957589094214e-05, 2.405863989977893e-05, 1.7790771340164633e-05, 1.7108699395745064e-05, 2.0234593284607894e-05, 3.2585689183766656e-05, 3.165019758298211e-05, 3.165019758298211e-05, 5.323071359143276e-05, 3.165019758298211e-05, 3.2585689183766656e-05, 4.809642653727981e-05, 3.6617347438097185e-05, 2.405863989977893e-05, 3.165019758298211e-05, 3.497409450724259e-05, 2.250724556828142e-05, 2.0234593284607894e-05, 2.173198488956739e-05, 2.661949628644669e-05, 2.405863989977893e-05, 2.340454117171607e-05, 3.6617347438097185e-05, 2.340454117171607e-05, 2.340454117171607e-05, 4.6009957589094214e-05, 2.661949628644669e-05, 3.497409450724259e-05, 1.7108699395745064e-05, 2.0234593284607894e-05, 2.661949628644669e-05, 3.165019758298211e-05, 1.7108699395745064e-05, 4.3457210872126687e-05, 2.661949628644669e-05, 1.7108699395745064e-05, 2.340454117171607e-05, 1.7790771340164633e-05, 3.165019758298211e-05, 2.7406294382344698e-05, 5.564463085669476e-05, 5.323071359143276e-05, 2.210599910019739e-05, 2.7834378404384888e-05, 2.058283692057668e-05, 5.564463085669476e-05, 2.7077626086441306e-05, 3.165019758298211e-05, 2.8305547801225315e-05, 1.7128044279078494e-05, 2.3172496997777823e-05, 1.9467091216055263e-05, 2.661949628644669e-05, 3.165019758298211e-05, 2.0234593284607894e-05, 2.405863989977893e-05, 3.079713299079243e-05, 2.661949628644669e-05, 2.7877965221975494e-05, 3.165019758298211e-05, ... ]\n",
      "Split on feature home_ownership.OWN. (34149, 3075)\n",
      "--------------------------------------------------------------------\n",
      "Subtree, depth = 2 (34149 data points).\n",
      "Reached maximum depth. Stopping for now.\n",
      "--------------------------------------------------------------------\n",
      "Subtree, depth = 2 (3075 data points).\n",
      "Reached maximum depth. Stopping for now.\n",
      "=====================================================\n",
      "Adaboost Iteration 28\n",
      "=====================================================\n",
      "--------------------------------------------------------------------\n",
      "Subtree, depth = 1 (37224 data points).\n",
      "[1.9962491863571e-05, 1.7364736649484144e-05, 2.373511523027522e-05, 2.6261534914802107e-05, 3.1224586669172496e-05, 3.1224586669172496e-05, 3.1224586669172496e-05, 2.6261534914802107e-05, 3.612494157985406e-05, 2.7452448360556172e-05, 1.6878632927286987e-05, 1.7551532819532563e-05, 2.3089812389082975e-05, 2.0306052549559947e-05, 3.214749839793484e-05, 2.3089812389082975e-05, 3.264056559892923e-05, 1.6878632927286987e-05, 3.0382993525136288e-05, 4.539124612473466e-05, 3.1224586669172496e-05, 1.9962491863571e-05, 3.0382993525136288e-05, 3.808130462224704e-05, 2.6261534914802107e-05, 2.3089812389082975e-05, 2.3089812389082975e-05, 2.3089812389082975e-05, 3.1224586669172496e-05, 3.612494157985406e-05, 2.6261534914802107e-05, 3.612494157985406e-05, 2.0306052549559947e-05, 2.746008010191923e-05, 3.214749839793484e-05, 3.214749839793484e-05, 3.1224586669172496e-05, 4.539124612473466e-05, 1.9962491863571e-05, 2.373511523027522e-05, 4.66457689956147e-05, 2.373511523027522e-05, 1.8036621932984037e-05, 1.6878632927286987e-05, 2.0514215042392473e-05, 3.214749839793484e-05, 3.1224586669172496e-05, 3.1224586669172496e-05, 5.2514902178407995e-05, 3.1224586669172496e-05, 3.214749839793484e-05, 4.7449657619144665e-05, 3.612494157985406e-05, 2.4391106141331697e-05, 3.1224586669172496e-05, 3.450378602705493e-05, 2.2204583023172878e-05, 1.9962491863571e-05, 2.143974753706761e-05, 2.6261534914802107e-05, 2.373511523027522e-05, 2.3089812389082975e-05, 3.612494157985406e-05, 2.3089812389082975e-05, 2.3089812389082975e-05, 4.539124612473466e-05, 2.6987350991419605e-05, 3.450378602705493e-05, 1.7345124439290927e-05, 1.9962491863571e-05, 2.6261534914802107e-05, 3.1224586669172496e-05, 1.6878632927286987e-05, 4.287282705643613e-05, 2.6261534914802107e-05, 1.6878632927286987e-05, 2.3089812389082975e-05, 1.7551532819532563e-05, 3.1224586669172496e-05, 2.70377526705395e-05, 5.4896358681602544e-05, 5.2514902178407995e-05, 2.1808732252082407e-05, 2.746008010191923e-05, 2.0306052549559947e-05, 5.4896358681602544e-05, 2.671350408839596e-05, 3.2087571527587897e-05, 2.7924913524488957e-05, 1.689771767343007e-05, 2.286088859164965e-05, 1.9205310654971643e-05, 2.6261534914802107e-05, 3.1224586669172496e-05, 1.9962491863571e-05, 2.373511523027522e-05, 3.0382993525136288e-05, 2.6261534914802107e-05, 2.7503080792828757e-05, 3.1224586669172496e-05, ... ]\n",
      "Split on feature emp_length.n/a. (35781, 1443)\n",
      "--------------------------------------------------------------------\n",
      "Subtree, depth = 2 (35781 data points).\n",
      "Reached maximum depth. Stopping for now.\n",
      "--------------------------------------------------------------------\n",
      "Subtree, depth = 2 (1443 data points).\n",
      "Reached maximum depth. Stopping for now.\n",
      "=====================================================\n",
      "Adaboost Iteration 29\n",
      "=====================================================\n",
      "--------------------------------------------------------------------\n",
      "Subtree, depth = 1 (37224 data points).\n",
      "[2.019462171711352e-05, 1.7566659024846763e-05, 2.4011114281890267e-05, 2.6566911933625063e-05, 3.158767554504915e-05, 3.158767554504915e-05, 3.158767554504915e-05, 2.6566911933625063e-05, 3.65450132550474e-05, 2.7771673678761494e-05, 1.7074902742507754e-05, 1.7755627316887366e-05, 2.3358307665365748e-05, 2.0542177429989223e-05, 3.2521319168701894e-05, 2.3358307665365748e-05, 3.302011990326191e-05, 1.7074902742507754e-05, 3.0736296103059625e-05, 4.591906917343307e-05, 3.158767554504915e-05, 2.019462171711352e-05, 3.0736296103059625e-05, 3.7648548212870725e-05, 2.6566911933625063e-05, 2.3358307665365748e-05, 2.3358307665365748e-05, 2.3358307665365748e-05, 3.158767554504915e-05, 3.65450132550474e-05, 2.6566911933625063e-05, 3.65450132550474e-05, 2.0542177429989223e-05, 2.7779394164306235e-05, 3.2521319168701894e-05, 3.2521319168701894e-05, 3.158767554504915e-05, 4.591906917343307e-05, 2.019462171711352e-05, 2.4011114281890267e-05, 4.718818001320363e-05, 2.4011114281890267e-05, 1.824635719230534e-05, 1.7074902742507754e-05, 2.075276049883523e-05, 3.2521319168701894e-05, 3.158767554504915e-05, 3.158767554504915e-05, 5.3125561240151654e-05, 3.158767554504915e-05, 3.2521319168701894e-05, 4.8001416495193345e-05, 3.65450132550474e-05, 2.467473325236685e-05, 3.158767554504915e-05, 3.490500641836985e-05, 2.2462784586402963e-05, 2.019462171711352e-05, 2.1196105985022257e-05, 2.6566911933625063e-05, 2.4011114281890267e-05, 2.3358307665365748e-05, 3.65450132550474e-05, 2.3358307665365748e-05, 2.3358307665365748e-05, 4.591906917343307e-05, 2.730116801766826e-05, 3.490500641836985e-05, 1.7546818757980516e-05, 2.019462171711352e-05, 2.6566911933625063e-05, 3.158767554504915e-05, 1.7074902742507754e-05, 4.238561972777975e-05, 2.6566911933625063e-05, 1.7074902742507754e-05, 2.3358307665365748e-05, 1.7755627316887366e-05, 3.158767554504915e-05, 2.7352155782657212e-05, 5.553471003512433e-05, 5.3125561240151654e-05, 2.156089755324315e-05, 2.7779394164306235e-05, 2.0542177429989223e-05, 5.553471003512433e-05, 2.7024136740573164e-05, 3.246069545070026e-05, 2.824963280958264e-05, 1.7094209411813403e-05, 2.3126721873230874e-05, 1.9428635777909463e-05, 2.6566911933625063e-05, 3.158767554504915e-05, 2.019462171711352e-05, 2.4011114281890267e-05, 3.0736296103059625e-05, 2.6566911933625063e-05, 2.7822894880170128e-05, 3.158767554504915e-05, ... ]\n",
      "Split on feature grade.C. (27812, 9412)\n",
      "--------------------------------------------------------------------\n",
      "Subtree, depth = 2 (27812 data points).\n",
      "Reached maximum depth. Stopping for now.\n",
      "--------------------------------------------------------------------\n",
      "Subtree, depth = 2 (9412 data points).\n",
      "Reached maximum depth. Stopping for now.\n"
     ]
    }
   ],
   "source": [
    "# this may take a while... \n",
    "stump_weights, tree_stumps = adaboost_with_tree_stumps(train_data, \n",
    "                                 features, target, num_tree_stumps=30)"
   ]
  },
  {
   "cell_type": "markdown",
   "metadata": {},
   "source": [
    "### Computing training error at the end of each iteration\n",
    "\n",
    "Now, we will compute the classification error on the **train_data** and see how it is reduced as trees are added."
   ]
  },
  {
   "cell_type": "code",
   "execution_count": 38,
   "metadata": {
    "collapsed": false
   },
   "outputs": [
    {
     "name": "stdout",
     "output_type": "stream",
     "text": [
      "Iteration 1, training error = 0.421636578551\n",
      "Iteration 2, training error = 0.433430045132\n",
      "Iteration 3, training error = 0.400037610144\n",
      "Iteration 4, training error = 0.400037610144\n",
      "Iteration 5, training error = 0.384724908661\n",
      "Iteration 6, training error = 0.384617451107\n",
      "Iteration 7, training error = 0.382763808296\n",
      "Iteration 8, training error = 0.384617451107\n",
      "Iteration 9, training error = 0.382763808296\n",
      "Iteration 10, training error = 0.384483129164\n",
      "Iteration 11, training error = 0.382736943907\n",
      "Iteration 12, training error = 0.381447453256\n",
      "Iteration 13, training error = 0.381528046422\n",
      "Iteration 14, training error = 0.380560928433\n",
      "Iteration 15, training error = 0.380507199656\n",
      "Iteration 16, training error = 0.378223726628\n",
      "Iteration 17, training error = 0.378277455405\n",
      "Iteration 18, training error = 0.378411777348\n",
      "Iteration 19, training error = 0.378062540297\n",
      "Iteration 20, training error = 0.378761014399\n",
      "Iteration 21, training error = 0.379566946056\n",
      "Iteration 22, training error = 0.378895336342\n",
      "Iteration 23, training error = 0.378895336342\n",
      "Iteration 24, training error = 0.378761014399\n",
      "Iteration 25, training error = 0.378895336342\n",
      "Iteration 26, training error = 0.378975929508\n",
      "Iteration 27, training error = 0.379110251451\n",
      "Iteration 28, training error = 0.378922200731\n",
      "Iteration 29, training error = 0.379029658285\n",
      "Iteration 30, training error = 0.378734150011\n"
     ]
    }
   ],
   "source": [
    "error_all = []\n",
    "for n in xrange(1, 31):\n",
    "    predictions = predict_adaboost(stump_weights[:n], tree_stumps[:n], train_data)\n",
    "    error = 1.0 - graphlab.evaluation.accuracy(train_data[target], predictions)\n",
    "    error_all.append(error)\n",
    "    print \"Iteration %s, training error = %s\" % (n, error_all[n-1])"
   ]
  },
  {
   "cell_type": "markdown",
   "metadata": {},
   "source": [
    "### Visualizing training error vs number of iterations\n",
    "\n",
    "We have provided you with a simple code snippet that plots classification error with the number of iterations. "
   ]
  },
  {
   "cell_type": "code",
   "execution_count": 39,
   "metadata": {
    "collapsed": false
   },
   "outputs": [
    {
     "data": {
      "image/png": "[encoded data removed]",
      "text/plain": [
       "<matplotlib.figure.Figure at 0x2f0b72b0>"
      ]
     },
     "metadata": {},
     "output_type": "display_data"
    }
   ],
   "source": [
    "plt.rcParams['figure.figsize'] = 7, 5\n",
    "plt.plot(range(1,31), error_all, '-', linewidth=4.0, label='Training error')\n",
    "plt.title('Performance of Adaboost ensemble')\n",
    "plt.xlabel('# of iterations')\n",
    "plt.ylabel('Classification error')\n",
    "plt.legend(loc='best', prop={'size':15})\n",
    "\n",
    "plt.rcParams.update({'font.size': 16})"
   ]
  },
  {
   "cell_type": "markdown",
   "metadata": {},
   "source": [
    "**Quiz Question**: Which of the following best describes a **general trend in accuracy** as we add more and more components? Answer based on the 30 components learned so far.\n",
    "\n",
    "1. Training error goes down monotonically, i.e. the training error reduces with each iteration but never increases.\n",
    "2. Training error goes down in general, with some ups and downs in the middle.\n",
    "3. Training error goes up in general, with some ups and downs in the middle.\n",
    "4. Training error goes down in the beginning, achieves the best error, and then goes up sharply.\n",
    "5. None of the above\n",
    "\n",
    "\n",
    "### Evaluation on the test data\n",
    "\n",
    "Performing well on the training data is cheating, so lets make sure it works on the `test_data` as well. Here, we will compute the classification error on the `test_data` at the end of each iteration."
   ]
  },
  {
   "cell_type": "code",
   "execution_count": 40,
   "metadata": {
    "collapsed": false
   },
   "outputs": [
    {
     "name": "stdout",
     "output_type": "stream",
     "text": [
      "Iteration 1, test error = 0.42330891857\n",
      "Iteration 2, test error = 0.428479103835\n",
      "Iteration 3, test error = 0.398104265403\n",
      "Iteration 4, test error = 0.398104265403\n",
      "Iteration 5, test error = 0.379900904782\n",
      "Iteration 6, test error = 0.380008616975\n",
      "Iteration 7, test error = 0.379254631624\n",
      "Iteration 8, test error = 0.380008616975\n",
      "Iteration 9, test error = 0.379254631624\n",
      "Iteration 10, test error = 0.379685480396\n",
      "Iteration 11, test error = 0.379254631624\n",
      "Iteration 12, test error = 0.377962085308\n",
      "Iteration 13, test error = 0.379254631624\n",
      "Iteration 14, test error = 0.377854373115\n",
      "Iteration 15, test error = 0.378500646273\n",
      "Iteration 16, test error = 0.377854373115\n",
      "Iteration 17, test error = 0.377962085308\n",
      "Iteration 18, test error = 0.377854373115\n",
      "Iteration 19, test error = 0.378177509694\n",
      "Iteration 20, test error = 0.376884963378\n",
      "Iteration 21, test error = 0.377531236536\n",
      "Iteration 22, test error = 0.376777251185\n",
      "Iteration 23, test error = 0.376777251185\n",
      "Iteration 24, test error = 0.376884963378\n",
      "Iteration 25, test error = 0.376777251185\n",
      "Iteration 26, test error = 0.376561826799\n",
      "Iteration 27, test error = 0.376454114606\n",
      "Iteration 28, test error = 0.376992675571\n",
      "Iteration 29, test error = 0.376777251185\n",
      "Iteration 30, test error = 0.376777251185\n"
     ]
    }
   ],
   "source": [
    "test_error_all = []\n",
    "for n in xrange(1, 31):\n",
    "    predictions = predict_adaboost(stump_weights[:n], tree_stumps[:n], test_data)\n",
    "    error = 1.0 - graphlab.evaluation.accuracy(test_data[target], predictions)\n",
    "    test_error_all.append(error)\n",
    "    print \"Iteration %s, test error = %s\" % (n, test_error_all[n-1])"
   ]
  },
  {
   "cell_type": "markdown",
   "metadata": {},
   "source": [
    "### Visualize both the training and test errors\n",
    "\n",
    "Now, let us plot the training & test error with the number of iterations."
   ]
  },
  {
   "cell_type": "code",
   "execution_count": 41,
   "metadata": {
    "collapsed": false
   },
   "outputs": [
    {
     "data": {
      "image/png": "[encoded data removed]",
      "text/plain": [
       "<matplotlib.figure.Figure at 0x2f0ad748>"
      ]
     },
     "metadata": {},
     "output_type": "display_data"
    }
   ],
   "source": [
    "plt.rcParams['figure.figsize'] = 7, 5\n",
    "plt.plot(range(1,31), error_all, '-', linewidth=4.0, label='Training error')\n",
    "plt.plot(range(1,31), test_error_all, '-', linewidth=4.0, label='Test error')\n",
    "\n",
    "plt.title('Performance of Adaboost ensemble')\n",
    "plt.xlabel('# of iterations')\n",
    "plt.ylabel('Classification error')\n",
    "plt.rcParams.update({'font.size': 16})\n",
    "plt.legend(loc='best', prop={'size':15})\n",
    "plt.tight_layout()"
   ]
  },
  {
   "cell_type": "markdown",
   "metadata": {},
   "source": [
    "** Quiz Question:** From this plot (with 30 trees), is there massive overfitting as the # of iterations increases?"
   ]
  },
  {
   "cell_type": "code",
   "execution_count": null,
   "metadata": {
    "collapsed": true
   },
   "outputs": [],
   "source": []
  }
 ],
 "metadata": {
  "kernelspec": {
   "display_name": "Python [conda env:ipykernel_py2]",
   "language": "python",
   "name": "conda-env-ipykernel_py2-py"
  },
  "language_info": {
   "codemirror_mode": {
    "name": "ipython",
    "version": 2
   },
   "file_extension": ".py",
   "mimetype": "text/x-python",
   "name": "python",
   "nbconvert_exporter": "python",
   "pygments_lexer": "ipython2",
   "version": "2.7.13"
  }
 },
 "nbformat": 4,
 "nbformat_minor": 0
}
